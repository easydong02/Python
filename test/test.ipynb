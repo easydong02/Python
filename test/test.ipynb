{
 "cells": [
  {
   "cell_type": "code",
   "execution_count": 1,
   "source": [
    "#091\r\n",
    "inventory ={'메로나':[300,20], '비비빅':[400,3],\"죠스바\":[250,100]}\r\n",
    "print(inventory)"
   ],
   "outputs": [
    {
     "output_type": "stream",
     "name": "stdout",
     "text": [
      "{'메로나': [300, 20], '비비빅': [400, 3], '죠스바': [250, 100]}\n"
     ]
    }
   ],
   "metadata": {}
  },
  {
   "cell_type": "code",
   "execution_count": 5,
   "source": [
    "#092\r\n",
    "print(inventory['메로나'][0],end=' 원')"
   ],
   "outputs": [
    {
     "output_type": "stream",
     "name": "stdout",
     "text": [
      "300 원"
     ]
    }
   ],
   "metadata": {}
  },
  {
   "cell_type": "code",
   "execution_count": null,
   "source": [
    "#093\r\n",
    "print(inventory['메로나'][1],end=' 원')"
   ],
   "outputs": [],
   "metadata": {}
  },
  {
   "cell_type": "code",
   "execution_count": 7,
   "source": [
    "#094\r\n",
    "inventory['월드콘'] = [500,7]\r\n",
    "\r\n",
    "print(inventory)"
   ],
   "outputs": [
    {
     "output_type": "stream",
     "name": "stdout",
     "text": [
      "{'메로나': [300, 20], '비비빅': [400, 3], '죠스바': [250, 100], '월드콘': [500, 7]}\n"
     ]
    }
   ],
   "metadata": {}
  },
  {
   "cell_type": "code",
   "execution_count": 22,
   "source": [
    "#095\r\n",
    "icecream ={'탱크보이':1200,'폴라포':1200,'빵빠레':1800,'월드콘':1500,'메로나':1000,}\r\n",
    "print(icecream.keys())"
   ],
   "outputs": [
    {
     "output_type": "stream",
     "name": "stdout",
     "text": [
      "dict_keys(['탱크보이', '폴라포', '빵빠레', '월드콘', '메로나'])\n"
     ]
    }
   ],
   "metadata": {}
  },
  {
   "cell_type": "code",
   "execution_count": 12,
   "source": [
    "#096\r\n",
    "print(icecream.values())"
   ],
   "outputs": [
    {
     "output_type": "stream",
     "name": "stdout",
     "text": [
      "dict_values([1200, 1200, 1800, 1500, 1000])\n"
     ]
    }
   ],
   "metadata": {}
  },
  {
   "cell_type": "code",
   "execution_count": 14,
   "source": [
    "#097\r\n",
    "sum =0\r\n",
    "for n in icecream.values():\r\n",
    "    sum +=n\r\n",
    "print(sum)"
   ],
   "outputs": [
    {
     "output_type": "stream",
     "name": "stdout",
     "text": [
      "6700\n"
     ]
    }
   ],
   "metadata": {}
  },
  {
   "cell_type": "code",
   "execution_count": 25,
   "source": [
    "#098\r\n",
    "icecream ={'탱크보이':1200,'폴라포':1200,'빵빠레':1800,'월드콘':1500,'메로나':1000,}\r\n",
    "new_product= {'팥빙수':2700,'아맛나':1000}\r\n",
    "\r\n",
    "icecream.update(new_product)\r\n",
    "\r\n",
    "print(icecream)"
   ],
   "outputs": [
    {
     "output_type": "stream",
     "name": "stdout",
     "text": [
      "{'탱크보이': 1200, '폴라포': 1200, '빵빠레': 1800, '월드콘': 1500, '메로나': 1000, '팥빙수': 2700, '아맛나': 1000}\n"
     ]
    }
   ],
   "metadata": {}
  },
  {
   "cell_type": "code",
   "execution_count": 38,
   "source": [
    "#099\r\n",
    "result = {}\r\n",
    "keys =(\"apple\",\"pear\",\"peach\")\r\n",
    "vals =(300,250,400)\r\n",
    "i =0\r\n",
    "while i<len(keys):\r\n",
    "    result[keys[i]]=[vals[i]]\r\n",
    "    i +=1\r\n",
    "print(result)"
   ],
   "outputs": [
    {
     "output_type": "stream",
     "name": "stdout",
     "text": [
      "{'apple': [300], 'pear': [250], 'peach': [400]}\n"
     ]
    }
   ],
   "metadata": {}
  },
  {
   "cell_type": "code",
   "execution_count": 44,
   "source": [
    "#100\r\n",
    "close_table = {}\r\n",
    "date =(\"09/05\",\"09/06\",\"09/07\",\"09/08\",\"09/09\")\r\n",
    "vals =(10500,10300,10100,10800,11000)\r\n",
    "i =0\r\n",
    "while i<len(date):\r\n",
    "    close_table[date[i]]=[vals[i]]\r\n",
    "    i +=1\r\n",
    "print(close_table)\r\n"
   ],
   "outputs": [
    {
     "output_type": "stream",
     "name": "stdout",
     "text": [
      "{'09/05': [10500], '09/06': [10300], '09/07': [10100], '09/08': [10800], '09/09': [11000]}\n"
     ]
    },
    {
     "output_type": "execute_result",
     "data": {
      "text/plain": [
       "zip"
      ]
     },
     "metadata": {},
     "execution_count": 44
    }
   ],
   "metadata": {}
  },
  {
   "cell_type": "code",
   "execution_count": 43,
   "source": [
    "#151\r\n",
    "list = [3,-20,-3,44]\r\n",
    "\r\n",
    "for n in list:\r\n",
    "    if n<0:\r\n",
    "        print(n)\r\n"
   ],
   "outputs": [
    {
     "output_type": "stream",
     "name": "stdout",
     "text": [
      "-20\n",
      "-3\n"
     ]
    }
   ],
   "metadata": {}
  },
  {
   "cell_type": "code",
   "execution_count": 45,
   "source": [
    "#152\r\n",
    "list =[3,100,23,44]\r\n",
    "for n in list:\r\n",
    "    if n%3 ==0:\r\n",
    "        print(n)\r\n",
    "\r\n"
   ],
   "outputs": [
    {
     "output_type": "stream",
     "name": "stdout",
     "text": [
      "3\n"
     ]
    }
   ],
   "metadata": {}
  },
  {
   "cell_type": "code",
   "execution_count": 63,
   "source": [
    "#153\r\n",
    "list = [13,21,12,14,30,18]\r\n",
    "for n in list:\r\n",
    "    if n<20 and n%3==0:\r\n",
    "        print(n)\r\n",
    "        "
   ],
   "outputs": [
    {
     "output_type": "stream",
     "name": "stdout",
     "text": [
      "12\n",
      "18\n"
     ]
    }
   ],
   "metadata": {}
  },
  {
   "cell_type": "code",
   "execution_count": 47,
   "source": [
    "#154\r\n",
    "list=[\"I\",\"study\",\"python\",\"language\",\"!\"]\r\n",
    "\r\n",
    "for n in list:\r\n",
    "    if len(n)>=3:\r\n",
    "        print(n)"
   ],
   "outputs": [
    {
     "output_type": "stream",
     "name": "stdout",
     "text": [
      "study\n",
      "python\n",
      "language\n"
     ]
    }
   ],
   "metadata": {}
  },
  {
   "cell_type": "code",
   "execution_count": 49,
   "source": [
    "#155\r\n",
    "list = [\"A\",\"b\",\"C\",\"D\"]\r\n",
    "\r\n",
    "for n in list:\r\n",
    "    if n.isupper():\r\n",
    "        print(n)"
   ],
   "outputs": [
    {
     "output_type": "stream",
     "name": "stdout",
     "text": [
      "A\n",
      "C\n",
      "D\n"
     ]
    }
   ],
   "metadata": {}
  },
  {
   "cell_type": "code",
   "execution_count": 50,
   "source": [
    "#156\r\n",
    "list = [\"A\",\"b\",\"c\",\"D\"]\r\n",
    "for n in list:\r\n",
    "    if n.islower():\r\n",
    "        print(n)"
   ],
   "outputs": [
    {
     "output_type": "stream",
     "name": "stdout",
     "text": [
      "b\n",
      "c\n"
     ]
    }
   ],
   "metadata": {}
  },
  {
   "cell_type": "code",
   "execution_count": 75,
   "source": [
    "#157\r\n",
    "list = ['dog','cat','parrot']\r\n",
    "\r\n",
    "\r\n",
    "for n in list:\r\n",
    "    print(n.title())"
   ],
   "outputs": [
    {
     "output_type": "stream",
     "name": "stdout",
     "text": [
      "Dog\n",
      "Cat\n",
      "Parrot\n"
     ]
    }
   ],
   "metadata": {}
  },
  {
   "cell_type": "code",
   "execution_count": 84,
   "source": [
    "#158\r\n",
    "list =['hello.py','ex01.py','intro.hwp']\r\n",
    "\r\n",
    "for n in list:\r\n",
    "    print(n[:n.find(\".\")])"
   ],
   "outputs": [
    {
     "output_type": "stream",
     "name": "stdout",
     "text": [
      "hello\n",
      "ex01\n",
      "intro\n"
     ]
    }
   ],
   "metadata": {}
  },
  {
   "cell_type": "code",
   "execution_count": 85,
   "source": [
    "#159\r\n",
    "list =['intra.h','intra.c','define.h','run.py']\r\n",
    "\r\n",
    "for n in list:\r\n",
    "    if n.endswith(\"h\"):\r\n",
    "        print(n)"
   ],
   "outputs": [
    {
     "output_type": "stream",
     "name": "stdout",
     "text": [
      "intra.h\n",
      "define.h\n"
     ]
    }
   ],
   "metadata": {}
  },
  {
   "cell_type": "code",
   "execution_count": 1,
   "source": [
    "#160\r\n",
    "list =['intra.h','intra.c','define.h','run.py']\r\n",
    "\r\n",
    "for n in list:\r\n",
    "    if n.endswith(\"h\") or n.endswith(\"c\"):\r\n",
    "        print(n)"
   ],
   "outputs": [
    {
     "output_type": "stream",
     "name": "stdout",
     "text": [
      "intra.h\n",
      "intra.c\n",
      "define.h\n"
     ]
    }
   ],
   "metadata": {}
  },
  {
   "cell_type": "code",
   "execution_count": 2,
   "source": [
    "i = 'abcderf'\r\n",
    "d = i[::-1]\r\n",
    "print(d)"
   ],
   "outputs": [
    {
     "output_type": "stream",
     "name": "stdout",
     "text": [
      "fredcba\n"
     ]
    }
   ],
   "metadata": {}
  },
  {
   "cell_type": "code",
   "execution_count": 14,
   "source": [
    "def print_5xn(str):\r\n",
    "  a=0\r\n",
    "  b=5\r\n",
    "  while b<=len(str):\r\n",
    "    print(str[a:b])\r\n",
    "    a+=5\r\n",
    "    b+=5\r\n",
    "  print(str[b:])\r\n",
    "print_5xn('가나다라마바사아자차')"
   ],
   "outputs": [
    {
     "output_type": "stream",
     "name": "stdout",
     "text": [
      "가나다라마\n",
      "바사아자차\n",
      "\n"
     ]
    }
   ],
   "metadata": {}
  },
  {
   "cell_type": "code",
   "execution_count": 2,
   "source": [
    "def pickup_even(list):\r\n",
    "  even=[]\r\n",
    "  for n in list:\r\n",
    "    if n%2==0:\r\n",
    "      even.append(n)\r\n",
    "  return even\r\n",
    "\r\n",
    "print(pickup_even([3,4,5,6,7,8]))"
   ],
   "outputs": [
    {
     "output_type": "stream",
     "name": "stdout",
     "text": [
      "[4, 6, 8]\n"
     ]
    }
   ],
   "metadata": {}
  },
  {
   "cell_type": "code",
   "execution_count": 9,
   "source": [
    "#235\r\n",
    "\r\n",
    "def convert_int(nums):\r\n",
    "  converted=nums.replace(',','')\r\n",
    "  return converted\r\n",
    "\r\n",
    "print(convert_int(\"1,234,567\"))"
   ],
   "outputs": [
    {
     "output_type": "stream",
     "name": "stdout",
     "text": [
      "1234567\n"
     ]
    }
   ],
   "metadata": {}
  },
  {
   "cell_type": "code",
   "execution_count": 13,
   "source": [
    "f = open('매수종목1.txt' ,'a')\r\n",
    "\r\n",
    "f.write('005930\\n')\r\n",
    "f.write('005380\\n')\r\n",
    "f.write('035420\\n')\r\n",
    "\r\n",
    "f.close()\r\n",
    "\r\n",
    "#C:\\Users\\user\\OneDrive\\바탕 화면"
   ],
   "outputs": [],
   "metadata": {}
  },
  {
   "cell_type": "code",
   "execution_count": 89,
   "source": [
    "a=888\r\n",
    "\r\n",
    "str(a).count('8')\r\n",
    "\r\n",
    "    "
   ],
   "outputs": [
    {
     "output_type": "execute_result",
     "data": {
      "text/plain": [
       "3"
      ]
     },
     "metadata": {},
     "execution_count": 89
    }
   ],
   "metadata": {}
  },
  {
   "cell_type": "code",
   "execution_count": 92,
   "source": [
    "cnt=0\r\n",
    "for n in range(1,10001):\r\n",
    "    if str(n).count('8')>0:\r\n",
    "        cnt+=1\r\n",
    "        \r\n",
    "        \r\n",
    "\r\n",
    "\r\n",
    "print(cnt)\r\n"
   ],
   "outputs": [
    {
     "output_type": "stream",
     "name": "stdout",
     "text": [
      "3439\n"
     ]
    }
   ],
   "metadata": {}
  },
  {
   "cell_type": "code",
   "execution_count": 1,
   "source": [
    "result = [ str(n).count('8') for n in range(1,10001) if str(n).count('8')>0] # 1부터 10000까지 8의개수값을 추출해서 result에 추가, 단 8을 1개이상 가지고 있을때\r\n",
    "print(sum(result))  # 그 개수값의 전체합을 출력"
   ],
   "outputs": [
    {
     "output_type": "stream",
     "name": "stdout",
     "text": [
      "4000\n"
     ]
    }
   ],
   "metadata": {}
  },
  {
   "cell_type": "code",
   "execution_count": 10,
   "source": [
    "x = [1.0, 2.0, 3.0] \r\n",
    "print(x[2.0])"
   ],
   "outputs": [
    {
     "output_type": "error",
     "ename": "TypeError",
     "evalue": "list indices must be integers or slices, not float",
     "traceback": [
      "\u001b[1;31m---------------------------------------------------------------------------\u001b[0m",
      "\u001b[1;31mTypeError\u001b[0m                                 Traceback (most recent call last)",
      "\u001b[1;32m<ipython-input-10-015483eb00dd>\u001b[0m in \u001b[0;36m<module>\u001b[1;34m\u001b[0m\n\u001b[0;32m      1\u001b[0m \u001b[0mx\u001b[0m \u001b[1;33m=\u001b[0m \u001b[1;33m[\u001b[0m\u001b[1;36m1.0\u001b[0m\u001b[1;33m,\u001b[0m \u001b[1;36m2.0\u001b[0m\u001b[1;33m,\u001b[0m \u001b[1;36m3.0\u001b[0m\u001b[1;33m]\u001b[0m\u001b[1;33m\u001b[0m\u001b[1;33m\u001b[0m\u001b[0m\n\u001b[1;32m----> 2\u001b[1;33m \u001b[0mprint\u001b[0m\u001b[1;33m(\u001b[0m\u001b[0mx\u001b[0m\u001b[1;33m[\u001b[0m\u001b[1;36m2.0\u001b[0m\u001b[1;33m]\u001b[0m\u001b[1;33m)\u001b[0m\u001b[1;33m\u001b[0m\u001b[1;33m\u001b[0m\u001b[0m\n\u001b[0m",
      "\u001b[1;31mTypeError\u001b[0m: list indices must be integers or slices, not float"
     ]
    }
   ],
   "metadata": {}
  },
  {
   "cell_type": "code",
   "execution_count": 12,
   "source": [
    "arr=[1,2,3,4,5,6,7,8,9,10,11,13,15,14]\r\n",
    "i=0\r\n",
    "even =0\r\n",
    "\r\n",
    "while i<len(arr):\r\n",
    "    if arr[i]%2==0:\r\n",
    "        even +=1\r\n",
    "    i +=1\r\n",
    "\r\n",
    "print('홀수는 {}개, 짝수는 {}개'.format(len(arr)-even,even))\r\n"
   ],
   "outputs": [
    {
     "output_type": "stream",
     "name": "stdout",
     "text": [
      "홀수는 8개, 짝수는 6개\n"
     ]
    }
   ],
   "metadata": {}
  },
  {
   "cell_type": "code",
   "execution_count": 60,
   "source": [
    "def triangle(a):\r\n",
    "    if len(a) !=3 or sum(a) !=180 or a.count(0)>0:\r\n",
    "        print('삼각형 아니다')\r\n",
    "    else:\r\n",
    "        cnt =0\r\n",
    "        for i in a:\r\n",
    "            if i ==90:\r\n",
    "                print('직각삼각형')\r\n",
    "                break \r\n",
    "            elif i>90:\r\n",
    "                print('둔각 삼각형')\r\n",
    "                break\r\n",
    "            else:\r\n",
    "                cnt +=1\r\n",
    "            if cnt ==3:\r\n",
    "                print('예각 삼각형')\r\n",
    "\r\n",
    "triangle([50,50,80])"
   ],
   "outputs": [
    {
     "output_type": "stream",
     "name": "stdout",
     "text": [
      "예각 삼각형\n"
     ]
    }
   ],
   "metadata": {}
  },
  {
   "cell_type": "code",
   "execution_count": 54,
   "source": [
    "a = [1,1,3,4]\r\n",
    "a.count(1)\r\n",
    "\r\n",
    "print(a.count(1))"
   ],
   "outputs": [
    {
     "output_type": "stream",
     "name": "stdout",
     "text": [
      "2\n"
     ]
    }
   ],
   "metadata": {}
  }
 ],
 "metadata": {
  "orig_nbformat": 4,
  "language_info": {
   "name": "python",
   "version": "3.8.8",
   "mimetype": "text/x-python",
   "codemirror_mode": {
    "name": "ipython",
    "version": 3
   },
   "pygments_lexer": "ipython3",
   "nbconvert_exporter": "python",
   "file_extension": ".py"
  },
  "kernelspec": {
   "name": "python3",
   "display_name": "Python 3.8.8 64-bit ('base': conda)"
  },
  "interpreter": {
   "hash": "b3ba2566441a7c06988d0923437866b63cedc61552a5af99d1f4fb67d367b25f"
  }
 },
 "nbformat": 4,
 "nbformat_minor": 2
}