{
 "cells": [
  {
   "cell_type": "code",
   "execution_count": 2,
   "source": [
    "#예외처리 (오류처리, 에러처리, 모든 프로그램에는 오류가 있다.)\r\n",
    "\r\n",
    "text ='abc'\r\n",
    "\r\n",
    "try:\r\n",
    "    number: int(text)\r\n",
    "except:\r\n",
    "    print(\"{}는 숫자가 아닙니다.\".format(text))\r\n",
    "    \r\n",
    "finally:\r\n",
    "    print('프로그램을 종료합니다.')\r\n"
   ],
   "outputs": [
    {
     "output_type": "stream",
     "name": "stdout",
     "text": [
      "abc는 숫자가 아닙니다.\n",
      "프로그램을 종료합니다.\n"
     ]
    }
   ],
   "metadata": {}
  },
  {
   "cell_type": "code",
   "execution_count": 5,
   "source": [
    "def intExam(number):\r\n",
    "    try:\r\n",
    "        number=int(text)\r\n",
    "        print(number)\r\n",
    "    except:\r\n",
    "        print('{}는 숫자가 아닙니다.'.format(text))\r\n",
    "    \r\n",
    "    finally:\r\n",
    "        print('프로그램을 종료합니다.')\r\n",
    "\r\n",
    "intExam('lskdfjls')"
   ],
   "outputs": [
    {
     "output_type": "stream",
     "name": "stdout",
     "text": [
      "abc는 숫자가 아닙니다.\n",
      "프로그램을 종료합니다.\n"
     ]
    }
   ],
   "metadata": {}
  },
  {
   "cell_type": "code",
   "execution_count": 6,
   "source": [
    "# 예외의 이름을 알아내는 방법\r\n",
    "\r\n",
    "try:\r\n",
    "    5/5\r\n",
    "    int('abc')\r\n",
    "except ZeroDivisionError as z:\r\n",
    "    print('0으로 나눌 수 없습니다.')\r\n",
    "except ValueError:\r\n",
    "    print('밸류 에러가 났습니다.')"
   ],
   "outputs": [
    {
     "output_type": "stream",
     "name": "stdout",
     "text": [
      "밸류 에러가 났습니다.\n"
     ]
    }
   ],
   "metadata": {}
  },
  {
   "cell_type": "code",
   "execution_count": 9,
   "source": [
    "# raise 에러를 직접 발생시킨다.\r\n",
    "\r\n",
    "def rsp(mine,yours):\r\n",
    "    allowed=['가위','바위','보']\r\n",
    "    if mine not in allowed:\r\n",
    "        raise ValueError\r\n",
    "    if yours not in allowed:\r\n",
    "        raise ValueError\r\n",
    "    print('게임을 진행합니다')\r\n",
    "\r\n",
    "rsp('가위','바위')"
   ],
   "outputs": [
    {
     "output_type": "stream",
     "name": "stdout",
     "text": [
      "게임을 진행합니다\n"
     ]
    }
   ],
   "metadata": {}
  },
  {
   "cell_type": "code",
   "execution_count": 29,
   "source": [
    "classrooms ={'1반':[162,175,198,137,145,199],'2반':[165,177,157,160,199]}\r\n",
    "\r\n",
    "try:\r\n",
    "    for n in classrooms.keys():\r\n",
    "        for a in classrooms[n]:\r\n",
    "            if a>190:\r\n",
    "                print('{}에 190넘는 사람이 있습니다.'.format(n))\r\n",
    "                raise StopIteration\r\n",
    "except StopIteration:\r\n",
    "    print('190이 넘는 학생을 찾았습니다.')"
   ],
   "outputs": [
    {
     "output_type": "stream",
     "name": "stdout",
     "text": [
      "1반에 190넘는 사람이 있습니다.\n",
      "190이 넘는 학생을 찾았습니다.\n"
     ]
    }
   ],
   "metadata": {}
  },
  {
   "cell_type": "code",
   "execution_count": null,
   "source": [
    "#클래스와 객체 지향 프로그래밍\r\n",
    "\r\n",
    "class Human():\r\n",
    "    def speak(person):\r\n",
    "        print(\"{} 말을 합니다.\".format(person.language))\r\n",
    "\r\n",
    "\r\n",
    "\r\n",
    "\r\n",
    "person1 =Human()\r\n",
    "person2 =Human()"
   ],
   "outputs": [],
   "metadata": {}
  },
  {
   "cell_type": "code",
   "execution_count": 33,
   "source": [
    "#클래스를 사용하는 이유는 현실 개념을 코드로 더 쉽게 표현하기 위해서이다.\r\n",
    "\r\n",
    "class Human():\r\n",
    "    def create_human(name,weight):\r\n",
    "        person = Human()\r\n",
    "        person.name =name\r\n",
    "        person.weight = weight\r\n",
    "        return person\r\n",
    "\r\n",
    "donghee = Human.create_human(\"신동희\",73)\r\n",
    "print(donghee.name)\r\n",
    "\r\n",
    "# 질문 : name과 weight를 전역변수로 빼고싶은데 어떻게 하지?"
   ],
   "outputs": [
    {
     "output_type": "stream",
     "name": "stdout",
     "text": [
      "신동희\n"
     ]
    }
   ],
   "metadata": {}
  },
  {
   "cell_type": "code",
   "execution_count": 2,
   "source": [
    "class Animal():\r\n",
    "    def __init__(self,name):\r\n",
    "        self.name=name\r\n",
    "    def walk(self):\r\n",
    "        print('걷는다')\r\n",
    "    def eat(self):\r\n",
    "        print('먹는다')\r\n",
    "    def greet(self):\r\n",
    "        print('{}이/가 인사한다'.format(self.name))"
   ],
   "outputs": [],
   "metadata": {}
  },
  {
   "cell_type": "code",
   "execution_count": 3,
   "source": [
    "# 상속과 다형성\r\n",
    "\r\n",
    "class Human(Animal):\r\n",
    "    def __init__(self,name,hand):\r\n",
    "        super().__init__(name)  #부모의 생성자를 호출\r\n",
    "        self.hand=hand          #자식은 hand에 관련된 부분만 처리\r\n",
    "    def wave(self):\r\n",
    "        print('{}을 흔든다'.format(self.hand))\r\n",
    "    def greet(self):\r\n",
    "        self.wave()     #self는 자기자신\r\n",
    "        super().greet() #super()는 부모\r\n",
    "\r\n",
    "person1 = Human('동희','오른손')\r\n",
    "\r\n",
    "\r\n",
    "person1.greet()\r\n"
   ],
   "outputs": [
    {
     "output_type": "stream",
     "name": "stdout",
     "text": [
      "오른손을 흔든다\n",
      "동희이/가 인사한다\n"
     ]
    }
   ],
   "metadata": {}
  },
  {
   "cell_type": "code",
   "execution_count": 39,
   "source": [
    "class Dog(Animal):\r\n",
    "\r\n",
    "    def wag(self):\r\n",
    "        print('꼬리를 흔든다')\r\n",
    "\r\n",
    "dog = Dog()\r\n",
    "\r\n",
    "dog.wag()"
   ],
   "outputs": [
    {
     "output_type": "stream",
     "name": "stdout",
     "text": [
      "꼬리를 흔든다\n"
     ]
    }
   ],
   "metadata": {}
  },
  {
   "cell_type": "code",
   "execution_count": 40,
   "source": [
    "# 메서드 오버 라이드 override\r\n",
    "\r\n",
    "class Cat(Animal):\r\n",
    "    def walk(self):\r\n",
    "        print(\"우아하게 걷는다\")\r\n",
    "\r\n",
    "cat = Cat()\r\n",
    "\r\n",
    "cat.walk()"
   ],
   "outputs": [
    {
     "output_type": "stream",
     "name": "stdout",
     "text": [
      "우아하게 걷는다\n"
     ]
    }
   ],
   "metadata": {}
  },
  {
   "cell_type": "code",
   "execution_count": 51,
   "source": [
    "class Car():\r\n",
    "    def __init__(self,name):\r\n",
    "     self.name =name\r\n",
    "    def run(self):\r\n",
    "        print('차가달린다..')\r\n",
    "    \r\n",
    "class Truck(Car):\r\n",
    "    def __init__(self,name,capa):\r\n",
    "        super().__init__(name)\r\n",
    "        self.capa = capa\r\n",
    "\r\n",
    "    def load(self):\r\n",
    "        print('짐을 실었습니다.')\r\n"
   ],
   "outputs": [],
   "metadata": {}
  },
  {
   "cell_type": "code",
   "execution_count": 57,
   "source": [
    "# List Comprehension (리스트 내포, 조건 제시법)\r\n",
    "# 원하는 구성요소를 하나씩 집어 넣는 대신 코드를 이용해 리스트나\r\n",
    "# 딕셔너리를 바로 생성하는 방법\r\n",
    "\r\n",
    "areas = []\r\n",
    "\r\n",
    "for i in range(1,11):\r\n",
    "    areas = areas +[i*i]\r\n",
    "print(areas)"
   ],
   "outputs": [
    {
     "output_type": "stream",
     "name": "stdout",
     "text": [
      "[1, 4, 9, 16, 25, 36, 49, 64, 81, 100]\n"
     ]
    }
   ],
   "metadata": {}
  },
  {
   "cell_type": "code",
   "execution_count": 63,
   "source": [
    "\r\n",
    "print([ n*n for n in range(1,11)])\r\n",
    "       # 원소값  어떤 n에 대해 n*n를 계산할지 조건을 정하는 부분\r\n",
    "\r\n",
    "\r\n",
    "print([ n*n for n in range(1,11) if n%2==0])"
   ],
   "outputs": [
    {
     "output_type": "stream",
     "name": "stdout",
     "text": [
      "[1, 4, 9, 16, 25, 36, 49, 64, 81, 100]\n",
      "[4, 16, 36, 64, 100]\n"
     ]
    }
   ],
   "metadata": {}
  },
  {
   "cell_type": "code",
   "execution_count": 65,
   "source": [
    "print([ n for n in range(1,100) if n%8==0])"
   ],
   "outputs": [
    {
     "output_type": "stream",
     "name": "stdout",
     "text": [
      "[8, 16, 24, 32, 40, 48, 56, 64, 72, 80, 88, 96]\n"
     ]
    }
   ],
   "metadata": {}
  },
  {
   "cell_type": "code",
   "execution_count": 4,
   "source": [
    "#딕셔너리의 조건제시법\r\n",
    "\r\n",
    "students =['김개똥','김말똥','김소똥','김똥똥','김벌똥','김새똥']\r\n",
    "\r\n",
    "for num, name in enumerate(students):\r\n",
    "    print('{}번 {} 학생'.format(num+1,name))"
   ],
   "outputs": [
    {
     "output_type": "stream",
     "name": "stdout",
     "text": [
      "1번 김개똥 학생\n",
      "2번 김말똥 학생\n",
      "3번 김소똥 학생\n",
      "4번 김똥똥 학생\n",
      "5번 김벌똥 학생\n",
      "6번 김새똥 학생\n"
     ]
    }
   ],
   "metadata": {}
  },
  {
   "cell_type": "code",
   "execution_count": 75,
   "source": [
    "student_dict = {'1':'임진영','2':'강은미',3:'정준식',4:'임다해',5:'김영진',6:'김성현'}\r\n",
    "\r\n",
    "\r\n",
    "for n,name in student_dict.items():\r\n",
    "    print('{}번 : {}'.format(n,name),end='')"
   ],
   "outputs": [
    {
     "output_type": "stream",
     "name": "stdout",
     "text": [
      "1번 : 임진영2번 : 강은미3번 : 정준식4번 : 임다해5번 : 김영진6번 : 김성현"
     ]
    }
   ],
   "metadata": {}
  },
  {
   "cell_type": "code",
   "execution_count": 85,
   "source": [
    "#리스트를 딕셔너리로\r\n",
    "students =['임진영','강은미','정준식','임다해','김영진','김성현']\r\n",
    "\r\n",
    "students_dict={ \"{}번\".format(number+1):name for number,name in enumerate(students)}\r\n",
    "print(students_dict)"
   ],
   "outputs": [
    {
     "output_type": "stream",
     "name": "stdout",
     "text": [
      "{'1번': '임진영', '2번': '강은미', '3번': '정준식', '4번': '임다해', '5번': '김영진', '6번': '김성현'}\n"
     ]
    }
   ],
   "metadata": {}
  },
  {
   "cell_type": "code",
   "execution_count": 5,
   "source": [
    "#zip() 엮어준다.\r\n",
    "\r\n",
    "students =['김개똥','김말똥','김소똥','김똥똥','김벌똥','김새똥']\r\n",
    "scores=[90,98,97,100,96,92,93]\r\n",
    "\r\n",
    "for x,y in zip(students,scores):\r\n",
    "    print(x,y)"
   ],
   "outputs": [
    {
     "output_type": "stream",
     "name": "stdout",
     "text": [
      "김개똥 90\n",
      "김말똥 98\n",
      "김소똥 97\n",
      "김똥똥 100\n",
      "김벌똥 96\n",
      "김새똥 92\n"
     ]
    }
   ],
   "metadata": {}
  },
  {
   "cell_type": "code",
   "execution_count": 6,
   "source": [
    "for x in zip(students,scores):\r\n",
    "    print(x)\r\n",
    "#zip함수는 리스트 두개 이상 받아서 모든 리스트의 0번 인덱스값이 든 튜플, 모든 리스트의 1번 인덱스 값이 든 튜플"
   ],
   "outputs": [
    {
     "output_type": "stream",
     "name": "stdout",
     "text": [
      "('김개똥', 90)\n",
      "('김말똥', 98)\n",
      "('김소똥', 97)\n",
      "('김똥똥', 100)\n",
      "('김벌똥', 96)\n",
      "('김새똥', 92)\n"
     ]
    }
   ],
   "metadata": {}
  },
  {
   "cell_type": "code",
   "execution_count": 94,
   "source": [
    "#zip을 이용한 딕셔너리\r\n",
    "students =['임진영','강은미','정준식','임다해','김영진','김성현']\r\n",
    "scores=[90,98,97,100,96,92,93]\r\n",
    "\r\n",
    "students_dict = {student:score for student,score in zip(students,scores)}\r\n",
    "\r\n",
    "print(students_dict)\r\n"
   ],
   "outputs": [
    {
     "output_type": "stream",
     "name": "stdout",
     "text": [
      "{'임진영': 90, '강은미': 98, '정준식': 97, '임다해': 100, '김영진': 96, '김성현': 92}\n"
     ]
    }
   ],
   "metadata": {}
  },
  {
   "cell_type": "code",
   "execution_count": 95,
   "source": [
    "#날짜와 시간..\r\n",
    "#파이썬에서 날짜와 시간을 다루는 방법을 살펴보자..\r\n",
    "#파이썬에서는 datetime 라이브러리를 사용하여 날짜와 시간을 다룰 수 있다.\r\n",
    "\r\n",
    "import datetime\r\n",
    "\r\n",
    "datetime.datetime.now()\r\n",
    "\r\n",
    "#마지막은 마이크로초(100만분의 1초)"
   ],
   "outputs": [
    {
     "output_type": "execute_result",
     "data": {
      "text/plain": [
       "datetime.datetime(2021, 9, 9, 14, 39, 56, 761924)"
      ]
     },
     "metadata": {},
     "execution_count": 95
    }
   ],
   "metadata": {}
  },
  {
   "cell_type": "code",
   "execution_count": 110,
   "source": [
    "stime = datetime.datetime.now()\r\n",
    "\r\n",
    "stime.replace(hour=2)"
   ],
   "outputs": [
    {
     "output_type": "execute_result",
     "data": {
      "text/plain": [
       "datetime.datetime(2021, 9, 9, 2, 47, 36, 783209)"
      ]
     },
     "metadata": {},
     "execution_count": 110
    }
   ],
   "metadata": {}
  },
  {
   "cell_type": "code",
   "execution_count": 108,
   "source": [
    "ntime = datetime.datetime(2017,2,2,22,22,22,2222)\r\n",
    "ntime"
   ],
   "outputs": [
    {
     "output_type": "execute_result",
     "data": {
      "text/plain": [
       "datetime.datetime(2017, 2, 2, 22, 22, 22, 2222)"
      ]
     },
     "metadata": {},
     "execution_count": 108
    }
   ],
   "metadata": {}
  },
  {
   "cell_type": "code",
   "execution_count": 113,
   "source": [
    "christmas = datetime.datetime(2021,12,25,11,30,30,3000)-datetime.datetime.now()\r\n",
    "\r\n",
    "christmas"
   ],
   "outputs": [
    {
     "output_type": "execute_result",
     "data": {
      "text/plain": [
       "datetime.timedelta(days=106, seconds=74510, microseconds=810567)"
      ]
     },
     "metadata": {},
     "execution_count": 113
    }
   ],
   "metadata": {}
  }
 ],
 "metadata": {
  "orig_nbformat": 4,
  "language_info": {
   "name": "python",
   "version": "3.8.8",
   "mimetype": "text/x-python",
   "codemirror_mode": {
    "name": "ipython",
    "version": 3
   },
   "pygments_lexer": "ipython3",
   "nbconvert_exporter": "python",
   "file_extension": ".py"
  },
  "kernelspec": {
   "name": "python3",
   "display_name": "Python 3.8.8 64-bit"
  },
  "interpreter": {
   "hash": "b3ba2566441a7c06988d0923437866b63cedc61552a5af99d1f4fb67d367b25f"
  }
 },
 "nbformat": 4,
 "nbformat_minor": 2
}