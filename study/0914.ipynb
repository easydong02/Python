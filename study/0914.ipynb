{
 "cells": [
  {
   "cell_type": "markdown",
   "source": [
    "변수... 알고리즘은 컴퓨터에 지시하는 처리 절차이다.\r\n",
    "    그 처리의 대상이 되는 것이 데이터이다. 데이터 처리를 실시하는 가장 기본적인 구조가 '변수'이다.\r\n",
    "\r\n",
    "    데이터는 메모리에 저장된다.\r\n",
    "\r\n",
    "    데이터 -> 입력 -> 컴퓨터(가공) -> 출력 -> 가공된 데이터\r\n",
    "\r\n",
    "    데이터가 메모리에 저장되어 있는 위치 -> 주소\r\n",
    "\r\n",
    "    예를 들면 입력된 데이터를 2배로 만들고 그 다음에 100을 더하는 알고리즘을 순서도로 작성해보자.\r\n",
    "\r\n",
    "    알고리즘에선 변수 선언 x \r\n",
    "    ex) 12-> i,  56-> i[2]"
   ],
   "metadata": {}
  },
  {
   "cell_type": "markdown",
   "source": [
    "#1 삼각형의 면적을 계산하는 알고리즘\r\n",
    "\r\n",
    "면적= 밑변 * 높이 /2\r\n",
    "\r\n",
    "변수가 3개 필요하다. 밑변과 높이, 면적\r\n",
    "\r\n",
    "밑변 base\r\n",
    "높이 height\r\n",
    "면적 area\r\n",
    "\r\n",
    "    area = base * height /2"
   ],
   "metadata": {}
  },
  {
   "cell_type": "code",
   "execution_count": 1,
   "source": [
    "base =10\r\n",
    "height = 5\r\n",
    "\r\n",
    "area = base * height /2\r\n",
    "\r\n",
    "print(area)"
   ],
   "outputs": [
    {
     "output_type": "stream",
     "name": "stdout",
     "text": [
      "25.0\n"
     ]
    }
   ],
   "metadata": {}
  },
  {
   "cell_type": "code",
   "execution_count": 4,
   "source": [
    "a=10\r\n",
    "b=13\r\n",
    "\r\n",
    "a,b =b,a\r\n",
    "if a>b:\r\n",
    "    print(a)\r\n",
    "elif a==b:\r\n",
    "    print('a와 b는 같다')\r\n",
    "else:\r\n",
    "    print(b)"
   ],
   "outputs": [
    {
     "output_type": "stream",
     "name": "stdout",
     "text": [
      "13\n"
     ]
    }
   ],
   "metadata": {}
  },
  {
   "cell_type": "code",
   "execution_count": 2,
   "source": [
    "sum=0\r\n",
    "i=0\r\n",
    "arr=[1,2,3,4,5]\r\n",
    "while i<5:\r\n",
    "    sum +=arr[i]\r\n",
    "    i +=1\r\n",
    "print(sum)"
   ],
   "outputs": [
    {
     "output_type": "stream",
     "name": "stdout",
     "text": [
      "15\n"
     ]
    }
   ],
   "metadata": {}
  },
  {
   "cell_type": "code",
   "execution_count": 7,
   "source": [
    "arr=[1,2,3,4,5]\r\n",
    "max =arr[0]\r\n",
    "i=1\r\n",
    "\r\n",
    "while i<5:\r\n",
    "    if arr[i]>max:\r\n",
    "        max =arr[i]\r\n",
    "    i +=1\r\n",
    "\r\n",
    "print(max)"
   ],
   "outputs": [
    {
     "output_type": "stream",
     "name": "stdout",
     "text": [
      "5\n"
     ]
    }
   ],
   "metadata": {}
  },
  {
   "cell_type": "markdown",
   "source": [
    "#유명한 알고리즘 좋은 프로그램을 만들기 위한 사고방식이나 힌트가 많이 포함되어 있다. 기본적인 처리 절차를 갖고 있는 알고리즘이다.\r\n",
    "\r\n",
    "# 알고리즘은 크게 탐색, 정렬,수치계산, 문자열 탐색으로 나눈다. 수많은 알고리즘이 생겨났고 개량되고 도태됐다. 유명한 알고리즘은 많은 시행착오를 거쳐 좋은 알고리즘으로 알려지게 되었고 수많은 프로그램에서 계속 사용되고 있다. 좋은 프로그램을 만들기 위한 사고방식이나 힌트가 많이 담겨 있다.\r\n",
    "\r\n",
    "# 탐색 : 원하는 데이터를 찾는 알고리즘\r\n",
    "1) 선형탐색: 처음부터 순서대로 찾는다.\r\n",
    "2) 이진탐색: 범위를 반씩 줄여가며 찾는다.\r\n",
    "3) 해시탐색: 저장위치를 즉시 찾는다. 저장할 때 계산해서 저장한다.\r\n",
    "    \r\n",
    "    정렬 : 오름차순 내림차순 .. 순서대로 나열\r\n",
    "    1) 단순정렬: 최소값을 선택하여 맨 앞으로 순서대로 나열 \r\n",
    "    2) 단순교환: 옆에 있는 데이터와 비교하여 자리를 바꿔 정렬\r\n",
    "    3) 단순삽입: 데이터를 올바른 위치에 삽입하면서 정렬\r\n",
    "    4) 퀵 정렬: 기준 데이터를 기반으로 대소 분할을 반복하여 정렬\r\n",
    "        * 머지정렬, 힙정렬 ,셀정령 ..\r\n",
    "\r\n",
    "    에라토스테네스의 체 - 소수 찾기\r\n",
    "    유클리드 알고리즘 - 최대 공약수 찾기"
   ],
   "metadata": {}
  },
  {
   "cell_type": "markdown",
   "source": [
    "탐색 알고리즘이란....\r\n",
    "\r\n",
    "원하는 데이터를 찾는 알고리즘\r\n",
    "검색 엔진도 탐색 알고리즘을 사용한다.\r\n",
    "\r\n",
    "알고리즘 중에서도 탐색과 정렬은 가장 많이 사용되기 때문에 초기에 배워야 한다.\r\n",
    "\r\n",
    "정보 기술의 발달과 컴퓨터의 보급으로 도처에 무수히 많은 데이터가 존재한다. 데이터가 많다는 것은 원하는 정보나 알고 싶은 정보가 많다는 것이다. 데이터가 많아질수록 찾기가 어려워진다. 따라서, 주어진 데이터에서 필요한 데이터를 효율적으로 탐색할 수 있는지의 여부는 프로그램의 효율을 크게 좌우한다.\r\n",
    "\r\n",
    "1) 선형 탐색법\r\n",
    "    - 맨 앞에서부터 순서대로 조사하여 찾는 탐색 알고리즘이다.\r\n",
    "    - 단순하여 이해하기는 쉬우나 탐색 효율이 떨어져서 그다지 좋지 못하다.\r\n",
    "    - Linear Search 선형 탐색법...\r\n",
    "\r\n",
    "2) 선형 탐색법 알고리즘\r\n",
    "    - 배열에 보관된 데이터를 맨 앞부터 순서대로 탐색한다.\r\n",
    "    - 탐색 처리는 반복구조로 기술한다.\r\n",
    "    - 반복 구조에서는 종료조건이 반드시 있어야 한다."
   ],
   "metadata": {}
  },
  {
   "cell_type": "code",
   "execution_count": 10,
   "source": [
    "i=0\r\n",
    "errcnt=0\r\n",
    "array=[1,2,3,4,6]\r\n",
    "while i<len(array):\r\n",
    "    if array[i]==5:\r\n",
    "        print(i,'번째 요소가 일치합니다.')\r\n",
    "        break\r\n",
    "    i +=1\r\n",
    "    errcnt +=1\r\n",
    "    if errcnt ==len(array):\r\n",
    "        print('찾지 못했습니다.')\r\n"
   ],
   "outputs": [
    {
     "output_type": "stream",
     "name": "stdout",
     "text": [
      "찾지 못했습니다.\n"
     ]
    }
   ],
   "metadata": {}
  },
  {
   "cell_type": "markdown",
   "source": [
    "이진 탐색법 Binary Search\r\n",
    "\r\n"
   ],
   "metadata": {}
  },
  {
   "cell_type": "code",
   "execution_count": 57,
   "source": [
    "def fibo():\r\n",
    "    n = int(input(\"num : ?\")) # n값에 사용자 입력 받기.\r\n",
    "    a,b =0,1        # 초기값 0,1을 a,b에 각각 대입\r\n",
    "    while b<=n:     # b가 n보다 작을때만 실행\r\n",
    "        print(b)    # b출력\r\n",
    "        a,b=b,a+b   # b에는 a+b대입, a에는 b대입. 대입이 동시에 이루어진다.\r\n",
    "        \r\n",
    "        \r\n",
    "\r\n",
    "fibo()\r\n"
   ],
   "outputs": [
    {
     "output_type": "stream",
     "name": "stdout",
     "text": [
      "1\n",
      "1\n",
      "2\n",
      "3\n",
      "5\n",
      "8\n",
      "13\n"
     ]
    }
   ],
   "metadata": {}
  },
  {
   "cell_type": "code",
   "execution_count": null,
   "source": [],
   "outputs": [],
   "metadata": {}
  }
 ],
 "metadata": {
  "orig_nbformat": 4,
  "language_info": {
   "name": "python",
   "version": "3.8.8",
   "mimetype": "text/x-python",
   "codemirror_mode": {
    "name": "ipython",
    "version": 3
   },
   "pygments_lexer": "ipython3",
   "nbconvert_exporter": "python",
   "file_extension": ".py"
  },
  "kernelspec": {
   "name": "python3",
   "display_name": "Python 3.8.8 64-bit ('base': conda)"
  },
  "interpreter": {
   "hash": "b3ba2566441a7c06988d0923437866b63cedc61552a5af99d1f4fb67d367b25f"
  }
 },
 "nbformat": 4,
 "nbformat_minor": 2
}