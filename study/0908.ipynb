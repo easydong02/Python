{
 "cells": [
  {
   "cell_type": "code",
   "execution_count": 9,
   "metadata": {},
   "outputs": [
    {
     "name": "stdout",
     "output_type": "stream",
     "text": [
      "3\n"
     ]
    }
   ],
   "source": [
    "def add(a,b):\n",
    "    print(a+b)\n",
    "\n",
    "add(1,2)"
   ]
  },
  {
   "cell_type": "code",
   "execution_count": 10,
   "metadata": {},
   "outputs": [
    {
     "name": "stdout",
     "output_type": "stream",
     "text": [
      "20번 손님 안녕하세요, 뉴월드에 오신것을 환영합니다.!\n"
     ]
    }
   ],
   "source": [
    "# format\n",
    "\n",
    "n =20\n",
    "greeting = '안녕하세요'\n",
    "place ='뉴월드'\n",
    "welcome ='환영합니다.'\n",
    "\n",
    "print('{}번 손님 {}, {}에 오신것을 {}!'.format(n,greeting,place,welcome))"
   ]
  },
  {
   "cell_type": "code",
   "execution_count": 11,
   "metadata": {},
   "outputs": [
    {
     "name": "stdout",
     "output_type": "stream",
     "text": [
      "5 5.0 5.0\n"
     ]
    }
   ],
   "source": [
    "f1 =5\n",
    "f2 = 5.0\n",
    "f3 = 5.0000\n",
    "\n",
    "print(f1,f2,f3)"
   ]
  },
  {
   "cell_type": "code",
   "execution_count": 13,
   "metadata": {},
   "outputs": [
    {
     "name": "stdout",
     "output_type": "stream",
     "text": [
      "5 5.0\n"
     ]
    }
   ],
   "source": [
    "f4 = 5 * 1\n",
    "f5 = 5 * 1.0\n",
    "\n",
    "print(f4,f5)"
   ]
  },
  {
   "cell_type": "code",
   "execution_count": 17,
   "metadata": {},
   "outputs": [
    {
     "name": "stdout",
     "output_type": "stream",
     "text": [
      "1.2\n",
      "2.0\n"
     ]
    }
   ],
   "source": [
    "print(6/5)\n",
    "print(10/5)"
   ]
  },
  {
   "cell_type": "code",
   "execution_count": 19,
   "metadata": {},
   "outputs": [
    {
     "name": "stdout",
     "output_type": "stream",
     "text": [
      "가위바위보 가운데 하나를 내 주세요>가위\n"
     ]
    }
   ],
   "source": [
    "#입력 받기\n",
    "print(\"가위바위보 가운데 하나를 내 주세요>\",end=\"\")\n",
    "mine = input()\n",
    "print(mine)"
   ]
  },
  {
   "cell_type": "code",
   "execution_count": 20,
   "metadata": {},
   "outputs": [
    {
     "name": "stdout",
     "output_type": "stream",
     "text": [
      "[1, 2, 3, 16]\n"
     ]
    }
   ],
   "source": [
    "#추가\n",
    "list2=[1,2,3]\n",
    "list3=[4,5,6]\n",
    "list3 = list2+[16]\n",
    "print(list3)"
   ]
  },
  {
   "cell_type": "code",
   "execution_count": 21,
   "metadata": {},
   "outputs": [
    {
     "name": "stdout",
     "output_type": "stream",
     "text": [
      "[1, 2, 3]\n"
     ]
    }
   ],
   "source": [
    "del list3[-1] # 맨마지막 인덱스\n",
    "print(list3)\n"
   ]
  },
  {
   "cell_type": "code",
   "execution_count": 3,
   "metadata": {},
   "outputs": [
    {
     "name": "stdout",
     "output_type": "stream",
     "text": [
      "(0, 'RM')\n",
      "(1, '진')\n",
      "(2, '슈가')\n",
      "(3, '제이홉')\n",
      "(4, '지민')\n",
      "(5, '뷔')\n",
      "(6, '정국')\n"
     ]
    }
   ],
   "source": [
    "bts= ['RM','진','슈가','제이홉','지민','뷔','정국']\n",
    "for i in enumerate(bts):\n",
    "    print('{}'.format(i))"
   ]
  },
  {
   "cell_type": "code",
   "execution_count": 24,
   "metadata": {},
   "outputs": [
    {
     "name": "stdout",
     "output_type": "stream",
     "text": [
      "(0, 'RM')\n",
      "(1, '진')\n",
      "(2, '슈가')\n",
      "(3, '제이홉')\n",
      "(4, '지민')\n",
      "(5, '뷔')\n",
      "(6, '정국')\n"
     ]
    }
   ],
   "source": [
    "bts= ['RM','진','슈가','제이홉','지민','뷔','정국']\n",
    "for i in enumerate(bts):\n",
    "    print(i)"
   ]
  },
  {
   "cell_type": "code",
   "execution_count": null,
   "metadata": {},
   "outputs": [],
   "source": [
    "#모듈... 다른 만들어놓은 기능을 가져다 쓰는 방법\n",
    "\n",
    "import math"
   ]
  },
  {
   "cell_type": "code",
   "execution_count": null,
   "metadata": {},
   "outputs": [],
   "source": [
    "import urllib.request\n",
    "\n",
    "def getweb(url):\n",
    "  response = urllib.request.urlopen(url)\n",
    "  data = response.read()\n",
    "  decoded = data.decode('utf-8')\n",
    "  return decoded\n",
    "\n",
    "url = input('웹페이지 주소를 입력하셔요')\n",
    "print(getweb(url))"
   ]
  },
  {
   "cell_type": "code",
   "execution_count": 41,
   "metadata": {},
   "outputs": [
    {
     "name": "stdout",
     "output_type": "stream",
     "text": [
      "내가 이겼다\n"
     ]
    }
   ],
   "source": [
    "import random\n",
    "# 딕셔너리와 튜플\n",
    "\n",
    "#딕셔너리 : 키값과 밸류 값으로 구성, 키로 밸류 값을 조회\n",
    "#           인덱싱과 슬라이싱 불가능\n",
    "wintable ={\n",
    "    \"가위\":'보',\n",
    "    '보':'바위',\n",
    "    '바위':'가위'\n",
    "}\n",
    "\n",
    "def rsp(mine,yours):\n",
    "    if mine==yours:\n",
    "        return \"비겼다\"\n",
    "    elif wintable[mine]==yours:\n",
    "        return \"내가 이겼다\"\n",
    "\n",
    "    elif mine ==wintable[yours]:\n",
    "        return \"내가 졌다\"\n",
    "\n",
    "print(rsp(input(),\"바위\"))"
   ]
  },
  {
   "cell_type": "code",
   "execution_count": 50,
   "metadata": {},
   "outputs": [
    {
     "name": "stdout",
     "output_type": "stream",
     "text": [
      "[1, 2, 33, 4, 5]\n"
     ]
    }
   ],
   "source": [
    "list= [1,2,3,4,5]\n",
    "\n",
    "list[2]=33\n",
    "\n",
    "print(list)"
   ]
  },
  {
   "cell_type": "code",
   "execution_count": 52,
   "metadata": {},
   "outputs": [
    {
     "name": "stdout",
     "output_type": "stream",
     "text": [
      "{'one': 1, 'two': 22, 'three': 3, 'four': 4}\n",
      "{'two': 22, 'three': 3, 'four': 4}\n",
      "{'two': 22, 'four': 4}\n"
     ]
    }
   ],
   "source": [
    "dict = {'one': 1,'two':2,'three':3}\n",
    "dict['two'] = 22\n",
    "dict['four']=4\n",
    "\n",
    "print(dict)\n",
    "\n",
    "del(dict['one'])\n",
    "print(dict)\n",
    "\n",
    "dict.pop('three')\n",
    "print(dict)"
   ]
  },
  {
   "cell_type": "code",
   "execution_count": 70,
   "metadata": {},
   "outputs": [
    {
     "name": "stdout",
     "output_type": "stream",
     "text": [
      "Jane의 나이는 32입니다.\n",
      "Tod의 나이는 35입니다.\n",
      "Paul의 나이는 62입니다.\n"
     ]
    }
   ],
   "source": [
    "names ={'Jane':32, 'Tod':35,'Paul':62}\n",
    "\n",
    "for i,j in names.items():\n",
    "    print('{}의 나이는 {}입니다.'.format(i,j))\n",
    "\n",
    "\n"
   ]
  },
  {
   "cell_type": "code",
   "execution_count": 72,
   "metadata": {},
   "outputs": [
    {
     "name": "stdout",
     "output_type": "stream",
     "text": [
      "Jane의 나이는 32입니다.\n",
      "Tod의 나이는 35입니다.\n",
      "Paul의 나이는 62입니다.\n"
     ]
    }
   ],
   "source": [
    "names ={'Jane':32, 'Tod':35,'Paul':62}\n",
    "\n",
    "for i in names.keys():\n",
    "    print('{}의 나이는 {}입니다.'.format(i,names[i]))"
   ]
  },
  {
   "cell_type": "code",
   "execution_count": 103,
   "metadata": {},
   "outputs": [
    {
     "name": "stdout",
     "output_type": "stream",
     "text": [
      "Jane의 나이는 32입니다.\n",
      "Tod의 나이는 35입니다.\n",
      "Paul의 나이는 62입니다.\n"
     ]
    }
   ],
   "source": [
    "names ={'Jane':32, 'Tod':35,'Paul':62}\n",
    "\n",
    "for i in names.items():\n",
    "    print('{}의 나이는 {}입니다.'.format(*i))"
   ]
  },
  {
   "cell_type": "code",
   "execution_count": 73,
   "metadata": {},
   "outputs": [
    {
     "data": {
      "text/plain": [
       "int"
      ]
     },
     "execution_count": 73,
     "metadata": {},
     "output_type": "execute_result"
    }
   ],
   "source": [
    "a =1\n",
    "a\n",
    "type(a)\n"
   ]
  },
  {
   "cell_type": "code",
   "execution_count": 77,
   "metadata": {},
   "outputs": [
    {
     "data": {
      "text/plain": [
       "tuple"
      ]
     },
     "execution_count": 77,
     "metadata": {},
     "output_type": "execute_result"
    }
   ],
   "source": [
    "a=(1,)\n",
    "a\n",
    "type(a)"
   ]
  },
  {
   "cell_type": "code",
   "execution_count": 1,
   "metadata": {},
   "outputs": [
    {
     "name": "stdout",
     "output_type": "stream",
     "text": [
      "<class 'tuple'>\n",
      "[1, 2, 3, 4, 5]\n",
      "<class 'list'>\n",
      "[6, 2, 3, 4, 5]\n",
      "(6, 2, 3, 4, 5)\n"
     ]
    }
   ],
   "source": [
    "t1 = (1,2,3,4,5)\n",
    "print(type(t1))\n",
    "l1 = list(t1)\n",
    "\n",
    "print(l1)\n",
    "print(type(l1))\n",
    "\n",
    "l1[0] = 6\n",
    "\n",
    "print(l1)\n",
    "\n",
    "t1 = tuple(l1)\n",
    "print(t1)\n",
    "\n",
    "#vs 에러...\n"
   ]
  },
  {
   "cell_type": "code",
   "execution_count": 95,
   "metadata": {},
   "outputs": [
    {
     "name": "stdout",
     "output_type": "stream",
     "text": [
      "3\n",
      "4\n",
      "(3, 4)\n"
     ]
    }
   ],
   "source": [
    "c=(3,4)\n",
    "\n",
    "d,e =c #언패킹해서 d와 e에 넣는다.\n",
    "\n",
    "print(d)\n",
    "print(e)\n",
    "\n",
    "f=d,e #패킹\n",
    "print(f)\n"
   ]
  },
  {
   "cell_type": "code",
   "execution_count": 106,
   "metadata": {},
   "outputs": [
    {
     "name": "stdout",
     "output_type": "stream",
     "text": [
      "0번 값: 1\n",
      "1번 값: 2\n",
      "2번 값: 3\n",
      "3번 값: 4\n",
      "4번 값: 5\n"
     ]
    }
   ],
   "source": [
    "#함수의 반환값으로 튜플\n",
    "\n",
    "list=[1,2,3,4,5]\n",
    "\n",
    "for a in enumerate(list):\n",
    "    print('{}번 값: {}'.format(*a))"
   ]
  },
  {
   "cell_type": "code",
   "execution_count": 111,
   "metadata": {},
   "outputs": [
    {
     "name": "stdout",
     "output_type": "stream",
     "text": [
      "선택한 값은:  가위\n"
     ]
    }
   ],
   "source": [
    "#while ...\n",
    "\n",
    "select = None\n",
    "\n",
    "while select not in ['가위','바위','보']:\n",
    "    select = input('가위,바위,보 중에 하나를 입력하세요.')\n",
    "\n",
    "print('선택한 값은: ',select)"
   ]
  },
  {
   "cell_type": "code",
   "execution_count": 112,
   "metadata": {},
   "outputs": [
    {
     "name": "stdout",
     "output_type": "stream",
     "text": [
      "가위\n",
      "바위\n",
      "보\n"
     ]
    }
   ],
   "source": [
    "pattern =['가위','바위','보']\n",
    "for i in range(len(pattern)):\n",
    "    print(pattern[i])\n",
    "    "
   ]
  },
  {
   "cell_type": "code",
   "execution_count": 113,
   "metadata": {},
   "outputs": [
    {
     "name": "stdout",
     "output_type": "stream",
     "text": [
      "가위\n",
      "바위\n",
      "보\n"
     ]
    }
   ],
   "source": [
    "pattern =['가위','바위','보']\n",
    "i =0\n",
    "while i<len(pattern):\n",
    "    print(pattern[i])\n",
    "    i +=1"
   ]
  }
 ],
 "metadata": {
  "interpreter": {
   "hash": "b3ba2566441a7c06988d0923437866b63cedc61552a5af99d1f4fb67d367b25f"
  },
  "kernelspec": {
   "display_name": "Python 3.8.8 64-bit ('base': conda)",
   "name": "python3"
  },
  "language_info": {
   "codemirror_mode": {
    "name": "ipython",
    "version": 3
   },
   "file_extension": ".py",
   "mimetype": "text/x-python",
   "name": "python",
   "nbconvert_exporter": "python",
   "pygments_lexer": "ipython3",
   "version": "3.8.8"
  },
  "orig_nbformat": 4
 },
 "nbformat": 4,
 "nbformat_minor": 2
}
