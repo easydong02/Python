{
 "cells": [
  {
   "cell_type": "code",
   "execution_count": 4,
   "source": [
    "import datetime\r\n",
    "now = datetime.datetime.now()\r\n",
    "\r\n",
    "if now.hour <12:\r\n",
    "    print('현재 시간은 {}시로 오전입니다'.format(now.hour))\r\n",
    "else:\r\n",
    "    print(\"현재 시간은 {}시로 오후입니다\".format(now.hour))"
   ],
   "outputs": [
    {
     "output_type": "stream",
     "name": "stdout",
     "text": [
      "현재 시간은 9시로 오전입니다\n"
     ]
    }
   ],
   "metadata": {}
  },
  {
   "cell_type": "code",
   "execution_count": 6,
   "source": [
    "import datetime\r\n",
    "now = datetime.datetime.now()\r\n",
    "\r\n",
    "if 5>=now.month>=3:\r\n",
    "    print(\"이번 달은 {}월로 봄입니다.\".format(now.month))\r\n",
    "elif 8>=now.month>=6:\r\n",
    "    print(\"이번 달은 {}월로 여름입니다.\".format(now.month))\r\n",
    "elif 11>=now.month>=9:\r\n",
    "    print(\"이번 달은 {}월로 가을입니다.\".format(now.month))\r\n",
    "elif 2>=now.month>=12:\r\n",
    "    print(\"이번 달은 {}월로 겨울입니다.\".format(now.month))"
   ],
   "outputs": [
    {
     "output_type": "stream",
     "name": "stdout",
     "text": [
      "이번 달은 9월로 가을입니다.\n"
     ]
    }
   ],
   "metadata": {}
  },
  {
   "cell_type": "code",
   "execution_count": 11,
   "source": [
    "num = input()\r\n",
    "if num[-1] in [\"1\",\"3\",\"5\",\"7\",\"9\"]:\r\n",
    "    print('홀수입니다.')\r\n",
    "else:\r\n",
    "    print('짝수입니다')\r\n"
   ],
   "outputs": [
    {
     "output_type": "stream",
     "name": "stdout",
     "text": [
      "5\n",
      "홀수입니다.\n"
     ]
    }
   ],
   "metadata": {}
  },
  {
   "cell_type": "code",
   "execution_count": 13,
   "source": [
    "if 0:  # 0은 false다\r\n",
    "    print('true')\r\n",
    "else:\r\n",
    "    print('false')"
   ],
   "outputs": [
    {
     "output_type": "stream",
     "name": "stdout",
     "text": [
      "false\n"
     ]
    }
   ],
   "metadata": {}
  },
  {
   "cell_type": "code",
   "execution_count": 14,
   "source": [
    "if \"\":   # 아무것도 없으면 false다\r\n",
    "    pass\r\n",
    "else:\r\n",
    "    print(\"false\")"
   ],
   "outputs": [
    {
     "output_type": "stream",
     "name": "stdout",
     "text": [
      "false\n"
     ]
    }
   ],
   "metadata": {}
  },
  {
   "cell_type": "code",
   "execution_count": 16,
   "source": [
    "year = int(input())\r\n",
    "\r\n",
    "list =[\"원숭이\",\"닭\",\"개\",\"돼지\",\"쥐\",\"소\",\"호랑이\",\"토끼\",\"용\",\"뱀\",\"말\",\"양\"]\r\n",
    "\r\n",
    "print(list[year%12])\r\n",
    "    \r\n"
   ],
   "outputs": [
    {
     "output_type": "stream",
     "name": "stdout",
     "text": [
      "돼지\n"
     ]
    }
   ],
   "metadata": {}
  },
  {
   "cell_type": "code",
   "execution_count": 18,
   "source": [
    "#리스트는 이중으로 접근이 가능하다\r\n",
    "\r\n",
    "list =[\"원숭이\",\"닭\",\"개\",\"돼지\",\"쥐\",\"소\",\"호랑이\",\"토끼\",\"용\",\"뱀\",\"말\",\"양\"]\r\n",
    "\r\n",
    "\r\n",
    "print(list[0][1])"
   ],
   "outputs": [
    {
     "output_type": "stream",
     "name": "stdout",
     "text": [
      "숭\n"
     ]
    }
   ],
   "metadata": {}
  },
  {
   "cell_type": "code",
   "execution_count": 19,
   "source": [
    "list =[[1,2,3],[4,5,6],[7,8,9]]\r\n",
    "\r\n",
    "print(list[2][0])"
   ],
   "outputs": [
    {
     "output_type": "stream",
     "name": "stdout",
     "text": [
      "7\n"
     ]
    }
   ],
   "metadata": {}
  },
  {
   "cell_type": "code",
   "execution_count": 20,
   "source": [
    "#for 반복문... range와 자주 사용된다.\r\n",
    "\r\n",
    "for i in range(10):\r\n",
    "    print(i,'출력')"
   ],
   "outputs": [
    {
     "output_type": "stream",
     "name": "stdout",
     "text": [
      "0 출력\n",
      "1 출력\n",
      "2 출력\n",
      "3 출력\n",
      "4 출력\n",
      "5 출력\n",
      "6 출력\n",
      "7 출력\n",
      "8 출력\n",
      "9 출력\n"
     ]
    }
   ],
   "metadata": {}
  },
  {
   "cell_type": "code",
   "execution_count": 22,
   "source": [
    "list =[\"원숭이\",\"닭\",\"개\",\"돼지\",\"쥐\",\"소\",\"호랑이\",\"토끼\",\"용\",\"뱀\",\"말\",\"양\"]\r\n",
    "\r\n",
    "for i in list:\r\n",
    "    print(i)"
   ],
   "outputs": [
    {
     "output_type": "stream",
     "name": "stdout",
     "text": [
      "원숭이\n",
      "닭\n",
      "개\n",
      "돼지\n",
      "쥐\n",
      "소\n",
      "호랑이\n",
      "토끼\n",
      "용\n",
      "뱀\n",
      "말\n",
      "양\n"
     ]
    }
   ],
   "metadata": {}
  },
  {
   "cell_type": "code",
   "execution_count": 24,
   "source": [
    "list =[\"원숭이\",\"닭\",\"개\",\"돼지\",\"쥐\",\"소\",\"호랑이\",\"토끼\",\"용\",\"뱀\",\"말\",\"양\"]\r\n",
    "\r\n",
    "#모든 항목의 각각의 글자수를 세기\r\n",
    "\r\n",
    "for i in list:\r\n",
    "    print(len(i))"
   ],
   "outputs": [
    {
     "output_type": "stream",
     "name": "stdout",
     "text": [
      "3\n",
      "1\n",
      "1\n",
      "2\n",
      "1\n",
      "1\n",
      "3\n",
      "2\n",
      "1\n",
      "1\n",
      "1\n",
      "1\n"
     ]
    }
   ],
   "metadata": {}
  },
  {
   "cell_type": "code",
   "execution_count": 34,
   "source": [
    "#1부터 10까지의 합을 계산\r\n",
    "add = lambda a : a*(a+1)/2\r\n",
    "\r\n",
    "result = add(10)\r\n",
    "print(result)\r\n",
    "\r\n"
   ],
   "outputs": [
    {
     "output_type": "error",
     "ename": "TypeError",
     "evalue": "'int' object is not iterable",
     "traceback": [
      "\u001b[1;31m---------------------------------------------------------------------------\u001b[0m",
      "\u001b[1;31mTypeError\u001b[0m                                 Traceback (most recent call last)",
      "\u001b[1;32m<ipython-input-34-89c227926c24>\u001b[0m in \u001b[0;36m<module>\u001b[1;34m\u001b[0m\n\u001b[0;32m      2\u001b[0m \u001b[0madd\u001b[0m \u001b[1;33m=\u001b[0m \u001b[1;32mlambda\u001b[0m \u001b[0ma\u001b[0m \u001b[1;33m:\u001b[0m \u001b[0msum\u001b[0m\u001b[1;33m(\u001b[0m\u001b[0ma\u001b[0m\u001b[1;33m)\u001b[0m\u001b[1;33m\u001b[0m\u001b[1;33m\u001b[0m\u001b[0m\n\u001b[0;32m      3\u001b[0m \u001b[1;33m\u001b[0m\u001b[0m\n\u001b[1;32m----> 4\u001b[1;33m \u001b[0mresult\u001b[0m \u001b[1;33m=\u001b[0m \u001b[0madd\u001b[0m\u001b[1;33m(\u001b[0m\u001b[1;36m10\u001b[0m\u001b[1;33m)\u001b[0m\u001b[1;33m\u001b[0m\u001b[1;33m\u001b[0m\u001b[0m\n\u001b[0m\u001b[0;32m      5\u001b[0m \u001b[0mprint\u001b[0m\u001b[1;33m(\u001b[0m\u001b[0mresult\u001b[0m\u001b[1;33m)\u001b[0m\u001b[1;33m\u001b[0m\u001b[1;33m\u001b[0m\u001b[0m\n\u001b[0;32m      6\u001b[0m \u001b[1;33m\u001b[0m\u001b[0m\n",
      "\u001b[1;32m<ipython-input-34-89c227926c24>\u001b[0m in \u001b[0;36m<lambda>\u001b[1;34m(a)\u001b[0m\n\u001b[0;32m      1\u001b[0m \u001b[1;31m#1부터 10까지의 합을 계산\u001b[0m\u001b[1;33m\u001b[0m\u001b[1;33m\u001b[0m\u001b[1;33m\u001b[0m\u001b[0m\n\u001b[1;32m----> 2\u001b[1;33m \u001b[0madd\u001b[0m \u001b[1;33m=\u001b[0m \u001b[1;32mlambda\u001b[0m \u001b[0ma\u001b[0m \u001b[1;33m:\u001b[0m \u001b[0msum\u001b[0m\u001b[1;33m(\u001b[0m\u001b[0ma\u001b[0m\u001b[1;33m)\u001b[0m\u001b[1;33m\u001b[0m\u001b[1;33m\u001b[0m\u001b[0m\n\u001b[0m\u001b[0;32m      3\u001b[0m \u001b[1;33m\u001b[0m\u001b[0m\n\u001b[0;32m      4\u001b[0m \u001b[0mresult\u001b[0m \u001b[1;33m=\u001b[0m \u001b[0madd\u001b[0m\u001b[1;33m(\u001b[0m\u001b[1;36m10\u001b[0m\u001b[1;33m)\u001b[0m\u001b[1;33m\u001b[0m\u001b[1;33m\u001b[0m\u001b[0m\n\u001b[0;32m      5\u001b[0m \u001b[0mprint\u001b[0m\u001b[1;33m(\u001b[0m\u001b[0mresult\u001b[0m\u001b[1;33m)\u001b[0m\u001b[1;33m\u001b[0m\u001b[1;33m\u001b[0m\u001b[0m\n",
      "\u001b[1;31mTypeError\u001b[0m: 'int' object is not iterable"
     ]
    }
   ],
   "metadata": {}
  }
 ],
 "metadata": {
  "orig_nbformat": 4,
  "language_info": {
   "name": "python",
   "version": "3.8.8",
   "mimetype": "text/x-python",
   "codemirror_mode": {
    "name": "ipython",
    "version": 3
   },
   "pygments_lexer": "ipython3",
   "nbconvert_exporter": "python",
   "file_extension": ".py"
  },
  "kernelspec": {
   "name": "python3",
   "display_name": "Python 3.8.8 64-bit ('base': conda)"
  },
  "interpreter": {
   "hash": "b3ba2566441a7c06988d0923437866b63cedc61552a5af99d1f4fb67d367b25f"
  }
 },
 "nbformat": 4,
 "nbformat_minor": 2
}