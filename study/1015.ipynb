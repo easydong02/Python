{
 "cells": [
  {
   "cell_type": "code",
   "execution_count": 34,
   "metadata": {},
   "outputs": [
    {
     "name": "stdout",
     "output_type": "stream",
     "text": [
      "Collecting xgboost\n",
      "  Downloading xgboost-1.4.2-py3-none-win_amd64.whl (97.8 MB)\n",
      "Requirement already satisfied: numpy in c:\\programdata\\anaconda3\\lib\\site-packages (from xgboost) (1.20.1)\n",
      "Requirement already satisfied: scipy in c:\\programdata\\anaconda3\\lib\\site-packages (from xgboost) (1.6.2)\n",
      "Installing collected packages: xgboost\n",
      "Successfully installed xgboost-1.4.2\n"
     ]
    }
   ],
   "source": [
    "import pandas as pd\n",
    "import numpy as np\n",
    "import matplotlib.pyplot as plt\n",
    "import seaborn as sns\n",
    "from sklearn import datasets\n",
    "from sklearn.model_selection import train_test_split\n",
    "\n",
    "!pip install xgboost"
   ]
  },
  {
   "cell_type": "code",
   "execution_count": 2,
   "metadata": {},
   "outputs": [],
   "source": [
    "housing = datasets.load_boston()\n",
    "housing.keys()\n",
    "\n",
    "hData= pd.DataFrame(housing['data'], columns=housing['feature_names'])\n",
    "\n",
    "\n",
    "target=pd.DataFrame(housing['target'],columns=['Target'])\n",
    "\n",
    "df = pd.concat([hData,target],axis=1)\n",
    "\n",
    "df_corr=df.corr()\n",
    "\n",
    "plot_cols=['Target','LSTAT','RM','PTRATIO','INDUS']\n",
    "plot_df = df.loc[:,plot_cols]"
   ]
  },
  {
   "cell_type": "code",
   "execution_count": 3,
   "metadata": {},
   "outputs": [
    {
     "data": {
      "text/html": [
       "<div>\n",
       "<style scoped>\n",
       "    .dataframe tbody tr th:only-of-type {\n",
       "        vertical-align: middle;\n",
       "    }\n",
       "\n",
       "    .dataframe tbody tr th {\n",
       "        vertical-align: top;\n",
       "    }\n",
       "\n",
       "    .dataframe thead th {\n",
       "        text-align: right;\n",
       "    }\n",
       "</style>\n",
       "<table border=\"1\" class=\"dataframe\">\n",
       "  <thead>\n",
       "    <tr style=\"text-align: right;\">\n",
       "      <th></th>\n",
       "      <th>CRIM</th>\n",
       "      <th>ZN</th>\n",
       "      <th>INDUS</th>\n",
       "      <th>CHAS</th>\n",
       "      <th>NOX</th>\n",
       "      <th>RM</th>\n",
       "      <th>AGE</th>\n",
       "      <th>DIS</th>\n",
       "      <th>RAD</th>\n",
       "      <th>TAX</th>\n",
       "      <th>PTRATIO</th>\n",
       "      <th>B</th>\n",
       "      <th>LSTAT</th>\n",
       "      <th>Target</th>\n",
       "    </tr>\n",
       "  </thead>\n",
       "  <tbody>\n",
       "    <tr>\n",
       "      <th>0</th>\n",
       "      <td>0.000000</td>\n",
       "      <td>0.18</td>\n",
       "      <td>0.067815</td>\n",
       "      <td>0.0</td>\n",
       "      <td>0.314815</td>\n",
       "      <td>0.577505</td>\n",
       "      <td>0.641607</td>\n",
       "      <td>0.269203</td>\n",
       "      <td>0.000000</td>\n",
       "      <td>0.208015</td>\n",
       "      <td>0.287234</td>\n",
       "      <td>1.000000</td>\n",
       "      <td>0.089680</td>\n",
       "      <td>24.0</td>\n",
       "    </tr>\n",
       "    <tr>\n",
       "      <th>1</th>\n",
       "      <td>0.000236</td>\n",
       "      <td>0.00</td>\n",
       "      <td>0.242302</td>\n",
       "      <td>0.0</td>\n",
       "      <td>0.172840</td>\n",
       "      <td>0.547998</td>\n",
       "      <td>0.782698</td>\n",
       "      <td>0.348962</td>\n",
       "      <td>0.043478</td>\n",
       "      <td>0.104962</td>\n",
       "      <td>0.553191</td>\n",
       "      <td>1.000000</td>\n",
       "      <td>0.204470</td>\n",
       "      <td>21.6</td>\n",
       "    </tr>\n",
       "    <tr>\n",
       "      <th>2</th>\n",
       "      <td>0.000236</td>\n",
       "      <td>0.00</td>\n",
       "      <td>0.242302</td>\n",
       "      <td>0.0</td>\n",
       "      <td>0.172840</td>\n",
       "      <td>0.694386</td>\n",
       "      <td>0.599382</td>\n",
       "      <td>0.348962</td>\n",
       "      <td>0.043478</td>\n",
       "      <td>0.104962</td>\n",
       "      <td>0.553191</td>\n",
       "      <td>0.989737</td>\n",
       "      <td>0.063466</td>\n",
       "      <td>34.7</td>\n",
       "    </tr>\n",
       "    <tr>\n",
       "      <th>3</th>\n",
       "      <td>0.000293</td>\n",
       "      <td>0.00</td>\n",
       "      <td>0.063050</td>\n",
       "      <td>0.0</td>\n",
       "      <td>0.150206</td>\n",
       "      <td>0.658555</td>\n",
       "      <td>0.441813</td>\n",
       "      <td>0.448545</td>\n",
       "      <td>0.086957</td>\n",
       "      <td>0.066794</td>\n",
       "      <td>0.648936</td>\n",
       "      <td>0.994276</td>\n",
       "      <td>0.033389</td>\n",
       "      <td>33.4</td>\n",
       "    </tr>\n",
       "    <tr>\n",
       "      <th>4</th>\n",
       "      <td>0.000705</td>\n",
       "      <td>0.00</td>\n",
       "      <td>0.063050</td>\n",
       "      <td>0.0</td>\n",
       "      <td>0.150206</td>\n",
       "      <td>0.687105</td>\n",
       "      <td>0.528321</td>\n",
       "      <td>0.448545</td>\n",
       "      <td>0.086957</td>\n",
       "      <td>0.066794</td>\n",
       "      <td>0.648936</td>\n",
       "      <td>1.000000</td>\n",
       "      <td>0.099338</td>\n",
       "      <td>36.2</td>\n",
       "    </tr>\n",
       "  </tbody>\n",
       "</table>\n",
       "</div>"
      ],
      "text/plain": [
       "       CRIM    ZN     INDUS  CHAS       NOX        RM       AGE       DIS  \\\n",
       "0  0.000000  0.18  0.067815   0.0  0.314815  0.577505  0.641607  0.269203   \n",
       "1  0.000236  0.00  0.242302   0.0  0.172840  0.547998  0.782698  0.348962   \n",
       "2  0.000236  0.00  0.242302   0.0  0.172840  0.694386  0.599382  0.348962   \n",
       "3  0.000293  0.00  0.063050   0.0  0.150206  0.658555  0.441813  0.448545   \n",
       "4  0.000705  0.00  0.063050   0.0  0.150206  0.687105  0.528321  0.448545   \n",
       "\n",
       "        RAD       TAX   PTRATIO         B     LSTAT  Target  \n",
       "0  0.000000  0.208015  0.287234  1.000000  0.089680    24.0  \n",
       "1  0.043478  0.104962  0.553191  1.000000  0.204470    21.6  \n",
       "2  0.043478  0.104962  0.553191  0.989737  0.063466    34.7  \n",
       "3  0.086957  0.066794  0.648936  0.994276  0.033389    33.4  \n",
       "4  0.086957  0.066794  0.648936  1.000000  0.099338    36.2  "
      ]
     },
     "execution_count": 3,
     "metadata": {},
     "output_type": "execute_result"
    }
   ],
   "source": [
    "from sklearn.preprocessing import MinMaxScaler\n",
    "\n",
    "scaler=MinMaxScaler()\n",
    "\n",
    "df_scaled = df.iloc[:,:-1]\n",
    "scaler.fit(df_scaled)\n",
    "df_scaled = scaler.transform(df_scaled)\n",
    "\n",
    "df.iloc[:,:-1] =df_scaled[:,:]\n",
    "df.head()"
   ]
  },
  {
   "cell_type": "code",
   "execution_count": 23,
   "metadata": {},
   "outputs": [],
   "source": [
    "#학습 데이터와 검증 데이터로 분할\n",
    "X_data = df.loc[:,['LSTAT','RM']]\n",
    "y_data = df.loc[:,'Target']\n",
    "\n",
    "X_train,X_test,y_train,y_test = train_test_split(X_data,y_data,test_size=0.2,shuffle=True,random_state=12)"
   ]
  },
  {
   "cell_type": "code",
   "execution_count": 24,
   "metadata": {},
   "outputs": [
    {
     "data": {
      "text/plain": [
       "LinearRegression()"
      ]
     },
     "execution_count": 24,
     "metadata": {},
     "output_type": "execute_result"
    }
   ],
   "source": [
    "#선형 회귀(베이스라인 모델)\n",
    "\n",
    "from sklearn.linear_model import LinearRegression\n",
    "\n",
    "lr = LinearRegression()\n",
    "lr.fit(X_train,y_train)"
   ]
  },
  {
   "cell_type": "code",
   "execution_count": 25,
   "metadata": {},
   "outputs": [
    {
     "name": "stdout",
     "output_type": "stream",
     "text": [
      "회귀 계수(기울기):  [-23.16742603  25.40485306]\n",
      "상수항(절편) :  16.25726756065851\n"
     ]
    }
   ],
   "source": [
    "print(\"회귀 계수(기울기): \", lr.coef_)\n",
    "print(\"상수항(절편) : \",lr.intercept_)\n",
    "\n",
    "#저소득층은 음수, 방의개수는 양수"
   ]
  },
  {
   "cell_type": "code",
   "execution_count": 26,
   "metadata": {},
   "outputs": [
    {
     "data": {
      "image/png": "[encoded data removed]",
      "text/plain": [
       "<Figure size 432x288 with 1 Axes>"
      ]
     },
     "metadata": {
      "needs_background": "light"
     },
     "output_type": "display_data"
    }
   ],
   "source": [
    "#예측\n",
    "y_test_pred= lr.predict(X_test)\n",
    "\n",
    "#예측값, 실제값 그림\n",
    "\n",
    "plt.scatter(X_test['LSTAT'], y_test, label='y_test')\n",
    "plt.scatter(X_test['LSTAT'], y_test_pred, label='y_test_pred',c='r')\n",
    "\n",
    "plt.legend()\n",
    "plt.show()"
   ]
  },
  {
   "cell_type": "code",
   "execution_count": 27,
   "metadata": {},
   "outputs": [
    {
     "name": "stdout",
     "output_type": "stream",
     "text": [
      "Train MSE:  30.804233918828988\n",
      "Test MSE:  29.506547336671154\n"
     ]
    }
   ],
   "source": [
    "#실제값과(정답) 예측값의 차이를 잔차(residuals)라고한다.\n",
    "#모델 성능을 평가할 때 사용되는 수치화된 성능 지표\n",
    "#MSE(Mean Squared Error) 잔차의 제곱을 평균한 값\n",
    "#MAE (Mean Absolute Error) 잔차의 절대값을 평균한 값\n",
    "#RMSE(Root Mean Squared Error) MSE의 제곱근\n",
    "\n",
    "from sklearn.metrics import mean_squared_error\n",
    "\n",
    "y_train_pred = lr.predict(X_train)\n",
    "\n",
    "train_mse=mean_squared_error(y_train,y_train_pred)\n",
    "print(\"Train MSE: \",train_mse)\n",
    "\n",
    "test_mse=mean_squared_error(y_test,y_test_pred) #실제 y값과 모델 예측 y값\n",
    "print(\"Test MSE: \",test_mse)\n",
    "\n"
   ]
  },
  {
   "cell_type": "code",
   "execution_count": null,
   "metadata": {},
   "outputs": [],
   "source": [
    "#과대적합overfitting & 과소적합underfitting\n",
    "\n",
    "#과대적합 overfitting 모델이 학습에 사용한 데이터와 비슷한 데이터는 잘\n",
    "#예측하지만 새로운 특성의 데이터에 대해서는 예측력이 떨어지는 현상\n",
    "#추구공으로 학습 -> 축구공 잘 예측 -> 야구공(x), 탁구공(x)\n",
    "#일반적으로 모델 구조가 복잡할수록 패턴을 잘 파악하는데 모델이 훈련 데이터에\n",
    "#지나치게 적응하는 상황이 될 수 있다. 이런 경우 훈련데이터와 차이가 큰 새로운\n",
    "#데이터에 대해서는 모델이 학습한 패턴으로는 잘 설명되지 않는 경우가 발생한다.\n",
    "\n",
    "#과소적합 underfitting 훈련 데이터의 특성을 파악하기 충분하지 않을 정도로\n",
    "#모델의 구성이 단순하거나 데이터의 수가 부족할 때 발생한다. 단순한 선형 함수로\n",
    "#데이터 분포를 충분히 설명하지 못한다.\n",
    "\n",
    "#모델의 예측력을 안정적으로 확보하려면 과대적합이나 과소적합이 아닌 중간 생태의\n",
    "#균형점을 찾는 것이 중요하다."
   ]
  },
  {
   "cell_type": "code",
   "execution_count": 28,
   "metadata": {},
   "outputs": [
    {
     "name": "stdout",
     "output_type": "stream",
     "text": [
      "Train MSE:  18.802883869508115\n",
      "Test MSE:  17.90648054574048\n"
     ]
    }
   ],
   "source": [
    "#의사 결정 나무\n",
    "\n",
    "#선형 회귀 모델에 비해 오차가 전반적으로 낮은 편이다.\n",
    "\n",
    "from sklearn.tree import DecisionTreeRegressor\n",
    "\n",
    "dtr=DecisionTreeRegressor(max_depth=3,random_state=12)\n",
    "dtr.fit(X_train,y_train)\n",
    "\n",
    "\n",
    "y_train_pred= dtr.predict(X_train)\n",
    "train_mse=mean_squared_error(y_train,y_train_pred)\n",
    "print(\"Train MSE: \",train_mse)\n",
    "\n",
    "y_test_pred= dtr.predict(X_test)\n",
    "test_mse=mean_squared_error(y_test,y_test_pred)\n",
    "print(\"Test MSE: \",test_mse)\n",
    "\n"
   ]
  },
  {
   "cell_type": "code",
   "execution_count": 38,
   "metadata": {},
   "outputs": [
    {
     "name": "stdout",
     "output_type": "stream",
     "text": [
      "Train MSE :  3.51759554074442\n",
      "Test MSE :  20.206037959685645\n"
     ]
    }
   ],
   "source": [
    "# XGBoost\n",
    "\n",
    "from xgboost import XGBRegressor\n",
    "xgbr = XGBRegressor(objective='reg:squarederror', max_depth=3, random_state=12)\n",
    "xgbr.fit(X_train, y_train)\n",
    "\n",
    "y_train_pred = xgbr.predict(X_train)\n",
    "train_mse = mean_squared_error(y_train, y_train_pred)\n",
    "print(\"Train MSE : \", train_mse)\n",
    "\n",
    "y_test_pred = xgbr.predict(X_test)\n",
    "test_mse = mean_squared_error(y_test, y_test_pred)\n",
    "print(\"Test MSE : \", test_mse)\n",
    "\n",
    "# Train MSE 와 Test MSE 차이가 크면 과대적합으로 볼수 있다. \n",
    "# 데이터의 개수가 작기 때문에 XGBoost와 같이 복잡도가 높은 알고리즘은 쉽게\n",
    "# 과적합될 위험성이 있다. XGBoost 알고리즘은 데이터의 개수가 많고 \n",
    "# 모델 예측의 난이도가 높은 경우 탁월한 성능을 보인다.\n"
   ]
  },
  {
   "cell_type": "code",
   "execution_count": null,
   "metadata": {},
   "outputs": [],
   "source": []
  }
 ],
 "metadata": {
  "interpreter": {
   "hash": "b3ba2566441a7c06988d0923437866b63cedc61552a5af99d1f4fb67d367b25f"
  },
  "kernelspec": {
   "display_name": "Python 3.8.8 64-bit ('base': conda)",
   "name": "python3"
  },
  "language_info": {
   "codemirror_mode": {
    "name": "ipython",
    "version": 3
   },
   "file_extension": ".py",
   "mimetype": "text/x-python",
   "name": "python",
   "nbconvert_exporter": "python",
   "pygments_lexer": "ipython3",
   "version": "3.8.8"
  },
  "orig_nbformat": 4
 },
 "nbformat": 4,
 "nbformat_minor": 2
}
