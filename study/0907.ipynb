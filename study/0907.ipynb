{
 "cells": [
  {
   "cell_type": "markdown",
   "source": [
    "# 변수명 짓기\r\n",
    "- 첫문자는 문자 또는 언더바 이어야 한다.\r\n",
    "- __init__ __name__ __main__ 언더바 2개로 시작하는 이름 특별한 의미를 갖는다.\r\n",
    "    그래서 언더가 2개로 시작하는 이름은 사용하지 말자\r\n",
    "- 이미 사용되는 키워드는 피하자 (if, else, for 등등..)\r\n"
   ],
   "metadata": {}
  },
  {
   "cell_type": "markdown",
   "source": [
    "대입 연산자\r\n",
    "n = 10\r\n",
    "n = n + 1\r\n",
    "\r\n",
    "n += 1 == n = n+1   ...\r\n",
    "\r\n",
    "\r\n",
    " "
   ],
   "metadata": {}
  },
  {
   "cell_type": "markdown",
   "source": [
    "입력과 출력\r\n",
    "\r\n",
    "\r\n",
    "n = int(input())"
   ],
   "metadata": {}
  },
  {
   "cell_type": "code",
   "execution_count": 5,
   "source": [
    "n = input('정수 숫자를 입력하세요.')\r\n",
    "print(n)"
   ],
   "outputs": [
    {
     "output_type": "stream",
     "name": "stdout",
     "text": [
      "100\n"
     ]
    }
   ],
   "metadata": {}
  },
  {
   "cell_type": "markdown",
   "source": [
    "sep = 문자열 : 문자열 구분자를 기본 설정인 빈칸에서 다른 문자로 설정\r\n",
    "                sep = ''와 같이 설정하면 구분자가 없는 것으로 설정\r\n",
    "\r\n",
    "end = 문자열 : 마지막 인수를 출력한 후 맨 마지막에 출력할 문자열을 설정\r\n",
    "                기본은 줄바꿈, 즉 개행문자이다.\r\n",
    "                줄 넘김을 하고 싶지 않으면 end=''와 같이 빈문자를 입력"
   ],
   "metadata": {}
  },
  {
   "cell_type": "code",
   "execution_count": 9,
   "source": [
    "side1 = float(input('한변의 길이를 입력하세요'))\r\n",
    "side2 = float(input('다른 한 변의 길이를 입력하세요'))\r\n",
    "\r\n",
    "hyp = ((side1 *side1) + (side2* side2)) **0.5\r\n",
    "\r\n",
    "print('빗변의 길이 : ',hyp ,end =' ')\r\n",
    "print(\"입니다.\")"
   ],
   "outputs": [
    {
     "output_type": "stream",
     "name": "stdout",
     "text": [
      "빗변의 길이 :  105.83005244258362 입니다.\n"
     ]
    }
   ],
   "metadata": {}
  },
  {
   "cell_type": "code",
   "execution_count": 12,
   "source": [
    "def main():\r\n",
    "    side1 = float(input('한변의 길이를 입력하세요'))\r\n",
    "    side2 = float(input('다른 한 변의 길이를 입력하세요'))\r\n",
    "\r\n",
    "    hyp = ((side1 *side2) + (side2* side2)) **0.5\r\n",
    "\r\n",
    "    print('빗변의 길이 : ',hyp ,end =' ')\r\n",
    "    print(\"입니다.\")\r\n",
    "\r\n",
    "main()"
   ],
   "outputs": [
    {
     "output_type": "error",
     "ename": "ValueError",
     "evalue": "could not convert string to float: ''",
     "traceback": [
      "\u001b[1;31m---------------------------------------------------------------------------\u001b[0m",
      "\u001b[1;31mValueError\u001b[0m                                Traceback (most recent call last)",
      "\u001b[1;32m<ipython-input-12-8eea9a5b5fc2>\u001b[0m in \u001b[0;36m<module>\u001b[1;34m\u001b[0m\n\u001b[0;32m      8\u001b[0m     \u001b[0mprint\u001b[0m\u001b[1;33m(\u001b[0m\u001b[1;34m\"입니다.\"\u001b[0m\u001b[1;33m)\u001b[0m\u001b[1;33m\u001b[0m\u001b[1;33m\u001b[0m\u001b[0m\n\u001b[0;32m      9\u001b[0m \u001b[1;33m\u001b[0m\u001b[0m\n\u001b[1;32m---> 10\u001b[1;33m \u001b[0mmain\u001b[0m\u001b[1;33m(\u001b[0m\u001b[1;33m)\u001b[0m\u001b[1;33m\u001b[0m\u001b[1;33m\u001b[0m\u001b[0m\n\u001b[0m",
      "\u001b[1;32m<ipython-input-12-8eea9a5b5fc2>\u001b[0m in \u001b[0;36mmain\u001b[1;34m()\u001b[0m\n\u001b[0;32m      1\u001b[0m \u001b[1;32mdef\u001b[0m \u001b[0mmain\u001b[0m\u001b[1;33m(\u001b[0m\u001b[1;33m)\u001b[0m\u001b[1;33m:\u001b[0m\u001b[1;33m\u001b[0m\u001b[1;33m\u001b[0m\u001b[0m\n\u001b[1;32m----> 2\u001b[1;33m     \u001b[0mside1\u001b[0m \u001b[1;33m=\u001b[0m \u001b[0mfloat\u001b[0m\u001b[1;33m(\u001b[0m\u001b[0minput\u001b[0m\u001b[1;33m(\u001b[0m\u001b[1;34m'한변의 길이를 입력하세요'\u001b[0m\u001b[1;33m)\u001b[0m\u001b[1;33m)\u001b[0m\u001b[1;33m\u001b[0m\u001b[1;33m\u001b[0m\u001b[0m\n\u001b[0m\u001b[0;32m      3\u001b[0m     \u001b[0mside2\u001b[0m \u001b[1;33m=\u001b[0m \u001b[0mfloat\u001b[0m\u001b[1;33m(\u001b[0m\u001b[0minput\u001b[0m\u001b[1;33m(\u001b[0m\u001b[1;34m'다른 한 변의 길이를 입력하세요'\u001b[0m\u001b[1;33m)\u001b[0m\u001b[1;33m)\u001b[0m\u001b[1;33m\u001b[0m\u001b[1;33m\u001b[0m\u001b[0m\n\u001b[0;32m      4\u001b[0m \u001b[1;33m\u001b[0m\u001b[0m\n\u001b[0;32m      5\u001b[0m     \u001b[0mhyp\u001b[0m \u001b[1;33m=\u001b[0m \u001b[1;33m(\u001b[0m\u001b[1;33m(\u001b[0m\u001b[0mside1\u001b[0m \u001b[1;33m*\u001b[0m\u001b[0mside2\u001b[0m\u001b[1;33m)\u001b[0m \u001b[1;33m+\u001b[0m \u001b[1;33m(\u001b[0m\u001b[0mside2\u001b[0m\u001b[1;33m*\u001b[0m \u001b[0mside2\u001b[0m\u001b[1;33m)\u001b[0m\u001b[1;33m)\u001b[0m \u001b[1;33m**\u001b[0m\u001b[1;36m0.5\u001b[0m\u001b[1;33m\u001b[0m\u001b[1;33m\u001b[0m\u001b[0m\n",
      "\u001b[1;31mValueError\u001b[0m: could not convert string to float: ''"
     ]
    }
   ],
   "metadata": {}
  },
  {
   "cell_type": "code",
   "execution_count": 13,
   "source": [
    "age = int(input('How Old are u'))\r\n",
    "\r\n",
    "if age<10:\r\n",
    "    print(\"under 10\")\r\n",
    "elif age <20:\r\n",
    "    print('under 20')\r\n",
    "elif age <30:\r\n",
    "    print('under 30')\r\n",
    "\r\n",
    "else:\r\n",
    "    print('over 30')\r\n"
   ],
   "outputs": [
    {
     "output_type": "stream",
     "name": "stdout",
     "text": [
      "under 30\n"
     ]
    }
   ],
   "metadata": {}
  },
  {
   "cell_type": "code",
   "execution_count": 5,
   "source": [
    "def fibo(n):\r\n",
    "    a,b =1,0\r\n",
    "    while a<=n:\r\n",
    "        print(a,end=\" \")\r\n",
    "        a,b = a+b,a\r\n",
    "\r\n",
    "\r\n",
    "fibo(5)\r\n"
   ],
   "outputs": [
    {
     "output_type": "stream",
     "name": "stdout",
     "text": [
      "1 1 2 3 5 "
     ]
    }
   ],
   "metadata": {}
  },
  {
   "cell_type": "code",
   "execution_count": 9,
   "source": [
    "from random import randint\r\n",
    "\r\n",
    "n = randint(1,500)\r\n",
    "\r\n",
    "while True:\r\n",
    "    ans = int(input(\"어떤 숫자일까요?\"))\r\n",
    "    if ans >n :\r\n",
    "        print(\"Down\")\r\n",
    "    elif ans<n:\r\n",
    "        print(\"Up\")\r\n",
    "    else:\r\n",
    "        print(\"정답!\")\r\n",
    "        break\r\n",
    "        "
   ],
   "outputs": [
    {
     "output_type": "stream",
     "name": "stdout",
     "text": [
      "Down\n",
      "Up\n",
      "Down\n",
      "Down\n",
      "Up\n",
      "Down\n",
      "Down\n",
      "Up\n",
      "Up\n",
      "Up\n",
      "Up\n",
      "Up\n",
      "Up\n",
      "정답!\n"
     ]
    }
   ],
   "metadata": {}
  },
  {
   "cell_type": "code",
   "execution_count": null,
   "source": [
    "if not(age>12 and age<20):\r\n",
    "    print(\"청소년이 아닙니다.\")\r\n",
    "if not(12< age <20):\r\n",
    "    print('청소년입니다.')"
   ],
   "outputs": [],
   "metadata": {}
  },
  {
   "cell_type": "markdown",
   "source": [
    "# 전역 변수와 지역변수\r\n",
    "\r\n",
    "count = 10      # 전역변수 선언\r\n",
    "\r\n",
    "def funcA():\r\n",
    "    count = 20      #   지역변수 선언\r\n",
    "    print(count)    #   지역변수 출력\r\n",
    "\r\n",
    "print(count)\r\n",
    "funcA()"
   ],
   "metadata": {}
  },
  {
   "cell_type": "code",
   "execution_count": 3,
   "source": [
    "# 전역 변수와 지역변수\r\n",
    "\r\n",
    "count = 10      # 전역변수 선언\r\n",
    "\r\n",
    "def funcA():\r\n",
    "    count = 20      #   지역변수 선언\r\n",
    "    print(count)    #   지역변수 출력\r\n",
    "\r\n",
    "def funcB():\r\n",
    "    print(count)    #   전역변수 출력\r\n",
    "\r\n",
    "print(count)\r\n",
    "funcA()\r\n",
    "print(funcB())"
   ],
   "outputs": [
    {
     "output_type": "stream",
     "name": "stdout",
     "text": [
      "10\n",
      "20\n",
      "10\n",
      "None\n"
     ]
    }
   ],
   "metadata": {}
  },
  {
   "cell_type": "markdown",
   "source": [
    "# 문자열은 불변이다..\r\n",
    "mutable 가변 (list.set.dic)   immutable 불변  (tuple,문자열)"
   ],
   "metadata": {}
  },
  {
   "cell_type": "code",
   "execution_count": 12,
   "source": [
    "mystr = \"문자열은 불변\"\r\n",
    "print(id(mystr))\r\n",
    "mystr = \"숫자열은 불변\"\r\n",
    "print(id(mystr))\r\n",
    "\r\n",
    "\r\n",
    "print(id(mystr))"
   ],
   "outputs": [
    {
     "output_type": "stream",
     "name": "stdout",
     "text": [
      "2110545664352\n",
      "2110545664464\n",
      "2110545664464\n"
     ]
    }
   ],
   "metadata": {}
  },
  {
   "cell_type": "code",
   "execution_count": 13,
   "source": [
    "# 형변환...\r\n",
    "\r\n",
    "s= '45'\r\n",
    "print(type(s))\r\n",
    "n = int(s)\r\n",
    "print(type(n))\r\n",
    "x = float(n)\r\n",
    "print(type(x))"
   ],
   "outputs": [
    {
     "output_type": "stream",
     "name": "stdout",
     "text": [
      "<class 'str'>\n",
      "<class 'int'>\n",
      "<class 'float'>\n"
     ]
    }
   ],
   "metadata": {}
  },
  {
   "cell_type": "code",
   "execution_count": 15,
   "source": [
    "n = int('10001' ,2) #10001을 2진수로 인식후 10진수로 변환\r\n",
    "print(n)"
   ],
   "outputs": [
    {
     "output_type": "stream",
     "name": "stdout",
     "text": [
      "17\n"
     ]
    }
   ],
   "metadata": {}
  },
  {
   "cell_type": "code",
   "execution_count": 25,
   "source": [
    "n = int(input('자리수를 알고 싶은 숫자를 입력하세요: '))\r\n",
    "cnt =0\r\n",
    "while True:\r\n",
    "    n//=10\r\n",
    "    if(n//10>0):\r\n",
    "        cnt +=1\r\n",
    "    else:\r\n",
    "        print(\"입력하신 숫자의 자리수는 \",cnt+2,\"입니다\")\r\n",
    "        break"
   ],
   "outputs": [
    {
     "output_type": "stream",
     "name": "stdout",
     "text": [
      "입력하신 숫자의 자리수는  1 입니다\n"
     ]
    }
   ],
   "metadata": {}
  },
  {
   "cell_type": "code",
   "execution_count": null,
   "source": [
    "# 인덱싱과 슬라이싱.."
   ],
   "outputs": [],
   "metadata": {}
  },
  {
   "cell_type": "markdown",
   "source": [
    "인덱싱은 문자열, 리스트, 튜플 등에서 특정위치를 숫자로 참조한다.\r\n",
    "슬라이싱은 파이썬의 고유기능이다. 간단한 문법으로 원하는 여러 문자들을 참조한다.\r\n",
    "\r\n",
    "* 문자열은 불변이기 때문에 immutable 인덱싱과 슬라이싱을 해도 실제 값을 변경하는 것은 아니다.\r\n",
    "\r\n",
    "King Adam!\r\n",
    "0123456789\r\n",
    "\r\n",
    "K i n g  A d a m !\r\n",
    "0 1 2 3 4 56 7 8 9 "
   ],
   "metadata": {}
  },
  {
   "cell_type": "code",
   "execution_count": 28,
   "source": [
    "king_str= '\"헨리 8세\"'\r\n",
    "print(len(king_str))"
   ],
   "outputs": [
    {
     "output_type": "stream",
     "name": "stdout",
     "text": [
      "7\n"
     ]
    }
   ],
   "metadata": {}
  },
  {
   "cell_type": "code",
   "execution_count": 34,
   "source": [
    "new_str = king_str[1:-1]\r\n",
    "print(new_str)"
   ],
   "outputs": [
    {
     "output_type": "stream",
     "name": "stdout",
     "text": [
      "헨리 8세\n"
     ]
    }
   ],
   "metadata": {}
  },
  {
   "cell_type": "code",
   "execution_count": 33,
   "source": [
    "a = \"RoboCop\"\r\n",
    "b= a[1::2]\r\n",
    "print(b)"
   ],
   "outputs": [
    {
     "output_type": "stream",
     "name": "stdout",
     "text": [
      "ooo\n"
     ]
    }
   ],
   "metadata": {}
  },
  {
   "cell_type": "code",
   "execution_count": 1,
   "source": [
    "def reverse_str(s):\r\n",
    "    return s[::-1] # start stop step\r\n",
    "\r\n",
    "reverse_str(\"12345\")"
   ],
   "outputs": [
    {
     "output_type": "execute_result",
     "data": {
      "text/plain": [
       "'54321'"
      ]
     },
     "metadata": {},
     "execution_count": 1
    }
   ],
   "metadata": {}
  },
  {
   "cell_type": "markdown",
   "source": [
    "문자열이 불변의 성질 mutable을 가지고 있다는 것을 고려해보면 어떻게 새로운 문자열을 조립하거나 수정할 수 있을까?"
   ],
   "metadata": {}
  },
  {
   "cell_type": "code",
   "execution_count": 37,
   "source": [
    "a = \"Big\"\r\n",
    "a = a+\"Bad\"\r\n",
    "a = a+ \"John\"\r\n",
    "\r\n",
    "#파이썬은 내부적으로 메모리에 완전히 새로운 문자열을 계속 반복생성( 주소값 다 다름 )\r\n",
    "\r\n"
   ],
   "outputs": [],
   "metadata": {}
  },
  {
   "cell_type": "code",
   "execution_count": 38,
   "source": [
    "n = ord('A')\r\n",
    "s = ''\r\n",
    "for i in range(n,n+26):\r\n",
    "    s += chr(i)\r\n",
    "\r\n",
    "print(s)"
   ],
   "outputs": [
    {
     "output_type": "stream",
     "name": "stdout",
     "text": [
      "ABCDEFGHIJKLMNOPQRSTUVWXYZ\n"
     ]
    }
   ],
   "metadata": {}
  },
  {
   "cell_type": "code",
   "execution_count": 44,
   "source": [
    "n = ord('A')\r\n",
    "s = []\r\n",
    "for i in range(n,n+26):\r\n",
    "    s.append(chr(i))\r\n",
    "\r\n",
    "print(s)\r\n",
    "\r\n",
    "l = ''.join(s)\r\n",
    "print(l)"
   ],
   "outputs": [
    {
     "output_type": "stream",
     "name": "stdout",
     "text": [
      "['A', 'B', 'C', 'D', 'E', 'F', 'G', 'H', 'I', 'J', 'K', 'L', 'M', 'N', 'O', 'P', 'Q', 'R', 'S', 'T', 'U', 'V', 'W', 'X', 'Y', 'Z']\n",
      "ABCDEFGHIJKLMNOPQRSTUVWXYZ\n"
     ]
    }
   ],
   "metadata": {}
  },
  {
   "cell_type": "code",
   "execution_count": 56,
   "source": [
    "def pp(a):\r\n",
    "    s = ''\r\n",
    "    for i in a:\r\n",
    "        s += i + ','\r\n",
    "\r\n",
    "    s =s[:-1]\r\n",
    "    print(s)\r\n",
    "\r\n",
    "pp(['홍길동','이몽룡','성춘향'])\r\n",
    "s=['홍길동','이몽룡','성춘향']\r\n",
    "print(len(s))\r\n"
   ],
   "outputs": [
    {
     "output_type": "stream",
     "name": "stdout",
     "text": [
      "홍길동,이몽룡,성춘향\n",
      "3\n"
     ]
    }
   ],
   "metadata": {}
  },
  {
   "cell_type": "code",
   "execution_count": 55,
   "source": [
    "def pp():\r\n",
    "    return ','.join(['홍길동','이몽룡','성춘향'])\r\n",
    "\r\n",
    "print(pp())"
   ],
   "outputs": [
    {
     "output_type": "stream",
     "name": "stdout",
     "text": [
      "홍길동,이몽룡,성춘향\n"
     ]
    }
   ],
   "metadata": {}
  },
  {
   "cell_type": "code",
   "execution_count": 57,
   "source": [
    "dog1= 'Jaxx'\r\n",
    "dog2= 'Cutie Pie'\r\n",
    "\r\n",
    "print(dog1,'has',len(dog1), 'letteres.')\r\n",
    "print(dog2,'has',len(dog2), 'letteres.')"
   ],
   "outputs": [
    {
     "output_type": "stream",
     "name": "stdout",
     "text": [
      "Jaxx has 4 letteres.\n",
      "Cutie Pie has 9 letteres.\n"
     ]
    }
   ],
   "metadata": {}
  },
  {
   "cell_type": "code",
   "execution_count": 58,
   "source": [
    "#is... 함수가 is로 시작하는 모든 메서드는 True or False를 반환한다.\r\n",
    "\r\n",
    "str= '$$123&gf'\r\n",
    "str.isalnum() # 글자와 숫자로만 이루어져 있는지 검사, 최소한 한글자 이상은 있어야함"
   ],
   "outputs": [
    {
     "output_type": "execute_result",
     "data": {
      "text/plain": [
       "False"
      ]
     },
     "metadata": {},
     "execution_count": 58
    }
   ],
   "metadata": {}
  },
  {
   "cell_type": "code",
   "execution_count": 63,
   "source": [
    "str = 'awdawd'\r\n",
    "str.isalpha() # 알파벳으로만 이루어져 있는지 검사, 최소 한글자 이상."
   ],
   "outputs": [
    {
     "output_type": "execute_result",
     "data": {
      "text/plain": [
       "True"
      ]
     },
     "metadata": {},
     "execution_count": 63
    }
   ],
   "metadata": {}
  },
  {
   "cell_type": "code",
   "execution_count": 64,
   "source": [
    "str = '6548932'\r\n",
    "str.isdecimal() # 10진수 숫자로만 이루어져 있는지 검사, 최소 한글자 이상"
   ],
   "outputs": [
    {
     "output_type": "execute_result",
     "data": {
      "text/plain": [
       "True"
      ]
     },
     "metadata": {},
     "execution_count": 64
    }
   ],
   "metadata": {}
  },
  {
   "cell_type": "code",
   "execution_count": 65,
   "source": [
    "str = 'asefsf'\r\n",
    "str.islower() # 10진수 숫자로만 이루어져 있는지 검사, 최소 한글자 이상"
   ],
   "outputs": [
    {
     "output_type": "execute_result",
     "data": {
      "text/plain": [
       "True"
      ]
     },
     "metadata": {},
     "execution_count": 65
    }
   ],
   "metadata": {}
  },
  {
   "cell_type": "code",
   "execution_count": null,
   "source": [
    "str = 'asefsf'\r\n",
    "str.isupper() # 10진수 숫자로만 이루어져 있는지 검사, 최소 한글자 이상"
   ],
   "outputs": [],
   "metadata": {}
  },
  {
   "cell_type": "code",
   "execution_count": 66,
   "source": [
    "str = ' '\r\n",
    "str.isspace() # 10진수 숫자로만 이루어져 있는지 검사, 최소 한글자 이상"
   ],
   "outputs": [
    {
     "output_type": "execute_result",
     "data": {
      "text/plain": [
       "True"
      ]
     },
     "metadata": {},
     "execution_count": 66
    }
   ],
   "metadata": {}
  },
  {
   "cell_type": "code",
   "execution_count": 68,
   "source": [
    "str = 'Smith'\r\n",
    "str.istitle() # 10진수 숫자로만 이루어져 있는지 검사, 최소 한글자 이상"
   ],
   "outputs": [
    {
     "output_type": "execute_result",
     "data": {
      "text/plain": [
       "True"
      ]
     },
     "metadata": {},
     "execution_count": 68
    }
   ],
   "metadata": {}
  },
  {
   "cell_type": "markdown",
   "source": [
    "입력을 받아서 소문자, 대문자, 첫글자만 대문자, 숫자로만"
   ],
   "metadata": {}
  },
  {
   "cell_type": "code",
   "execution_count": 76,
   "source": [
    "a = input()\r\n",
    "\r\n",
    "if a.islower():\r\n",
    "    print('소문자로만 이루어져있습니다.')\r\n",
    "elif a.isupper():\r\n",
    "    print('대문자로만 이루어져있습니다.')\r\n",
    "elif a.istitle():\r\n",
    "    print('첫글자만 대문자로 이루어져있습니다.')\r\n",
    "elif a.isdecimal():\r\n",
    "    print('숫자로만 이루어져있습니다.')"
   ],
   "outputs": [],
   "metadata": {}
  },
  {
   "cell_type": "code",
   "execution_count": 78,
   "source": [
    "#대소문자로 변환하여 새로운 문자열을 만들자\r\n",
    "\r\n",
    "str = \"i'm Henry\"\r\n",
    "newstr = str.upper()\r\n",
    "print(newstr)\r\n"
   ],
   "outputs": [
    {
     "output_type": "stream",
     "name": "stdout",
     "text": [
      "I'M HENRY\n"
     ]
    }
   ],
   "metadata": {}
  },
  {
   "cell_type": "code",
   "execution_count": 92,
   "source": [
    "newstr = str.swapcase()\r\n",
    "\r\n",
    "print(newstr)"
   ],
   "outputs": [
    {
     "output_type": "stream",
     "name": "stdout",
     "text": [
      "sIR. jOHN bENNETT. pHd\n"
     ]
    }
   ],
   "metadata": {}
  },
  {
   "cell_type": "code",
   "execution_count": 83,
   "source": [
    "#접두어 접미어 메서드\r\n",
    "\r\n",
    "str = 'Sir. John Bennett. PhD'\r\n",
    "is_doc = str.endswith('PhD')\r\n",
    "print(is_doc)\r\n",
    "is_Sir = str.startswith('Sir')\r\n",
    "print(is_Sir)"
   ],
   "outputs": [
    {
     "output_type": "stream",
     "name": "stdout",
     "text": [
      "True\n",
      "True\n"
     ]
    }
   ],
   "metadata": {}
  },
  {
   "cell_type": "code",
   "execution_count": 103,
   "source": [
    "title = '25 hues of Grey'\r\n",
    "new_title = title.replace(' ','')\r\n",
    "\r\n",
    "\r\n",
    "print(new_title)"
   ],
   "outputs": [
    {
     "output_type": "stream",
     "name": "stdout",
     "text": [
      "25huesofGrey\n"
     ]
    }
   ],
   "metadata": {}
  },
  {
   "cell_type": "code",
   "execution_count": 111,
   "source": [
    "# split ... 자동으로 리스트로 만들어줌\r\n",
    "\r\n",
    "str_list = 'Moe Larry   Curlyu  Shemp'.split()\r\n",
    "str_list\r\n"
   ],
   "outputs": [
    {
     "output_type": "execute_result",
     "data": {
      "text/plain": [
       "['Moe', 'Larry', 'Curlyu', 'Shemp']"
      ]
     },
     "metadata": {},
     "execution_count": 111
    }
   ],
   "metadata": {}
  },
  {
   "cell_type": "code",
   "execution_count": 110,
   "source": [
    "str_list = 'Moe Larry     Curlyu    Shemp'.split(' ')  #매개변수에 공백 넣어주면 하나의 공백만 구분점으로 하고 나머지 공백은 문자로 취급\r\n",
    "str_list\r\n"
   ],
   "outputs": [
    {
     "output_type": "execute_result",
     "data": {
      "text/plain": [
       "['Moe', 'Larry', '', '', '', '', 'Curlyu', '', '', '', 'Shemp']"
      ]
     },
     "metadata": {},
     "execution_count": 110
    }
   ],
   "metadata": {}
  },
  {
   "cell_type": "code",
   "execution_count": 114,
   "source": [
    "#strip  lstrip  rstrip 여백을 제거\r\n",
    "name ='      Will Shakes             '\r\n",
    "new_name= name.strip()\r\n",
    "new_name"
   ],
   "outputs": [
    {
     "output_type": "execute_result",
     "data": {
      "text/plain": [
       "'Will Shakes'"
      ]
     },
     "metadata": {},
     "execution_count": 114
    }
   ],
   "metadata": {}
  }
 ],
 "metadata": {
  "orig_nbformat": 4,
  "language_info": {
   "name": "python",
   "version": "3.8.8",
   "mimetype": "text/x-python",
   "codemirror_mode": {
    "name": "ipython",
    "version": 3
   },
   "pygments_lexer": "ipython3",
   "nbconvert_exporter": "python",
   "file_extension": ".py"
  },
  "kernelspec": {
   "name": "python3",
   "display_name": "Python 3.8.8 64-bit"
  },
  "interpreter": {
   "hash": "b3ba2566441a7c06988d0923437866b63cedc61552a5af99d1f4fb67d367b25f"
  }
 },
 "nbformat": 4,
 "nbformat_minor": 2
}