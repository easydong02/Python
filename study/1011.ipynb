{
 "cells": [
  {
   "cell_type": "code",
   "execution_count": null,
   "metadata": {},
   "outputs": [],
   "source": [
    "# 데이터의 구조\n",
    "\n",
    "# id 이름 성별 나이 -> 열 column 변수값\n",
    "#  1 홍길동 남 13\n",
    "#  2\n",
    "#  3\n",
    "#  4\n",
    "\n",
    "\n",
    "#행\n",
    "#관측치 observation\n",
    "#측정된 데이터\n",
    "\n",
    "#데이터를 프레임 형태로 재구성해야 인식하고 정확한 분석을 할 수 있다.\n",
    "\n",
    "#정형 - 정리가 되어 있고 분석하기 쉽고 단순한 형태의 데이터 xls, csv\n",
    "#Structured\n",
    "\n",
    "# 반정형 - 고정된 형태의 필드에 저장되어 있지 않은 정형데이터 xml html json log...\n",
    "#semi - structured\n",
    "\n",
    "# 비정형 - 정리되지 않아 분석하기 어렵고 복잡한 형태 , 이미지 동영상 음성 sns 이메일\n",
    "#unstructured\n",
    "\n",
    "\n",
    "#시간에 따른 분류\n",
    "#시간에 따라 측정된 데이터, 각 관측치들이 서로 상관되어 있을 가능성이 높아.\n",
    "# 예 - 주가, 회사 매출이 크게 상승했다면 이 사건에 주가에 반영되는데 시간이 필요하다.\n",
    "# 처음 정보를 얻은 참여자들이 과도하게 주식을 매수한다면 그 다음 주가는 과도하게 올라간 주가를 본래 가치고 회귀하려고 한다. \n",
    "# 즉 전날의 주가가 오느르이 주가에 영향을 미친다.\n",
    "# 주류 판매량은 연말이 연초에 회식 모임 등의 이유로 크게 증가하고 아이스크림은 계절에 영향을 많이 받아 판매량의 추이가 다르게 움직인다.\n",
    "\n",
    "#시계열 데이터(time series data) - 시간에 따라 관측된 데이터. 일별 온도, 강수량, 확진자\n",
    "# 현재 시점에 관측된 데이터가 과거에 관측된 데이터로부터 영향을 받을 수 있다. 즉, 각 관측치들이 서로 독립적이지 않다는 특성을 갖는다.\n",
    "\n",
    "#횡단면 데이터(cross sectional data) - 동 시간대에 얻은 데이터. 점포별 매출, 각 도시별 인구수\n",
    "# 관측 시점이 동일한 다양한 개체로부터 얻는 데이터 보통 관측치 간의 독립성이 어느 정도 보장된다.\n",
    "\n",
    "#패널 데이터(panal data) -횡단면 데이터를 시간에 따라 나열한 데이터를 말한다.\n",
    "# 점포별 매출이 연도별로 산추로디어 있다면 패널 데이터. 시계열과 횡단면이 동시 포함. 각 시도별 월별 세수 현황.\n",
    "\n"
   ]
  },
  {
   "cell_type": "code",
   "execution_count": null,
   "metadata": {},
   "outputs": [],
   "source": [
    "# 모집단 표본\n",
    "\n",
    "# 관심의 대상이 되는 전체 집단, 모집단(population)의 특성을 추출된 표본을 이용해 추정한다. 표본의 특성 추정치 통계량을 이용해서 모집단의\n",
    "# 특성을 파악하는 것을 통계적 추론이라고 한다.\n",
    "\n",
    "                                #모집단                 #표본\n",
    "# 대한민국 남성의 평균 키   대한민국 모든 남성    임의 추출된 100명의 남성\n",
    "\n",
    "#수도권 여당 지지도         모든 수도원 거주자    임의 추출된 300명의 수도권 거주자"
   ]
  },
  {
   "cell_type": "code",
   "execution_count": null,
   "metadata": {},
   "outputs": [],
   "source": [
    "# 척도 변수\n",
    "\n",
    "# 수집된 데이터의 유형 성격을 파악 하는 것이 데이터분석의 필수이다.\n",
    "# 데이터는 측정척도(scale of peasurement)에 따라서 명목, 순위, 등간, 비율 변수로 구분한다.\n",
    "\n",
    "#   변수                                  척도               예\n",
    "#범주형 categorical 변수                  명목               이름, 주민번호, 지역 구분 - 서로 다르다는것 외에는 어떤 정보도  포함하지 않는 데이터, 변수간 연산X\n",
    "#질적 qualitative 변수                    순위               만족도, 순위, 학점 - 크고 작음을 나타내는 정보다 추가되어있는 데이터. 수치화를 통해 연산 가능. 점수화 할 수 있다.\n",
    "#수치형 numerical 변수                    등간(interval)     온도(어는점, 끓는점 등), 물가지수 - 크고 작음은 물론 간격에 대한 정보도 포함된 데이터.\n",
    "#양적 numerical 변수                      비율(ratio)        월 소득 연령대 - 소득이 100만원에서 200만원이 됐다면 소득이 두배 증가했다고 볼 수 있다.\n",
    "\n",
    "\n",
    "#변수 유형에 따른 정보의 양(비율 등간 데이터는 순위, 명목 데이터로 변환이 가능)\n",
    "#비율 > 등간 > 순위 > 명목\n",
    "#나이를 구간화해서 다른 유형의 변수로 만들 수 있다. 10대 20대 30대..."
   ]
  },
  {
   "cell_type": "code",
   "execution_count": null,
   "metadata": {},
   "outputs": [],
   "source": [
    "#설명 변수/ 반응 변수\n",
    "\n",
    "\n",
    "\n",
    "# X 변수                Y변수\n",
    "#독립변수(***)          종속 변수\n",
    "#설명 변수              반응 변수\n",
    "#입력 변수              목표 변수\n",
    "#예측 변수              비예측 변수\n",
    "#특징                   라벨\n",
    "\n",
    "#일정 수준의 오차를 감내하고 보다 빠르게 설명이나 예측을 수행하는 것을 목적으로 한다.\n",
    "\n",
    "#예측 또는 설명의 목적에 해당하는 반응 변수(종속변수)\n",
    "# 다른 하나는 반응 변수에 영향을 줄것으로 예상되는 설명변수(독립변수)"
   ]
  },
  {
   "cell_type": "code",
   "execution_count": null,
   "metadata": {},
   "outputs": [],
   "source": [
    "#데이터 분석 모형\n",
    "\n",
    "# 1. 예측/ 추론\n",
    "\n",
    "#예측이 주목적이라면 모형이 복잡해서 해석이 어렵더라도 예측력을 최대한 높이는 것을 목적\n",
    "#예 - 사진에서 이미지 인식은 이미지가 어떤 사물을 표현한다는 사실이 매우 명확하기 때문에\n",
    "# 굳이 관계를 추론할 필요는 없다. 사진 데이터를 이용해서 보다 정확하게 예측만해도 충분하다.\n",
    "# 즉 예측 결과와 실제 값 사이의 오차를 최소화하는 것이 제일 중요(손글씨 인식,음성 인식 ->신경망, 랜덤포레스트, 딥러닝)\n",
    "\n",
    "#추론은 설명 변수와 반응변수의 관계를 파악한느 것이 주목적이다. 예를 들면 미세먼지 발생량에 다른 호흡기 질환 환자 수의 변화를 분석,\n",
    "#환자수 예측도 중요하지만 그 영향력이 얼마나 큰지 얼마나 유의한지와 같은 '관계'에 대한 추론이 더 중요하다..\n",
    "# 즉 x1,x2,x3의 변화에 따른 Y의 변화를 이해하는데 관심이 있는 것이다.(회귀,의사결정나무)\n",
    "\n",
    "\n",
    "#2. 예측 정확도 / 모델 해석력\n",
    "# 예측력accuracy와 해석력interpretability 간에 상충 관계를 갖는다.\n",
    "# 예를 들면, 교통사고 발생에 운전자 숙련도, 도로 상황, 기상 상황 등 다양한 요인이 영향을 미친다. 그렇기 때문에 복잡한 현상들에 의한 결과를 보다 정확하게\n",
    "# 예측하기 위해서는 복잡한 구조를 표현할 수 있는 모형이 필요하다. 복잡한 구조를 표현하는데 적합한 모형은 그 복잡성 때문에 사람이 이해할 수 없는 구조를 갖게된다.\n",
    "#결국 해석력이 현저하게 떨어진다.\n",
    "#그러면 예측과 해석이 모두 중요한 경우는 어떻게 해야하나.. 기업의 고객 이탈 모형은 어떤 유형의 고객이 이탈하는지도 관심사지만 이탈할 가능성이 높은 고객을\n",
    "#찾아내는 것 역시 매우 중요하다. 즉 해석을 통해 이탈 고객을 줄이기 위한 장기적인 전략을 수립할 수 있고, 예측을 통해 이탈 가능 고객에게 유인을 제공(주차권등)\n",
    "#해 이탈을 막을 수 있을 것이다.\n",
    "#대부분의 경우 목적이 명확하지 않거나 두가지 목적이 모두 중요하다면 오차를 최소화하는 것을 목적으로 한다.\n",
    "\n",
    "\n",
    "#3 탐색적/확증적\n",
    "# 탐색적 데이터 분석 EDA: exploratory data analysis. 데이터의 중요한 특성을 분석하기 위해 데이터를 요약하고 시각화 하는 방법, 정형화된 모형이나\n",
    "#가설을 넘어 데이터가 말하는 것이 무엇인지에 보다 관심을 두는 방법이다. 인사이트를 얻기위함\n",
    "#확증적 데이터 분석 CDA: confirmatory data analysis \n",
    "\n",
    "#4 회귀와 분류\n",
    "# 회귀 regression 연속형 수치를 예측하는 것을 목적으로 하는 유형, 대표적인 모델을 선형 회귀, 의사 결정 나무 svm(support verctor machine)\n",
    "# 분류 classification 데이터를 이용해서 관측치가 어느 특정 그룹에 해당하는지 분류 기업 부실예측, 사기 탐지, 재방문 예측\n",
    "\n",
    "#5 그룹화와 차원축소\n",
    "# 데이터를 묶어나 줄일 수 있다. 그룹화는 성별, 연령, 주거지와 같은 명시된 그룹이 아닌 데이터의 특성에 기초해서 서로 성격이 비슷한 관측치를 찾아\n",
    "# 묶는 방법이다.(군집 분석)\n",
    "\n",
    "# 차원축소는 변수(column)를 줄이는 방법이다. 예를 들면 국영수 -> 주요과목, 음악/미술/체육 -> 기타과목"
   ]
  },
  {
   "cell_type": "code",
   "execution_count": null,
   "metadata": {},
   "outputs": [],
   "source": [
    "#회귀 ... 종속변수가 양적 변수일때 즉, 숫자의 형태를 가지고 있을 때 분석하기 위한 방법\n",
    "# 설명 변수(독립변수)가 질적 변수인 경우 t-검정 또는 ANOVA(분산 분석) 등의 방법을 사용하여 해결한다.\n",
    "# 설명변수에 양적 변수가 포함되어 있으면 선형 회귀분석(linear regrassion)의 방법을 사용하여 해결한다."
   ]
  },
  {
   "cell_type": "code",
   "execution_count": null,
   "metadata": {},
   "outputs": [],
   "source": [
    "# t-검정(t- test) 독립변수가 2개, 종속 변수가 수치형일 때 사용하는 분석 방법론이다.\n",
    "\n",
    "#단일표본 t검정 - 특정 집단의 평균을 어떤 숫자와 비교 - 정화시설의 ph농도가 기준치에 부합하는지 \n",
    "#one sample t-test\n",
    "\n",
    "#독립표본 t검정 - 서로 다른 두 그룹 간의 평균 비교 - 남녀간의 소득 차이 비교\n",
    "#two sample t-test\n",
    "\n",
    "#대용표본 t검정 - 한 집단의 처리(시간) 전후 평균 비교 - 학생의 과외 전후, 보충수업 실시 전후\n",
    "#paired t-test\n",
    "\n"
   ]
  },
  {
   "cell_type": "code",
   "execution_count": null,
   "metadata": {},
   "outputs": [],
   "source": [
    "# 단일 표본 t검정 : 단일 그룹의 평균이 어떤 상수와 같은 지 검정하는 방법 표본 평균의 분포를 이용한 검정 방법으로 표본 평균의 분포가\n",
    "# 정규분포를 따르는 경우 이용할 수 있다."
   ]
  },
  {
   "cell_type": "code",
   "execution_count": null,
   "metadata": {},
   "outputs": [],
   "source": [
    "#단일 표본 t검정: 단일 그룹의 평균이 어떤 상수와 같은 지 검정하는 방법\n",
    "#                   펴본 평균의 분포를 이용한 검정 방법으로 표본 평균의 분포가\n",
    "#                   정규분포를 따르는 경우 이용할 수 있다. 보통 표본의 수가 30개 이상인 경우\n",
    "#                   표본 평균이 정규분포를 따른다라고 알려져 있다. 만약 30개 미만이면 먼저\n",
    "#                   정규성을 확인하고 수행한다."
   ]
  },
  {
   "cell_type": "code",
   "execution_count": null,
   "metadata": {},
   "outputs": [],
   "source": [
    "# 평소 감자칩을 즐겨 먹는 철수는 어느날 갑자기 감자칩의 중량이 전보다 줄어든 느낌을 받았다.\n",
    "# 오늘 특히 심한 것 같아서 표시된 중량을 확인해 봤더니 같았다. 그런데 직접 저울에 달아서 비교를 해봤더니 무려 6g이나 차이를 보였다.\n",
    "#철수는 감자칩의 중량이 허위로 표기 되었다는 것을 증명하기 위해 가설 검정을 이용하기로 했다.\n",
    "\n",
    "#철수는 본인의 생각이 증명되면 소비자 고발 프로그램에 신고하기로 했다.\n",
    "#그러나 방송사는 근거없는 주장을 믿어주지 않는다.\n",
    "#따라서 얼마전에 배운 통계 검정을 이용해서 본인 주장이 옳다는 것을 증명하기로 한다.\n",
    "\n",
    "#데이터 수집\n",
    "#표기된 중량을 확인해 보니 90g이었다.\n",
    "\n",
    "#관측값 89.03, 95.07, 88.26, 90.07, 90.6, 87, 87.67, 88.8, 90.46, 81.33\n",
    "\n",
    "# 1단계 : 가설 설정\n",
    "#감자칩의 표시된 중량(90g) = 실제 중량(기존에 알려진 사실)\n",
    "#감자칩의 표시된 중량(90g) != 실제 중량(나의 주장)\n",
    "\n",
    "# 2단계: 검정 통계량 선택\n",
    "#단일 표본 t검정(특정 집단의 평균을 어떤 숫자와 비교)\n",
    "\n",
    "\n",
    "# 3단계: 기각역 설정\n",
    "# Null Hypothesis(귀무가설, 영가설)을 기각하기 위한 구간을 선택한다.\n",
    "# 일반적으로 유의수준 0.05(***)를 주로 이용한다.\n",
    "\n",
    "\n",
    "# 4단계: p-value\n",
    "# 유의 확률(p-value)는 그 값이 작을 수록 귀무가설에 반하는 강한 증거가 된다.\n",
    "\n",
    "# 5단계 : 가설 검정\n",
    "# p-value가 유의확률(0.05)보다 작으면 귀무가설을 기각할 수 있다."
   ]
  },
  {
   "cell_type": "code",
   "execution_count": 1,
   "metadata": {},
   "outputs": [],
   "source": [
    "import numpy as np\n",
    "import pandas as pd\n",
    "import scipy as sp # 단일 표본 t-검정 수행\n",
    "from scipy import stats"
   ]
  },
  {
   "cell_type": "code",
   "execution_count": 2,
   "metadata": {},
   "outputs": [],
   "source": [
    "#시각화 패키지\n",
    "from matplotlib import pyplot as plt\n",
    "import seaborn as sns"
   ]
  },
  {
   "cell_type": "code",
   "execution_count": 3,
   "metadata": {},
   "outputs": [],
   "source": [
    "import warnings\n",
    "warnings.filterwarnings(\"ignore\")\n",
    "# 불필요한 경고 메세지 무시"
   ]
  },
  {
   "cell_type": "code",
   "execution_count": 4,
   "metadata": {},
   "outputs": [],
   "source": [
    "potato = np.array([89.03, 95.07, 88.26, 90.07, 90.6, 87, 87.67, 88.8, 90.46, 81.33])\n",
    "\n"
   ]
  },
  {
   "cell_type": "code",
   "execution_count": 5,
   "metadata": {},
   "outputs": [
    {
     "name": "stdout",
     "output_type": "stream",
     "text": [
      "Ttest_1sampResult(statistic=-1.071079943556364, pvalue=0.31201445250451004)\n"
     ]
    }
   ],
   "source": [
    "#단일 표본 t-test 실시\n",
    "one_sample=stats.ttest_1samp(potato, 90)\n",
    "\n",
    "print(one_sample)"
   ]
  },
  {
   "cell_type": "code",
   "execution_count": 10,
   "metadata": {},
   "outputs": [
    {
     "data": {
      "image/png": "[encoded data removed]",
      "text/plain": [
       "<Figure size 432x288 with 1 Axes>"
      ]
     },
     "metadata": {
      "needs_background": "light"
     },
     "output_type": "display_data"
    }
   ],
   "source": [
    "sns.distplot(potato)\n",
    "plt.show()\n",
    "# 90g에 대부분의 데이터가 관측되고 있다."
   ]
  },
  {
   "cell_type": "code",
   "execution_count": 11,
   "metadata": {},
   "outputs": [
    {
     "data": {
      "image/png": "[encoded data removed]",
      "text/plain": [
       "<Figure size 432x288 with 1 Axes>"
      ]
     },
     "metadata": {
      "needs_background": "light"
     },
     "output_type": "display_data"
    }
   ],
   "source": [
    "sns.distplot(potato,rug=True)\n",
    "plt.show()"
   ]
  },
  {
   "cell_type": "code",
   "execution_count": null,
   "metadata": {},
   "outputs": [],
   "source": [
    "#독립표본 t검정 - 서로 다른 두 그룹 간의 평균 비교 - 남여간의 소득 차이 비교(two sample t-test)\n",
    "\n",
    "#두 그룹이 서로 독립임을 가정한다. 보통 표본의 수가 30개 이상인 경우 표본 평균이 정규분포를 따른다라고 알려져있다. 만약 30개 미만이면 먼저 \n",
    "# 정규성을 확인하고 수행한다. 각 그룹별로 관측치 수를 따로 판단한다."
   ]
  },
  {
   "cell_type": "code",
   "execution_count": 6,
   "metadata": {},
   "outputs": [
    {
     "data": {
      "text/html": [
       "<div>\n",
       "<style scoped>\n",
       "    .dataframe tbody tr th:only-of-type {\n",
       "        vertical-align: middle;\n",
       "    }\n",
       "\n",
       "    .dataframe tbody tr th {\n",
       "        vertical-align: top;\n",
       "    }\n",
       "\n",
       "    .dataframe thead th {\n",
       "        text-align: right;\n",
       "    }\n",
       "</style>\n",
       "<table border=\"1\" class=\"dataframe\">\n",
       "  <thead>\n",
       "    <tr style=\"text-align: right;\">\n",
       "      <th></th>\n",
       "      <th>Store</th>\n",
       "      <th>promotion</th>\n",
       "      <th>profit</th>\n",
       "    </tr>\n",
       "  </thead>\n",
       "  <tbody>\n",
       "    <tr>\n",
       "      <th>0</th>\n",
       "      <td>1</td>\n",
       "      <td>NO</td>\n",
       "      <td>2100</td>\n",
       "    </tr>\n",
       "    <tr>\n",
       "      <th>1</th>\n",
       "      <td>2</td>\n",
       "      <td>YES</td>\n",
       "      <td>3000</td>\n",
       "    </tr>\n",
       "    <tr>\n",
       "      <th>2</th>\n",
       "      <td>3</td>\n",
       "      <td>YES</td>\n",
       "      <td>2200</td>\n",
       "    </tr>\n",
       "    <tr>\n",
       "      <th>3</th>\n",
       "      <td>4</td>\n",
       "      <td>YES</td>\n",
       "      <td>2600</td>\n",
       "    </tr>\n",
       "    <tr>\n",
       "      <th>4</th>\n",
       "      <td>5</td>\n",
       "      <td>NO</td>\n",
       "      <td>1700</td>\n",
       "    </tr>\n",
       "    <tr>\n",
       "      <th>...</th>\n",
       "      <td>...</td>\n",
       "      <td>...</td>\n",
       "      <td>...</td>\n",
       "    </tr>\n",
       "    <tr>\n",
       "      <th>95</th>\n",
       "      <td>96</td>\n",
       "      <td>YES</td>\n",
       "      <td>3300</td>\n",
       "    </tr>\n",
       "    <tr>\n",
       "      <th>96</th>\n",
       "      <td>97</td>\n",
       "      <td>YES</td>\n",
       "      <td>3000</td>\n",
       "    </tr>\n",
       "    <tr>\n",
       "      <th>97</th>\n",
       "      <td>98</td>\n",
       "      <td>NO</td>\n",
       "      <td>2000</td>\n",
       "    </tr>\n",
       "    <tr>\n",
       "      <th>98</th>\n",
       "      <td>99</td>\n",
       "      <td>NO</td>\n",
       "      <td>1700</td>\n",
       "    </tr>\n",
       "    <tr>\n",
       "      <th>99</th>\n",
       "      <td>100</td>\n",
       "      <td>YES</td>\n",
       "      <td>2500</td>\n",
       "    </tr>\n",
       "  </tbody>\n",
       "</table>\n",
       "<p>100 rows × 3 columns</p>\n",
       "</div>"
      ],
      "text/plain": [
       "    Store promotion  profit\n",
       "0       1        NO    2100\n",
       "1       2       YES    3000\n",
       "2       3       YES    2200\n",
       "3       4       YES    2600\n",
       "4       5        NO    1700\n",
       "..    ...       ...     ...\n",
       "95     96       YES    3300\n",
       "96     97       YES    3000\n",
       "97     98        NO    2000\n",
       "98     99        NO    1700\n",
       "99    100       YES    2500\n",
       "\n",
       "[100 rows x 3 columns]"
      ]
     },
     "execution_count": 6,
     "metadata": {},
     "output_type": "execute_result"
    }
   ],
   "source": [
    "#A회사는 이번달에 새로운 프로모션을 진행했다. 이 프로모션이 매출 증가에 큰 도움을 줄것이라고 예상했다. 그러나 정확한 효과를 측정해야 지속적으로 이 프로모션을\n",
    "#시행할지 여부를 결정할 수 있다.\n",
    "\n",
    "df_ttest = pd.read_excel('promotion.xlsx')\n",
    "df_ttest"
   ]
  },
  {
   "cell_type": "code",
   "execution_count": 7,
   "metadata": {},
   "outputs": [
    {
     "data": {
      "text/html": [
       "<div>\n",
       "<style scoped>\n",
       "    .dataframe tbody tr th:only-of-type {\n",
       "        vertical-align: middle;\n",
       "    }\n",
       "\n",
       "    .dataframe tbody tr th {\n",
       "        vertical-align: top;\n",
       "    }\n",
       "\n",
       "    .dataframe thead th {\n",
       "        text-align: right;\n",
       "    }\n",
       "</style>\n",
       "<table border=\"1\" class=\"dataframe\">\n",
       "  <thead>\n",
       "    <tr style=\"text-align: right;\">\n",
       "      <th></th>\n",
       "      <th>Store</th>\n",
       "      <th>profit</th>\n",
       "    </tr>\n",
       "  </thead>\n",
       "  <tbody>\n",
       "    <tr>\n",
       "      <th>count</th>\n",
       "      <td>52.000000</td>\n",
       "      <td>52.000000</td>\n",
       "    </tr>\n",
       "    <tr>\n",
       "      <th>mean</th>\n",
       "      <td>51.865385</td>\n",
       "      <td>1923.076923</td>\n",
       "    </tr>\n",
       "    <tr>\n",
       "      <th>std</th>\n",
       "      <td>29.228665</td>\n",
       "      <td>347.887397</td>\n",
       "    </tr>\n",
       "    <tr>\n",
       "      <th>min</th>\n",
       "      <td>1.000000</td>\n",
       "      <td>1400.000000</td>\n",
       "    </tr>\n",
       "    <tr>\n",
       "      <th>25%</th>\n",
       "      <td>26.250000</td>\n",
       "      <td>1675.000000</td>\n",
       "    </tr>\n",
       "    <tr>\n",
       "      <th>50%</th>\n",
       "      <td>53.500000</td>\n",
       "      <td>1900.000000</td>\n",
       "    </tr>\n",
       "    <tr>\n",
       "      <th>75%</th>\n",
       "      <td>77.500000</td>\n",
       "      <td>2125.000000</td>\n",
       "    </tr>\n",
       "    <tr>\n",
       "      <th>max</th>\n",
       "      <td>99.000000</td>\n",
       "      <td>2800.000000</td>\n",
       "    </tr>\n",
       "  </tbody>\n",
       "</table>\n",
       "</div>"
      ],
      "text/plain": [
       "           Store       profit\n",
       "count  52.000000    52.000000\n",
       "mean   51.865385  1923.076923\n",
       "std    29.228665   347.887397\n",
       "min     1.000000  1400.000000\n",
       "25%    26.250000  1675.000000\n",
       "50%    53.500000  1900.000000\n",
       "75%    77.500000  2125.000000\n",
       "max    99.000000  2800.000000"
      ]
     },
     "execution_count": 7,
     "metadata": {},
     "output_type": "execute_result"
    }
   ],
   "source": [
    "df_ttest[df_ttest['promotion']=='NO'].describe()"
   ]
  },
  {
   "cell_type": "code",
   "execution_count": 8,
   "metadata": {},
   "outputs": [],
   "source": [
    "arr_yes=df_ttest[df_ttest['promotion']=='YES']['profit']\n",
    "arr_no=df_ttest[df_ttest['promotion']=='NO']['profit']"
   ]
  },
  {
   "cell_type": "code",
   "execution_count": 17,
   "metadata": {},
   "outputs": [
    {
     "data": {
      "text/plain": [
       "1     3000\n",
       "2     2200\n",
       "3     2600\n",
       "7     3200\n",
       "8     2500\n",
       "10    3000\n",
       "13    3500\n",
       "14    3100\n",
       "17    2800\n",
       "19    2900\n",
       "22    2800\n",
       "24    2600\n",
       "25    2900\n",
       "27    2400\n",
       "29    2600\n",
       "30    2600\n",
       "32    2800\n",
       "33    3100\n",
       "34    3000\n",
       "36    2500\n",
       "37    2900\n",
       "43    2500\n",
       "44    3300\n",
       "45    2600\n",
       "49    2700\n",
       "50    3500\n",
       "52    3600\n",
       "53    2900\n",
       "57    3300\n",
       "60    2700\n",
       "62    2300\n",
       "65    3300\n",
       "66    3200\n",
       "68    2900\n",
       "69    3300\n",
       "70    2900\n",
       "73    2800\n",
       "74    2800\n",
       "77    3000\n",
       "80    3000\n",
       "81    2500\n",
       "82    3400\n",
       "89    3000\n",
       "91    3000\n",
       "92    3200\n",
       "95    3300\n",
       "96    3000\n",
       "99    2500\n",
       "Name: profit, dtype: int64"
      ]
     },
     "execution_count": 17,
     "metadata": {},
     "output_type": "execute_result"
    }
   ],
   "source": [
    "arr_yes"
   ]
  },
  {
   "cell_type": "code",
   "execution_count": 9,
   "metadata": {},
   "outputs": [],
   "source": [
    "ttest_result =stats.ttest_ind(arr_no,arr_yes,equal_var=True)\n",
    "#equal_var =True ->분산의 차이가 없다"
   ]
  },
  {
   "cell_type": "code",
   "execution_count": 10,
   "metadata": {},
   "outputs": [
    {
     "name": "stdout",
     "output_type": "stream",
     "text": [
      "Ttest_indResult(statistic=-14.439444741743737, pvalue=5.272506488147903e-26)\n"
     ]
    }
   ],
   "source": [
    "print(ttest_result)\n"
   ]
  },
  {
   "cell_type": "code",
   "execution_count": 14,
   "metadata": {},
   "outputs": [
    {
     "name": "stdout",
     "output_type": "stream",
     "text": [
      "statistic = -14.439, p-value = 0.0000000000000000000000000527\n"
     ]
    },
    {
     "data": {
      "image/png": "[encoded data removed]",
      "text/plain": [
       "<Figure size 432x288 with 1 Axes>"
      ]
     },
     "metadata": {
      "needs_background": "light"
     },
     "output_type": "display_data"
    }
   ],
   "source": [
    "print('statistic = %.3f, p-value = %.28f' %ttest_result)\n",
    "#p-value가 0.05보다 작기때문에 프로모션 운영이 매출액 향상에 유의미하다고 볼 수 있다.\n",
    "sns.distplot(arr_no,color='red')\n",
    "\n",
    "sns.distplot(arr_yes,color='blue')\n",
    "plt.show()"
   ]
  },
  {
   "cell_type": "code",
   "execution_count": 37,
   "metadata": {},
   "outputs": [
    {
     "data": {
      "text/html": [
       "<div>\n",
       "<style scoped>\n",
       "    .dataframe tbody tr th:only-of-type {\n",
       "        vertical-align: middle;\n",
       "    }\n",
       "\n",
       "    .dataframe tbody tr th {\n",
       "        vertical-align: top;\n",
       "    }\n",
       "\n",
       "    .dataframe thead th {\n",
       "        text-align: right;\n",
       "    }\n",
       "</style>\n",
       "<table border=\"1\" class=\"dataframe\">\n",
       "  <thead>\n",
       "    <tr style=\"text-align: right;\">\n",
       "      <th></th>\n",
       "      <th>store</th>\n",
       "      <th>before</th>\n",
       "      <th>after</th>\n",
       "    </tr>\n",
       "  </thead>\n",
       "  <tbody>\n",
       "    <tr>\n",
       "      <th>0</th>\n",
       "      <td>1</td>\n",
       "      <td>290</td>\n",
       "      <td>326</td>\n",
       "    </tr>\n",
       "    <tr>\n",
       "      <th>1</th>\n",
       "      <td>2</td>\n",
       "      <td>304</td>\n",
       "      <td>306</td>\n",
       "    </tr>\n",
       "    <tr>\n",
       "      <th>2</th>\n",
       "      <td>3</td>\n",
       "      <td>282</td>\n",
       "      <td>328</td>\n",
       "    </tr>\n",
       "    <tr>\n",
       "      <th>3</th>\n",
       "      <td>4</td>\n",
       "      <td>293</td>\n",
       "      <td>322</td>\n",
       "    </tr>\n",
       "    <tr>\n",
       "      <th>4</th>\n",
       "      <td>5</td>\n",
       "      <td>288</td>\n",
       "      <td>314</td>\n",
       "    </tr>\n",
       "  </tbody>\n",
       "</table>\n",
       "</div>"
      ],
      "text/plain": [
       "   store  before  after\n",
       "0      1     290    326\n",
       "1      2     304    306\n",
       "2      3     282    328\n",
       "3      4     293    322\n",
       "4      5     288    314"
      ]
     },
     "execution_count": 37,
     "metadata": {},
     "output_type": "execute_result"
    }
   ],
   "source": [
    "#대용표본 t검정= 한 집단의 처리(시간) 전후 평균 비교 - 학생의 과외 전후, 보충수업 실시 전후\n",
    "# paired t-test\n",
    "\n",
    "# S전자가 이번에 새로운 광고 모델로 J양을 기용했다. J양의 모델료는 상당히 비싸기 때문에 회사에서는 계속해서 J양을 기용하는 것이\n",
    "# 매출증가에 실질적으로 도움이 되는지 확인 후 재계약 여부를 결정하려고 한다.\n",
    "\n",
    "df_paired = pd.read_csv('tvads.csv')\n",
    "df_paired.head()\n",
    "\n",
    "#before는 광고 전 매출, after는 후 매출"
   ]
  },
  {
   "cell_type": "code",
   "execution_count": 38,
   "metadata": {},
   "outputs": [
    {
     "name": "stdout",
     "output_type": "stream",
     "text": [
      "Ttest_relResult(statistic=13.532101813984697, pvalue=5.472565823443566e-19)\n"
     ]
    }
   ],
   "source": [
    "before=np.array(df_paired['before'])\n",
    "after=np.array(df_paired['after'])\n",
    "\n",
    "paired_result = stats.ttest_rel(after,before)\n",
    "\n",
    "print(paired_result)"
   ]
  },
  {
   "cell_type": "code",
   "execution_count": 39,
   "metadata": {},
   "outputs": [
    {
     "name": "stdout",
     "output_type": "stream",
     "text": [
      "statistic = 13.532, p-value = 0.0000000000000000005472565823\n"
     ]
    }
   ],
   "source": [
    "print('statistic = %.3f, p-value = %.28f' %paired_result)\n"
   ]
  },
  {
   "cell_type": "code",
   "execution_count": 40,
   "metadata": {},
   "outputs": [
    {
     "data": {
      "text/plain": [
       "33.29090909090909"
      ]
     },
     "execution_count": 40,
     "metadata": {},
     "output_type": "execute_result"
    }
   ],
   "source": [
    "#평균\n",
    "\n",
    "diff= after-before\n",
    "diff.mean()"
   ]
  },
  {
   "cell_type": "code",
   "execution_count": 42,
   "metadata": {},
   "outputs": [
    {
     "data": {
      "image/png": "[encoded data removed]",
      "text/plain": [
       "<Figure size 1152x576 with 2 Axes>"
      ]
     },
     "metadata": {
      "needs_background": "light"
     },
     "output_type": "display_data"
    }
   ],
   "source": [
    "plt.figure(figsize=(16,8))\n",
    "\n",
    "ax1= plt.subplot(2,2,1)\n",
    "ax1=sns.distplot(before,label='before',color='blue')\n",
    "\n",
    "ax2= plt.subplot(2,2,2)\n",
    "ax2= sns.distplot(after,label='after',color='red')\n",
    "\n",
    "plt.legend()\n",
    "\n",
    "plt.show()\n"
   ]
  },
  {
   "cell_type": "code",
   "execution_count": 45,
   "metadata": {},
   "outputs": [
    {
     "data": {
      "image/png": "[encoded data removed]",
      "text/plain": [
       "<Figure size 1152x576 with 1 Axes>"
      ]
     },
     "metadata": {
      "needs_background": "light"
     },
     "output_type": "display_data"
    }
   ],
   "source": [
    "plt.figure(figsize=(16,8))\n",
    "\n",
    "ax1=sns.distplot(before,label='before',color='blue')\n",
    "\n",
    "ax2= sns.distplot(after,label='after',color='red')\n",
    "\n",
    "plt.legend()\n",
    "\n",
    "plt.show()"
   ]
  },
  {
   "cell_type": "code",
   "execution_count": null,
   "metadata": {},
   "outputs": [],
   "source": [
    "#분산 분석(Analysis of Variance: ANOVA) - 독립변수가 범주형, 종속변수가 수치형 일 때 사용하는 분석 방법\n",
    "#T검정도 분산분석의 일종이다. (독립변수가 2개일 때 사용)\n",
    "\n",
    "#분산분석은 연속형 반응 변수(종속변수)와 범주형 설명 변수(독립변수)를 갖는 데이터를 분석하는 방법.\n",
    "#분산분석은 범주형 설명 변수 집단(수준, 그룹)에 따라 연속형 반응 변수의 평균 차이가 있는지 통계학적으로 검정하는 방법.\n",
    "#t검정의 확장판으로 설명 변수의 집단이 3개 이상인 경우 이용한다.\n",
    "\n",
    "                        #반응변수(전부 연속형)          설명변수(전부 범주형)\n",
    "# 일원 분산 분석            1개                             1개\n",
    "\n",
    "# 이원 분산 분석            1개                             2개\n",
    "\n",
    "# 다원 분산 분석            1개                             3개 이상\n",
    "#쿠폰 외에 고객 등급, 거주지역등 다양한 변수를 포함하여 평균구매금액 검정.\n",
    "\n",
    "# 다변량 분산 분석          2개 이상                        1개                            \n",
    "\n",
    "# 공분산 분석               1개                             2개 이상(범주형/연속형 변수)\n",
    "# 마케팅 캠페인으로 쿠폰의 종류를 다르게 가각에 대해 임의 선정된 10명의 고객에게 발송했을 때 각각의 쿠폰의 종류에 따라 평균 구매\n",
    "#금액의 차가 있는지 검정...\n",
    "\n",
    "# 다변량 공분산 분석        2개 이상                        2개 이상(범주형/연속형 변수)\n",
    "#평균 구매금액 뿐만 아니라 구매 빈도의 변화도 있는지 확인\n",
    "\n",
    "# 공통적으로 연속형 설명 변수와 범주형 설명 변수를 갖는 데이터에 적합한 분석 방법이다.\n"
   ]
  },
  {
   "cell_type": "code",
   "execution_count": null,
   "metadata": {},
   "outputs": [],
   "source": [
    "#일원 분산 분석 - 일원 분산 분석은 연속형 반응변수  1개와 범주형 설명변수 1개를 갖는 데이터를 검정하기 위한 방법이다. 주로\n",
    "# 범주형 설명 변수 수준 수가 3개 이상인 경우 주로 사용한다. 2개인 경우는 t-검정\n",
    "# 각 집단간의 자료는 독립적이고 정규 분포를 따른다.\n",
    "\n",
    "#삼성 반도체 회사는 최근 새로운 기계 도입을 위해서 4개 없체를 선정했다. 실험적으로 각 공정의 일부 라인에 4가지 종류의 새로운 기계를 사용해봤다.\n",
    "# 결과로 얻어진 데이터를 이용해서 어떤 업체의 제품을 이용하는 것이 품질관리에 더 효과적인지 확인 후 업체 선정\n",
    "\n",
    "# 4개 업체의 집단간 불량률(수치) 차이를 검정하는 것이 일원 분산 분석이다."
   ]
  },
  {
   "cell_type": "code",
   "execution_count": 16,
   "metadata": {},
   "outputs": [
    {
     "data": {
      "text/html": [
       "<div>\n",
       "<style scoped>\n",
       "    .dataframe tbody tr th:only-of-type {\n",
       "        vertical-align: middle;\n",
       "    }\n",
       "\n",
       "    .dataframe tbody tr th {\n",
       "        vertical-align: top;\n",
       "    }\n",
       "\n",
       "    .dataframe thead th {\n",
       "        text-align: right;\n",
       "    }\n",
       "</style>\n",
       "<table border=\"1\" class=\"dataframe\">\n",
       "  <thead>\n",
       "    <tr style=\"text-align: right;\">\n",
       "      <th></th>\n",
       "      <th>machine</th>\n",
       "      <th>type</th>\n",
       "      <th>defRate</th>\n",
       "    </tr>\n",
       "  </thead>\n",
       "  <tbody>\n",
       "    <tr>\n",
       "      <th>0</th>\n",
       "      <td>1</td>\n",
       "      <td>3</td>\n",
       "      <td>0.001999</td>\n",
       "    </tr>\n",
       "    <tr>\n",
       "      <th>1</th>\n",
       "      <td>2</td>\n",
       "      <td>1</td>\n",
       "      <td>0.005974</td>\n",
       "    </tr>\n",
       "    <tr>\n",
       "      <th>2</th>\n",
       "      <td>3</td>\n",
       "      <td>4</td>\n",
       "      <td>0.007828</td>\n",
       "    </tr>\n",
       "    <tr>\n",
       "      <th>3</th>\n",
       "      <td>4</td>\n",
       "      <td>1</td>\n",
       "      <td>0.006121</td>\n",
       "    </tr>\n",
       "    <tr>\n",
       "      <th>4</th>\n",
       "      <td>5</td>\n",
       "      <td>1</td>\n",
       "      <td>0.005887</td>\n",
       "    </tr>\n",
       "    <tr>\n",
       "      <th>...</th>\n",
       "      <td>...</td>\n",
       "      <td>...</td>\n",
       "      <td>...</td>\n",
       "    </tr>\n",
       "    <tr>\n",
       "      <th>295</th>\n",
       "      <td>296</td>\n",
       "      <td>2</td>\n",
       "      <td>0.002640</td>\n",
       "    </tr>\n",
       "    <tr>\n",
       "      <th>296</th>\n",
       "      <td>297</td>\n",
       "      <td>4</td>\n",
       "      <td>0.007573</td>\n",
       "    </tr>\n",
       "    <tr>\n",
       "      <th>297</th>\n",
       "      <td>298</td>\n",
       "      <td>2</td>\n",
       "      <td>0.003870</td>\n",
       "    </tr>\n",
       "    <tr>\n",
       "      <th>298</th>\n",
       "      <td>299</td>\n",
       "      <td>1</td>\n",
       "      <td>0.005815</td>\n",
       "    </tr>\n",
       "    <tr>\n",
       "      <th>299</th>\n",
       "      <td>300</td>\n",
       "      <td>1</td>\n",
       "      <td>0.006372</td>\n",
       "    </tr>\n",
       "  </tbody>\n",
       "</table>\n",
       "<p>300 rows × 3 columns</p>\n",
       "</div>"
      ],
      "text/plain": [
       "     machine  type   defRate\n",
       "0          1     3  0.001999\n",
       "1          2     1  0.005974\n",
       "2          3     4  0.007828\n",
       "3          4     1  0.006121\n",
       "4          5     1  0.005887\n",
       "..       ...   ...       ...\n",
       "295      296     2  0.002640\n",
       "296      297     4  0.007573\n",
       "297      298     2  0.003870\n",
       "298      299     1  0.005815\n",
       "299      300     1  0.006372\n",
       "\n",
       "[300 rows x 3 columns]"
      ]
     },
     "execution_count": 16,
     "metadata": {},
     "output_type": "execute_result"
    }
   ],
   "source": [
    "df_one=pd.read_csv('factory.csv')\n",
    "df_one\n",
    "#machine : 기계 인덱스\n",
    "#type : 공급 업체 종류\n",
    "#defRate : 불량률"
   ]
  },
  {
   "cell_type": "code",
   "execution_count": 17,
   "metadata": {},
   "outputs": [
    {
     "data": {
      "text/plain": [
       "machine    0\n",
       "type       0\n",
       "defRate    0\n",
       "dtype: int64"
      ]
     },
     "execution_count": 17,
     "metadata": {},
     "output_type": "execute_result"
    }
   ],
   "source": [
    "df_one.isnull().sum()\n",
    "#결측치 확인"
   ]
  },
  {
   "cell_type": "code",
   "execution_count": 18,
   "metadata": {},
   "outputs": [
    {
     "data": {
      "text/plain": [
       "3    78\n",
       "2    77\n",
       "1    75\n",
       "4    70\n",
       "Name: type, dtype: int64"
      ]
     },
     "execution_count": 18,
     "metadata": {},
     "output_type": "execute_result"
    }
   ],
   "source": [
    "#업체별 데이터 개수 확인\n",
    "\n",
    "df_one['type'].value_counts()"
   ]
  },
  {
   "cell_type": "code",
   "execution_count": 49,
   "metadata": {},
   "outputs": [
    {
     "data": {
      "text/html": [
       "<div>\n",
       "<style scoped>\n",
       "    .dataframe tbody tr th:only-of-type {\n",
       "        vertical-align: middle;\n",
       "    }\n",
       "\n",
       "    .dataframe tbody tr th {\n",
       "        vertical-align: top;\n",
       "    }\n",
       "\n",
       "    .dataframe thead th {\n",
       "        text-align: right;\n",
       "    }\n",
       "</style>\n",
       "<table border=\"1\" class=\"dataframe\">\n",
       "  <thead>\n",
       "    <tr style=\"text-align: right;\">\n",
       "      <th></th>\n",
       "      <th>machine</th>\n",
       "      <th>type</th>\n",
       "      <th>defRate</th>\n",
       "    </tr>\n",
       "  </thead>\n",
       "  <tbody>\n",
       "    <tr>\n",
       "      <th>count</th>\n",
       "      <td>300.000000</td>\n",
       "      <td>300.000000</td>\n",
       "      <td>300.000000</td>\n",
       "    </tr>\n",
       "    <tr>\n",
       "      <th>mean</th>\n",
       "      <td>150.500000</td>\n",
       "      <td>2.476667</td>\n",
       "      <td>0.004636</td>\n",
       "    </tr>\n",
       "    <tr>\n",
       "      <th>std</th>\n",
       "      <td>86.746758</td>\n",
       "      <td>1.104622</td>\n",
       "      <td>0.002418</td>\n",
       "    </tr>\n",
       "    <tr>\n",
       "      <th>min</th>\n",
       "      <td>1.000000</td>\n",
       "      <td>1.000000</td>\n",
       "      <td>0.000704</td>\n",
       "    </tr>\n",
       "    <tr>\n",
       "      <th>25%</th>\n",
       "      <td>75.750000</td>\n",
       "      <td>1.750000</td>\n",
       "      <td>0.002357</td>\n",
       "    </tr>\n",
       "    <tr>\n",
       "      <th>50%</th>\n",
       "      <td>150.500000</td>\n",
       "      <td>2.000000</td>\n",
       "      <td>0.003865</td>\n",
       "    </tr>\n",
       "    <tr>\n",
       "      <th>75%</th>\n",
       "      <td>225.250000</td>\n",
       "      <td>3.000000</td>\n",
       "      <td>0.006799</td>\n",
       "    </tr>\n",
       "    <tr>\n",
       "      <th>max</th>\n",
       "      <td>300.000000</td>\n",
       "      <td>4.000000</td>\n",
       "      <td>0.008727</td>\n",
       "    </tr>\n",
       "  </tbody>\n",
       "</table>\n",
       "</div>"
      ],
      "text/plain": [
       "          machine        type     defRate\n",
       "count  300.000000  300.000000  300.000000\n",
       "mean   150.500000    2.476667    0.004636\n",
       "std     86.746758    1.104622    0.002418\n",
       "min      1.000000    1.000000    0.000704\n",
       "25%     75.750000    1.750000    0.002357\n",
       "50%    150.500000    2.000000    0.003865\n",
       "75%    225.250000    3.000000    0.006799\n",
       "max    300.000000    4.000000    0.008727"
      ]
     },
     "execution_count": 49,
     "metadata": {},
     "output_type": "execute_result"
    }
   ],
   "source": [
    "df_one.describe()"
   ]
  },
  {
   "cell_type": "code",
   "execution_count": 19,
   "metadata": {},
   "outputs": [
    {
     "data": {
      "text/html": [
       "<div>\n",
       "<style scoped>\n",
       "    .dataframe tbody tr th:only-of-type {\n",
       "        vertical-align: middle;\n",
       "    }\n",
       "\n",
       "    .dataframe tbody tr th {\n",
       "        vertical-align: top;\n",
       "    }\n",
       "\n",
       "    .dataframe thead th {\n",
       "        text-align: right;\n",
       "    }\n",
       "</style>\n",
       "<table border=\"1\" class=\"dataframe\">\n",
       "  <thead>\n",
       "    <tr style=\"text-align: right;\">\n",
       "      <th></th>\n",
       "      <th>count</th>\n",
       "      <th>mean</th>\n",
       "      <th>std</th>\n",
       "      <th>min</th>\n",
       "      <th>25%</th>\n",
       "      <th>50%</th>\n",
       "      <th>75%</th>\n",
       "      <th>max</th>\n",
       "    </tr>\n",
       "    <tr>\n",
       "      <th>type</th>\n",
       "      <th></th>\n",
       "      <th></th>\n",
       "      <th></th>\n",
       "      <th></th>\n",
       "      <th></th>\n",
       "      <th></th>\n",
       "      <th></th>\n",
       "      <th></th>\n",
       "    </tr>\n",
       "  </thead>\n",
       "  <tbody>\n",
       "    <tr>\n",
       "      <th>1</th>\n",
       "      <td>75.0</td>\n",
       "      <td>0.006029</td>\n",
       "      <td>0.000460</td>\n",
       "      <td>0.005062</td>\n",
       "      <td>0.005724</td>\n",
       "      <td>0.005986</td>\n",
       "      <td>0.006344</td>\n",
       "      <td>0.007295</td>\n",
       "    </tr>\n",
       "    <tr>\n",
       "      <th>2</th>\n",
       "      <td>77.0</td>\n",
       "      <td>0.002996</td>\n",
       "      <td>0.000522</td>\n",
       "      <td>0.002097</td>\n",
       "      <td>0.002640</td>\n",
       "      <td>0.002976</td>\n",
       "      <td>0.003368</td>\n",
       "      <td>0.004074</td>\n",
       "    </tr>\n",
       "    <tr>\n",
       "      <th>3</th>\n",
       "      <td>78.0</td>\n",
       "      <td>0.001946</td>\n",
       "      <td>0.000454</td>\n",
       "      <td>0.000704</td>\n",
       "      <td>0.001689</td>\n",
       "      <td>0.001986</td>\n",
       "      <td>0.002248</td>\n",
       "      <td>0.002917</td>\n",
       "    </tr>\n",
       "    <tr>\n",
       "      <th>4</th>\n",
       "      <td>70.0</td>\n",
       "      <td>0.007946</td>\n",
       "      <td>0.000420</td>\n",
       "      <td>0.006821</td>\n",
       "      <td>0.007650</td>\n",
       "      <td>0.007940</td>\n",
       "      <td>0.008278</td>\n",
       "      <td>0.008727</td>\n",
       "    </tr>\n",
       "  </tbody>\n",
       "</table>\n",
       "</div>"
      ],
      "text/plain": [
       "      count      mean       std       min       25%       50%       75%  \\\n",
       "type                                                                      \n",
       "1      75.0  0.006029  0.000460  0.005062  0.005724  0.005986  0.006344   \n",
       "2      77.0  0.002996  0.000522  0.002097  0.002640  0.002976  0.003368   \n",
       "3      78.0  0.001946  0.000454  0.000704  0.001689  0.001986  0.002248   \n",
       "4      70.0  0.007946  0.000420  0.006821  0.007650  0.007940  0.008278   \n",
       "\n",
       "           max  \n",
       "type            \n",
       "1     0.007295  \n",
       "2     0.004074  \n",
       "3     0.002917  \n",
       "4     0.008727  "
      ]
     },
     "execution_count": 19,
     "metadata": {},
     "output_type": "execute_result"
    }
   ],
   "source": [
    "df_rate=df_one.groupby('type')['defRate'].describe()\n",
    "\n",
    "df_rate"
   ]
  },
  {
   "cell_type": "code",
   "execution_count": 20,
   "metadata": {},
   "outputs": [
    {
     "data": {
      "image/png": "[encoded data removed]",
      "text/plain": [
       "<Figure size 432x288 with 1 Axes>"
      ]
     },
     "metadata": {
      "needs_background": "light"
     },
     "output_type": "display_data"
    }
   ],
   "source": [
    "sns.boxenplot(x='type',y='defRate',data=df_one)\n",
    "\n",
    "plt.show()"
   ]
  },
  {
   "cell_type": "code",
   "execution_count": 54,
   "metadata": {},
   "outputs": [
    {
     "data": {
      "text/plain": [
       "<AxesSubplot:xlabel='type', ylabel='defRate'>"
      ]
     },
     "execution_count": 54,
     "metadata": {},
     "output_type": "execute_result"
    },
    {
     "data": {
      "image/png": "[encoded data removed]",
      "text/plain": [
       "<Figure size 432x288 with 1 Axes>"
      ]
     },
     "metadata": {
      "needs_background": "light"
     },
     "output_type": "display_data"
    }
   ],
   "source": [
    "sns.violinplot(x='type',y='defRate',data=df_one)"
   ]
  },
  {
   "cell_type": "code",
   "execution_count": 22,
   "metadata": {},
   "outputs": [
    {
     "data": {
      "image/png": "[encoded data removed]",
      "text/plain": [
       "<Figure size 1152x864 with 4 Axes>"
      ]
     },
     "metadata": {
      "needs_background": "light"
     },
     "output_type": "display_data"
    }
   ],
   "source": [
    "#boxplot과 violinplot으로 보면 공장간의 유의미한 차이가 있을 것으로 보인다.\n",
    "\n",
    "type1=np.array(df_one[df_one['type']==1]['defRate'])\n",
    "type2=np.array(df_one[df_one['type']==2]['defRate'])\n",
    "type3=np.array(df_one[df_one['type']==3]['defRate'])\n",
    "type4=np.array(df_one[df_one['type']==4]['defRate'])\n",
    "\n",
    "figure,((ax1,ax2),(ax3,ax4))=plt.subplots(nrows=2,ncols=2)\n",
    "figure.set_size_inches(16,12)\n",
    "\n",
    "sns.distplot(type1,color='blue',label='type1',ax=ax1)\n",
    "ax1.set(title='type1')\n",
    "sns.distplot(type2,color='red',label='type2',ax=ax2)\n",
    "ax2.set(title='type2')\n",
    "sns.distplot(type3,color='yellow',label='type3',ax=ax3)\n",
    "ax3.set(title='type3')\n",
    "sns.distplot(type4,color='green',label='type4',ax=ax4)\n",
    "ax4.set(title='type4')\n",
    "\n",
    "plt.show()"
   ]
  },
  {
   "cell_type": "code",
   "execution_count": 63,
   "metadata": {},
   "outputs": [
    {
     "data": {
      "image/png": "[encoded data removed]",
      "text/plain": [
       "<Figure size 1152x576 with 1 Axes>"
      ]
     },
     "metadata": {
      "needs_background": "light"
     },
     "output_type": "display_data"
    }
   ],
   "source": [
    "plt.figure(figsize=(16,8))\n",
    "\n",
    "sns.distplot(type1,color='blue',label='type1')\n",
    "\n",
    "sns.distplot(type2,color='red',label='type2')\n",
    "\n",
    "sns.distplot(type3,color='yellow',label='type3')\n",
    "\n",
    "sns.distplot(type4,color='green',label='type4')\n",
    "\n",
    "plt.legend()\n",
    "plt.show()\n"
   ]
  },
  {
   "cell_type": "code",
   "execution_count": 64,
   "metadata": {},
   "outputs": [
    {
     "data": {
      "text/html": [
       "<div>\n",
       "<style scoped>\n",
       "    .dataframe tbody tr th:only-of-type {\n",
       "        vertical-align: middle;\n",
       "    }\n",
       "\n",
       "    .dataframe tbody tr th {\n",
       "        vertical-align: top;\n",
       "    }\n",
       "\n",
       "    .dataframe thead th {\n",
       "        text-align: right;\n",
       "    }\n",
       "</style>\n",
       "<table border=\"1\" class=\"dataframe\">\n",
       "  <thead>\n",
       "    <tr style=\"text-align: right;\">\n",
       "      <th></th>\n",
       "      <th>type</th>\n",
       "      <th>defRate</th>\n",
       "    </tr>\n",
       "  </thead>\n",
       "  <tbody>\n",
       "    <tr>\n",
       "      <th>0</th>\n",
       "      <td>3</td>\n",
       "      <td>0.001999</td>\n",
       "    </tr>\n",
       "    <tr>\n",
       "      <th>1</th>\n",
       "      <td>1</td>\n",
       "      <td>0.005974</td>\n",
       "    </tr>\n",
       "    <tr>\n",
       "      <th>2</th>\n",
       "      <td>4</td>\n",
       "      <td>0.007828</td>\n",
       "    </tr>\n",
       "    <tr>\n",
       "      <th>3</th>\n",
       "      <td>1</td>\n",
       "      <td>0.006121</td>\n",
       "    </tr>\n",
       "    <tr>\n",
       "      <th>4</th>\n",
       "      <td>1</td>\n",
       "      <td>0.005887</td>\n",
       "    </tr>\n",
       "    <tr>\n",
       "      <th>...</th>\n",
       "      <td>...</td>\n",
       "      <td>...</td>\n",
       "    </tr>\n",
       "    <tr>\n",
       "      <th>295</th>\n",
       "      <td>2</td>\n",
       "      <td>0.002640</td>\n",
       "    </tr>\n",
       "    <tr>\n",
       "      <th>296</th>\n",
       "      <td>4</td>\n",
       "      <td>0.007573</td>\n",
       "    </tr>\n",
       "    <tr>\n",
       "      <th>297</th>\n",
       "      <td>2</td>\n",
       "      <td>0.003870</td>\n",
       "    </tr>\n",
       "    <tr>\n",
       "      <th>298</th>\n",
       "      <td>1</td>\n",
       "      <td>0.005815</td>\n",
       "    </tr>\n",
       "    <tr>\n",
       "      <th>299</th>\n",
       "      <td>1</td>\n",
       "      <td>0.006372</td>\n",
       "    </tr>\n",
       "  </tbody>\n",
       "</table>\n",
       "<p>300 rows × 2 columns</p>\n",
       "</div>"
      ],
      "text/plain": [
       "     type   defRate\n",
       "0       3  0.001999\n",
       "1       1  0.005974\n",
       "2       4  0.007828\n",
       "3       1  0.006121\n",
       "4       1  0.005887\n",
       "..    ...       ...\n",
       "295     2  0.002640\n",
       "296     4  0.007573\n",
       "297     2  0.003870\n",
       "298     1  0.005815\n",
       "299     1  0.006372\n",
       "\n",
       "[300 rows x 2 columns]"
      ]
     },
     "execution_count": 64,
     "metadata": {},
     "output_type": "execute_result"
    }
   ],
   "source": [
    "# 일원 분산 분석 ... 독립변수는 공급업체(type), 종속 변수는 불량률(defRate) 필요없는 컬럼을 삭제\n",
    "\n",
    "df_anova =df_one.drop('machine',axis=1)\n",
    "\n",
    "df_anova"
   ]
  },
  {
   "cell_type": "code",
   "execution_count": 66,
   "metadata": {},
   "outputs": [
    {
     "name": "stdout",
     "output_type": "stream",
     "text": [
      "F_onewayResult(statistic=2583.218336850084, pvalue=7.222458556350768e-212)\n"
     ]
    }
   ],
   "source": [
    "type1=df_anova[df_anova['type']==1]['defRate']\n",
    "\n",
    "type2=df_anova[df_anova['type']==2]['defRate']\n",
    "type3=df_anova[df_anova['type']==3]['defRate']\n",
    "type4=df_anova[df_anova['type']==4]['defRate']\n",
    "\n",
    "result=stats.f_oneway(type1,type2,type3,type4)\n",
    "print(result)\n",
    "\n",
    "# p value가 0.05보다 훨씬 작으므로 귀무가설을 기각하고 대립가설을 채택한다.(우연하게 발생할 확률이 0에 수렴하므로 반대로 말하면 필연적이다.)"
   ]
  },
  {
   "cell_type": "code",
   "execution_count": 68,
   "metadata": {},
   "outputs": [
    {
     "data": {
      "text/html": [
       "<table class=\"simpletable\">\n",
       "<caption>OLS Regression Results</caption>\n",
       "<tr>\n",
       "  <th>Dep. Variable:</th>         <td>defRate</td>     <th>  R-squared:         </th> <td>   0.963</td> \n",
       "</tr>\n",
       "<tr>\n",
       "  <th>Model:</th>                   <td>OLS</td>       <th>  Adj. R-squared:    </th> <td>   0.963</td> \n",
       "</tr>\n",
       "<tr>\n",
       "  <th>Method:</th>             <td>Least Squares</td>  <th>  F-statistic:       </th> <td>   2583.</td> \n",
       "</tr>\n",
       "<tr>\n",
       "  <th>Date:</th>             <td>Mon, 11 Oct 2021</td> <th>  Prob (F-statistic):</th> <td>7.22e-212</td>\n",
       "</tr>\n",
       "<tr>\n",
       "  <th>Time:</th>                 <td>15:03:37</td>     <th>  Log-Likelihood:    </th> <td>  1877.6</td> \n",
       "</tr>\n",
       "<tr>\n",
       "  <th>No. Observations:</th>      <td>   300</td>      <th>  AIC:               </th> <td>  -3747.</td> \n",
       "</tr>\n",
       "<tr>\n",
       "  <th>Df Residuals:</th>          <td>   296</td>      <th>  BIC:               </th> <td>  -3732.</td> \n",
       "</tr>\n",
       "<tr>\n",
       "  <th>Df Model:</th>              <td>     3</td>      <th>                     </th>     <td> </td>    \n",
       "</tr>\n",
       "<tr>\n",
       "  <th>Covariance Type:</th>      <td>nonrobust</td>    <th>                     </th>     <td> </td>    \n",
       "</tr>\n",
       "</table>\n",
       "<table class=\"simpletable\">\n",
       "<tr>\n",
       "        <td></td>          <th>coef</th>     <th>std err</th>      <th>t</th>      <th>P>|t|</th>  <th>[0.025</th>    <th>0.975]</th>  \n",
       "</tr>\n",
       "<tr>\n",
       "  <th>Intercept</th>    <td>    0.0060</td> <td> 5.38e-05</td> <td>  112.003</td> <td> 0.000</td> <td>    0.006</td> <td>    0.006</td>\n",
       "</tr>\n",
       "<tr>\n",
       "  <th>C(type)[T.2]</th> <td>   -0.0030</td> <td> 7.56e-05</td> <td>  -40.105</td> <td> 0.000</td> <td>   -0.003</td> <td>   -0.003</td>\n",
       "</tr>\n",
       "<tr>\n",
       "  <th>C(type)[T.3]</th> <td>   -0.0041</td> <td> 7.54e-05</td> <td>  -54.161</td> <td> 0.000</td> <td>   -0.004</td> <td>   -0.004</td>\n",
       "</tr>\n",
       "<tr>\n",
       "  <th>C(type)[T.4]</th> <td>    0.0019</td> <td> 7.75e-05</td> <td>   24.745</td> <td> 0.000</td> <td>    0.002</td> <td>    0.002</td>\n",
       "</tr>\n",
       "</table>\n",
       "<table class=\"simpletable\">\n",
       "<tr>\n",
       "  <th>Omnibus:</th>       <td> 0.584</td> <th>  Durbin-Watson:     </th> <td>   2.088</td>\n",
       "</tr>\n",
       "<tr>\n",
       "  <th>Prob(Omnibus):</th> <td> 0.747</td> <th>  Jarque-Bera (JB):  </th> <td>   0.693</td>\n",
       "</tr>\n",
       "<tr>\n",
       "  <th>Skew:</th>          <td>-0.014</td> <th>  Prob(JB):          </th> <td>   0.707</td>\n",
       "</tr>\n",
       "<tr>\n",
       "  <th>Kurtosis:</th>      <td> 2.766</td> <th>  Cond. No.          </th> <td>    4.79</td>\n",
       "</tr>\n",
       "</table><br/><br/>Notes:<br/>[1] Standard Errors assume that the covariance matrix of the errors is correctly specified."
      ],
      "text/plain": [
       "<class 'statsmodels.iolib.summary.Summary'>\n",
       "\"\"\"\n",
       "                            OLS Regression Results                            \n",
       "==============================================================================\n",
       "Dep. Variable:                defRate   R-squared:                       0.963\n",
       "Model:                            OLS   Adj. R-squared:                  0.963\n",
       "Method:                 Least Squares   F-statistic:                     2583.\n",
       "Date:                Mon, 11 Oct 2021   Prob (F-statistic):          7.22e-212\n",
       "Time:                        15:03:37   Log-Likelihood:                 1877.6\n",
       "No. Observations:                 300   AIC:                            -3747.\n",
       "Df Residuals:                     296   BIC:                            -3732.\n",
       "Df Model:                           3                                         \n",
       "Covariance Type:            nonrobust                                         \n",
       "================================================================================\n",
       "                   coef    std err          t      P>|t|      [0.025      0.975]\n",
       "--------------------------------------------------------------------------------\n",
       "Intercept        0.0060   5.38e-05    112.003      0.000       0.006       0.006\n",
       "C(type)[T.2]    -0.0030   7.56e-05    -40.105      0.000      -0.003      -0.003\n",
       "C(type)[T.3]    -0.0041   7.54e-05    -54.161      0.000      -0.004      -0.004\n",
       "C(type)[T.4]     0.0019   7.75e-05     24.745      0.000       0.002       0.002\n",
       "==============================================================================\n",
       "Omnibus:                        0.584   Durbin-Watson:                   2.088\n",
       "Prob(Omnibus):                  0.747   Jarque-Bera (JB):                0.693\n",
       "Skew:                          -0.014   Prob(JB):                        0.707\n",
       "Kurtosis:                       2.766   Cond. No.                         4.79\n",
       "==============================================================================\n",
       "\n",
       "Notes:\n",
       "[1] Standard Errors assume that the covariance matrix of the errors is correctly specified.\n",
       "\"\"\""
      ]
     },
     "execution_count": 68,
     "metadata": {},
     "output_type": "execute_result"
    }
   ],
   "source": [
    "from statsmodels .formula.api import ols\n",
    "import pandas as pd\n",
    "\n",
    "results=ols('defRate ~ C(type)',data=df_anova).fit()\n",
    "results.summary()\n",
    "\n",
    "#R-squared 0.963 결정계수, 설명력(0~1사이값) 1에 가까울수록 설명력이 높다."
   ]
  },
  {
   "cell_type": "code",
   "execution_count": null,
   "metadata": {},
   "outputs": [],
   "source": [
    "#상관 분석 - 두 연속형 변수의 선형 상관 관계를 분석, 반응변수와 설명 변수를 구분하는 것은 의미가 없다.\n",
    "# 두 연속형 변수간의 상관관계는 상관계수를 통해 알 수 있다. (예 : 키와 몸무게, )"
   ]
  }
 ],
 "metadata": {
  "interpreter": {
   "hash": "b3ba2566441a7c06988d0923437866b63cedc61552a5af99d1f4fb67d367b25f"
  },
  "kernelspec": {
   "display_name": "Python 3.8.8 64-bit ('base': conda)",
   "name": "python3"
  },
  "language_info": {
   "codemirror_mode": {
    "name": "ipython",
    "version": 3
   },
   "file_extension": ".py",
   "mimetype": "text/x-python",
   "name": "python",
   "nbconvert_exporter": "python",
   "pygments_lexer": "ipython3",
   "version": "3.8.8"
  },
  "orig_nbformat": 4
 },
 "nbformat": 4,
 "nbformat_minor": 2
}
