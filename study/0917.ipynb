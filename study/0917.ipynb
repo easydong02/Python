{
 "cells": [
  {
   "cell_type": "markdown",
   "source": [
    "에라토스테네스의 체\r\n",
    "\r\n",
    "    - 소수를 찾아내는 알고리즘이다.\r\n",
    "    - 소수는 2 이상의 정수에서 1과 그 자신으로만 나눌 수 있는 수다.\r\n",
    "    - 소수는 나열되어 있는 구간이 불규칙하므로 임의로 찾기 어렵다.\r\n",
    "    - 어떤 범위의 수 중에서 소수를 찾는 알고리즘\r\n",
    "    - 반드시 알아야만 하는 알고리즘이다.\r\n",
    "\r\n",
    "소수.. prime number\r\n",
    "    - 소수는 2 이상의 정수 중에서 1과 그 수 자신 외에는 나눌 수 없는 숫자. 10이하라면 2,3,5,7\r\n",
    "    4 2 로도 나눌 수 있고 6 2와 3으로도 나눌 수 있고 9 8으로 나눌 수 있고 10 2와 5로 나눌 수 있다. 따라서 소수가 아니다. 다른 관점에서 보면 나누는 수와 몫의 곱셈으로 나타낼 수 있다. 그래서 숫자와 숫자가 합성된 것이라고 표현할 수 있기때문에 합성수라고도 한다. 반대로 말하면 합성수가 아닌 숫자가 소수이다."
   ],
   "metadata": {}
  },
  {
   "cell_type": "code",
   "execution_count": 2,
   "source": [
    "x=11\r\n",
    "b = range(2,x)\r\n",
    "c = 0\r\n",
    "\r\n",
    "for i in b:\r\n",
    "    if x % i ==0:\r\n",
    "        c +=1\r\n",
    "        break\r\n",
    "\r\n",
    "if c>0:\r\n",
    "    print('소수가 아닙니다')\r\n",
    "else:\r\n",
    "    print('소수입니다.')"
   ],
   "outputs": [
    {
     "output_type": "stream",
     "name": "stdout",
     "text": [
      "소수입니다.\n"
     ]
    }
   ],
   "metadata": {}
  },
  {
   "cell_type": "markdown",
   "source": [
    "소수인지 아닌 지를 구분하는 것은 의외로 어렵다.\r\n",
    "\r\n",
    "3의 배수는 3,6,9,12 ... 3의 간격으로 나열되기 대문에 1에서 100까지 사이에 있는 3의 배수를 찾는 일은 비교적 간단하다. 하지만 소수는 규칙성이 없기 때문에 간격이 불규칙하고 랜덤하다. 즉 소수는 한번에 열거하기 어렵다.\r\n",
    "\r\n",
    "특정 수 까지의 소수를 찾으려면 그 수 이하까지에서 2로 나눌 수 있는 수를 모두 지우고 3으로 나눌 수 있는 수를 모두 지우고 4로 나눌 수 있는 수를 모두 지우고 ... 99로 나눌 수 있는 수를 모두 지우는 방식이다."
   ],
   "metadata": {}
  },
  {
   "cell_type": "markdown",
   "source": [
    "에라토스테네스의 체 개념 파악하기\r\n",
    "    - 어떤 수 이하의 모든 정수 데이터를 준비하자\r\n",
    "    - 어떤 수의 제곱근 보다 작은 소수의 배수를 제거한다.\r\n",
    "    - 마지막까지 남은 수를 소수로 출력한다.\r\n",
    "\r\n",
    "\r\n",
    "우선 10 이하의 소수를 구하는 경우\r\n",
    "    - 10 이하의 정수 데이터를 준비한다.\r\n",
    "    - 10의 제곱근(약3.16)보다 작은 소수의 배수들을 제거한다.\r\n",
    "    - 남은 수를 출력한다.\r\n",
    "\r\n",
    "0 1 2 3 4 5 6 7 8 9 10\r\n",
    "1 1 1 1 1 1 1 1 1 1 1\r\n",
    "\r\n",
    "10의 제곱근은 3.16 이므로 제곱근 이하의 소수는 2,3이다. 2의 모든 배수와 3의 모든 배수를 지운다. 지운다라는 표현을 0대입한다로 적용한다.\r\n",
    "\r\n",
    "0 1 2 3 4 5 6 7 8 9 10\r\n",
    "1 1 1 1 0 1 0 1 0 0 0\r\n",
    "    - -   -   -   \r\n",
    "\r\n",
    "[2,3,5,7]"
   ],
   "metadata": {}
  },
  {
   "cell_type": "code",
   "execution_count": 34,
   "source": [
    "arr=[1]*100\r\n",
    "k=2\r\n",
    "\r\n",
    "while True:\r\n",
    "    if k*k<=100:\r\n",
    "        if arr[k]==1:\r\n",
    "            i=k\r\n",
    "            while True:\r\n",
    "                if i<=99/k:\r\n",
    "                    arr[k*i]=0\r\n",
    "                    i+=1\r\n",
    "                else:\r\n",
    "                    k+=1\r\n",
    "                    break\r\n",
    "        else:\r\n",
    "            k+=1\r\n",
    "    else:\r\n",
    "        i=2\r\n",
    "        while True:\r\n",
    "            if i<100:\r\n",
    "                if arr[i]==1:\r\n",
    "                    print(i,end=' ')\r\n",
    "                    i+=1\r\n",
    "                else:\r\n",
    "                    i+=1\r\n",
    "            else:\r\n",
    "                break\r\n",
    "    if i==100:\r\n",
    "        break\r\n",
    "    \r\n",
    "\r\n",
    "    \r\n",
    "\r\n",
    "        "
   ],
   "outputs": [
    {
     "output_type": "stream",
     "name": "stdout",
     "text": [
      "2 3 5 7 11 13 17 19 23 29 31 37 41 43 47 53 59 61 67 71 73 79 83 89 97 "
     ]
    }
   ],
   "metadata": {}
  },
  {
   "cell_type": "markdown",
   "source": [
    "유클리드 알고리즘\r\n",
    "\r\n",
    "최대 공약수를 구하는 알고리즘\r\n",
    "최대 공약수는 공동의 약수 중에서 가장 큰수..\r\n",
    "\r\n",
    "프로그래머가 반드시 알고 있어야 할 대표적인 알고리즘\r\n",
    "\r\n",
    "약수란\r\n",
    "\r\n",
    "3의 약수 1,3\r\n",
    "4의 약수 1,2,4\r\n",
    "5의 약수 1,5\r\n",
    "6의 약수 1,2,3,6\r\n",
    "\r\n",
    "공약수란\r\n",
    "\r\n",
    "\r\n",
    "8의 약수 1,2,4,7\r\n",
    "12의 약수 1,2,3,4,6,12\r\n",
    "\r\n",
    "공약수 1,2,4\r\n",
    "최대 공약수 4\r\n",
    "\r\n",
    "\r\n",
    "8 = 1*2*2*2     2,2\r\n",
    "12 = 1*2*2*3    2,2\r\n",
    "\r\n",
    "이들 중에 공통되는 소수를 서로 곱한 수가 최대 공약수이다. 공통되는 2,2를 곱한 4가 최대 공약수이다.\r\n",
    "\r\n",
    "보기에는 간단해 보일 수가 있으나 상당히 복잡하다.\r\n",
    "\r\n",
    "일단 어떤 수를 소인수 분해 하려면 그 수 이하의 소수를 모두 구해야 한다. 이런식으로 등수를 소인수 분해한 후 공통되는 소수를 찾는 등 복잡한 흐름이 되기 때문에 하나하나의 처리는 단순해 보여도 절차는 꽤 복잡하다."
   ],
   "metadata": {}
  },
  {
   "cell_type": "markdown",
   "source": [
    "12 % 6 =0\r\n",
    "\r\n",
    "큰수를 작은 수로 나눈 나머지가 0이 될 때의 작은 수가 최대 공약수이다.\r\n",
    "\r\n",
    "12 % 8 =4\r\n",
    "    8 % 4 =0    4가 최대 공약수\r\n",
    "\r\n",
    "221 % 143 = 78\r\n",
    "    143 % 78 = 65\r\n",
    "    78 % 65 = 13\r\n",
    "    65 % 13 =0  13이 최대 공약수"
   ],
   "metadata": {}
  },
  {
   "cell_type": "markdown",
   "source": [
    "유클리드 알고리즘\r\n",
    "    - 나머지를 구하는 나눗셈은 %를 사용한다.\r\n",
    "    - 딱 나누어 떨어지지 않을 때에는 나눗셈을 반복 처리하는 반복 구조로 한다.\r\n"
   ],
   "metadata": {}
  },
  {
   "cell_type": "code",
   "execution_count": 33,
   "source": [
    "a=221\r\n",
    "b=143\r\n",
    "\r\n",
    "while True:\r\n",
    "    r=a%b\r\n",
    "    if r==0:\r\n",
    "        print(\"a와 b의 최대 공약수는 {}이다.\".format(b))\r\n",
    "        break\r\n",
    "    else:\r\n",
    "        a,b=b,r\r\n",
    "    "
   ],
   "outputs": [
    {
     "output_type": "stream",
     "name": "stdout",
     "text": [
      "a와 b의 최대 공약수는 13이다.\n"
     ]
    }
   ],
   "metadata": {}
  }
 ],
 "metadata": {
  "orig_nbformat": 4,
  "language_info": {
   "name": "python",
   "version": "3.8.8",
   "mimetype": "text/x-python",
   "codemirror_mode": {
    "name": "ipython",
    "version": 3
   },
   "pygments_lexer": "ipython3",
   "nbconvert_exporter": "python",
   "file_extension": ".py"
  },
  "kernelspec": {
   "name": "python3",
   "display_name": "Python 3.8.8 64-bit ('base': conda)"
  },
  "interpreter": {
   "hash": "b3ba2566441a7c06988d0923437866b63cedc61552a5af99d1f4fb67d367b25f"
  }
 },
 "nbformat": 4,
 "nbformat_minor": 2
}