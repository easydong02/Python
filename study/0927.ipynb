{
 "cells": [
  {
   "cell_type": "code",
   "execution_count": null,
   "source": [
    "# NumPy(배열 데이터를 효과적으로 다루는 패키지)\r\n",
    "\r\n",
    "# 파이썬으로 과학 연산을 쉽고 빠르게 할 수 있게 만든 패키지.\r\n",
    "#  파이썬 기본 데이터 형식과 내장 함수를 이용하는 것보다 효과적으로 처리할 수 있다."
   ],
   "outputs": [],
   "metadata": {}
  },
  {
   "cell_type": "code",
   "execution_count": 2,
   "source": [
    "#배열 생성\r\n",
    "\r\n",
    "import numpy as np\r\n",
    "\r\n",
    "\r\n",
    "# 배열이란 순서가 있는 같은 종류의 데이터가 저장된 집합. numpy를 이용해서 배열을 처리하려면 먼저 numpy배열을 생성해야 한다.\r\n",
    "\r\n",
    "\r\n",
    "data1 = [0,1,2,3,4,5]\r\n",
    "\r\n",
    "a1= np.array(data1)\r\n",
    "a1\r\n",
    "\r\n",
    "# 리스트 데이터를 numpy의 array() 로 넣어서 정수만으로 구성된 numpy배열을 만들었다.\r\n"
   ],
   "outputs": [
    {
     "output_type": "execute_result",
     "data": {
      "text/plain": [
       "array([0, 1, 2, 3, 4, 5])"
      ]
     },
     "metadata": {},
     "execution_count": 2
    }
   ],
   "metadata": {}
  },
  {
   "cell_type": "code",
   "execution_count": 4,
   "source": [
    "data2=[0,1,5,4,12,0.5]\r\n",
    "\r\n",
    "a2 = np.array(data2)\r\n",
    "a2\r\n",
    "\r\n",
    "#출력 결과를 보면 입력된 원래 리스트와 차이가 보인다 . 이것은 같은 종류의 데이터만\r\n",
    "#저장할 수 있는 배열의 특징으로 혼합이 되어 있을 때는 모두 실수로 변환하기 때문이다."
   ],
   "outputs": [
    {
     "output_type": "execute_result",
     "data": {
      "text/plain": [
       "array([ 0. ,  1. ,  5. ,  4. , 12. ,  0.5])"
      ]
     },
     "metadata": {},
     "execution_count": 4
    }
   ],
   "metadata": {}
  },
  {
   "cell_type": "code",
   "execution_count": 7,
   "source": [
    "print(a1.dtype)\r\n",
    "print(a2.dtype)\r\n",
    "\r\n",
    "# 데이터 타입을 보면 a1은 정수 int64비트 a2는 실수 float64비트이다.\r\n",
    "\r\n"
   ],
   "outputs": [
    {
     "output_type": "stream",
     "name": "stdout",
     "text": [
      "int32\n",
      "float64\n"
     ]
    }
   ],
   "metadata": {}
  },
  {
   "cell_type": "code",
   "execution_count": 8,
   "source": [
    "np.array([0.5,2,0.01,8])\r\n",
    "\r\n",
    "# 앞에서는 data1, data2를 먼저 리스트로 만들어 numpy배열로 변경하였으나 \r\n",
    "# array에 직접 넣어서 배열 객체를 생성할 수 있다.\r\n"
   ],
   "outputs": [
    {
     "output_type": "execute_result",
     "data": {
      "text/plain": [
       "array([0.5 , 2.  , 0.01, 8.  ])"
      ]
     },
     "metadata": {},
     "execution_count": 8
    }
   ],
   "metadata": {}
  },
  {
   "cell_type": "code",
   "execution_count": 9,
   "source": [
    "# 2차원 배열..\r\n",
    "np.array([ [1,2,3],[4,5,6],[7,8,9]                            ])\r\n",
    "\r\n"
   ],
   "outputs": [
    {
     "output_type": "execute_result",
     "data": {
      "text/plain": [
       "array([[1, 2, 3],\n",
       "       [4, 5, 6],\n",
       "       [7, 8, 9]])"
      ]
     },
     "metadata": {},
     "execution_count": 9
    }
   ],
   "metadata": {}
  },
  {
   "cell_type": "code",
   "execution_count": 10,
   "source": [
    "# 범윌을 지정해서 배열을 생성\r\n",
    "\r\n",
    "np.arange(0,10,2)\r\n"
   ],
   "outputs": [
    {
     "output_type": "execute_result",
     "data": {
      "text/plain": [
       "array([0, 2, 4, 6, 8])"
      ]
     },
     "metadata": {},
     "execution_count": 10
    }
   ],
   "metadata": {}
  },
  {
   "cell_type": "code",
   "execution_count": 11,
   "source": [
    "np.arange(5)"
   ],
   "outputs": [
    {
     "output_type": "execute_result",
     "data": {
      "text/plain": [
       "array([0, 1, 2, 3, 4])"
      ]
     },
     "metadata": {},
     "execution_count": 11
    }
   ],
   "metadata": {}
  },
  {
   "cell_type": "code",
   "execution_count": 3,
   "source": [
    "b1=np.arange(12).reshape(4,3)\r\n",
    "\r\n",
    "b1\r\n",
    "# 주의할 점은 arange() 생성되는 원소 개수와 reshape(m,n) m*n의 수가 맞아야만 한다.\r\n",
    "\r\n"
   ],
   "outputs": [
    {
     "output_type": "execute_result",
     "data": {
      "text/plain": [
       "array([[ 0,  1,  2],\n",
       "       [ 3,  4,  5],\n",
       "       [ 6,  7,  8],\n",
       "       [ 9, 10, 11]])"
      ]
     },
     "metadata": {},
     "execution_count": 3
    }
   ],
   "metadata": {}
  },
  {
   "cell_type": "code",
   "execution_count": 18,
   "source": [
    "b2 =np.arange(5)\r\n",
    "b2.shape"
   ],
   "outputs": [
    {
     "output_type": "execute_result",
     "data": {
      "text/plain": [
       "(5,)"
      ]
     },
     "metadata": {},
     "execution_count": 18
    }
   ],
   "metadata": {}
  },
  {
   "cell_type": "code",
   "execution_count": 19,
   "source": [
    "# 범위의 시작과 끝을 지정하고 개수를 지정해서 배열을 생성하는 linspace()\r\n",
    "\r\n",
    "np.linspace(1,10,10)\r\n",
    "\r\n",
    "# start,stop,number\r\n",
    "\r\n"
   ],
   "outputs": [
    {
     "output_type": "execute_result",
     "data": {
      "text/plain": [
       "array([ 1.,  2.,  3.,  4.,  5.,  6.,  7.,  8.,  9., 10.])"
      ]
     },
     "metadata": {},
     "execution_count": 19
    }
   ],
   "metadata": {}
  },
  {
   "cell_type": "code",
   "execution_count": 20,
   "source": [
    "np.linspace(1,10)\r\n",
    "\r\n",
    "#갯수를 생략하면 50으로 간주한다."
   ],
   "outputs": [
    {
     "output_type": "execute_result",
     "data": {
      "text/plain": [
       "array([ 1.        ,  1.18367347,  1.36734694,  1.55102041,  1.73469388,\n",
       "        1.91836735,  2.10204082,  2.28571429,  2.46938776,  2.65306122,\n",
       "        2.83673469,  3.02040816,  3.20408163,  3.3877551 ,  3.57142857,\n",
       "        3.75510204,  3.93877551,  4.12244898,  4.30612245,  4.48979592,\n",
       "        4.67346939,  4.85714286,  5.04081633,  5.2244898 ,  5.40816327,\n",
       "        5.59183673,  5.7755102 ,  5.95918367,  6.14285714,  6.32653061,\n",
       "        6.51020408,  6.69387755,  6.87755102,  7.06122449,  7.24489796,\n",
       "        7.42857143,  7.6122449 ,  7.79591837,  7.97959184,  8.16326531,\n",
       "        8.34693878,  8.53061224,  8.71428571,  8.89795918,  9.08163265,\n",
       "        9.26530612,  9.44897959,  9.63265306,  9.81632653, 10.        ])"
      ]
     },
     "metadata": {},
     "execution_count": 20
    }
   ],
   "metadata": {}
  },
  {
   "cell_type": "code",
   "execution_count": 21,
   "source": [
    "np.linspace(0,np.pi,20)"
   ],
   "outputs": [
    {
     "output_type": "execute_result",
     "data": {
      "text/plain": [
       "array([0.        , 0.16534698, 0.33069396, 0.49604095, 0.66138793,\n",
       "       0.82673491, 0.99208189, 1.15742887, 1.32277585, 1.48812284,\n",
       "       1.65346982, 1.8188168 , 1.98416378, 2.14951076, 2.31485774,\n",
       "       2.48020473, 2.64555171, 2.81089869, 2.97624567, 3.14159265])"
      ]
     },
     "metadata": {},
     "execution_count": 21
    }
   ],
   "metadata": {}
  },
  {
   "cell_type": "code",
   "execution_count": 22,
   "source": [
    "#특별한 형태의 배열 생성...\r\n",
    "# zeros() : 모든 원소가 0인 다차원 배열을 생성 \r\n",
    "# ones() : 모든 원소가 1인 다차원 배열을 생성\r\n",
    "\r\n",
    "np.zeros(10)"
   ],
   "outputs": [
    {
     "output_type": "execute_result",
     "data": {
      "text/plain": [
       "array([0., 0., 0., 0., 0., 0., 0., 0., 0., 0.])"
      ]
     },
     "metadata": {},
     "execution_count": 22
    }
   ],
   "metadata": {}
  },
  {
   "cell_type": "code",
   "execution_count": 24,
   "source": [
    "np.ones((3,4))"
   ],
   "outputs": [
    {
     "output_type": "execute_result",
     "data": {
      "text/plain": [
       "array([[1., 1., 1., 1.],\n",
       "       [1., 1., 1., 1.],\n",
       "       [1., 1., 1., 1.]])"
      ]
     },
     "metadata": {},
     "execution_count": 24
    }
   ],
   "metadata": {}
  },
  {
   "cell_type": "code",
   "execution_count": 25,
   "source": [
    "# 단위 행렬 ... n*n인 정사각형 행렬에서 주 대각선이 모두 1이고 나머지는 0인 행렬\r\n",
    "\r\n",
    "np.eye(3)"
   ],
   "outputs": [
    {
     "output_type": "execute_result",
     "data": {
      "text/plain": [
       "array([[1., 0., 0.],\n",
       "       [0., 1., 0.],\n",
       "       [0., 0., 1.]])"
      ]
     },
     "metadata": {},
     "execution_count": 25
    }
   ],
   "metadata": {}
  },
  {
   "cell_type": "code",
   "execution_count": 33,
   "source": [
    "# numpy의 배열은 숫자 만이 아니라 문자열도 원소로 다룰 수 있다.\r\n",
    "\r\n",
    "np.array(['0.5','2','0.01','3.141592','3.1415654654654'])\r\n",
    "\r\n",
    "# dtype='<u8'의 의미는 데이터 형식이 유니코드 문자의 수가 최대 8개라는 것을 의미한다.\r\n",
    "\r\n",
    "# 배열이 문자열로 돼있으면 연산을 위해서는 숫자(정수/실수)로 변환해야 한다."
   ],
   "outputs": [
    {
     "output_type": "execute_result",
     "data": {
      "text/plain": [
       "array(['0.5', '2', '0.01', '3.141592', '3.1415654654654'], dtype='<U15')"
      ]
     },
     "metadata": {},
     "execution_count": 33
    }
   ],
   "metadata": {}
  },
  {
   "cell_type": "code",
   "execution_count": 30,
   "source": [
    "a = np.array(['0.5','2','0.01','3.141592','3.141592'])\r\n",
    "numa=a.astype(float)\r\n",
    "numa"
   ],
   "outputs": [
    {
     "output_type": "execute_result",
     "data": {
      "text/plain": [
       "array([0.5     , 2.      , 0.01    , 3.141592, 3.141592])"
      ]
     },
     "metadata": {},
     "execution_count": 30
    }
   ],
   "metadata": {}
  },
  {
   "cell_type": "code",
   "execution_count": 31,
   "source": [
    "a.dtype\r\n"
   ],
   "outputs": [
    {
     "output_type": "execute_result",
     "data": {
      "text/plain": [
       "dtype('<U8')"
      ]
     },
     "metadata": {},
     "execution_count": 31
    }
   ],
   "metadata": {}
  },
  {
   "cell_type": "code",
   "execution_count": 32,
   "source": [
    "numa.dtype"
   ],
   "outputs": [
    {
     "output_type": "execute_result",
     "data": {
      "text/plain": [
       "dtype('float64')"
      ]
     },
     "metadata": {},
     "execution_count": 32
    }
   ],
   "metadata": {}
  },
  {
   "cell_type": "code",
   "execution_count": 35,
   "source": [
    "numi =numa.astype(int)\r\n",
    "numi"
   ],
   "outputs": [
    {
     "output_type": "execute_result",
     "data": {
      "text/plain": [
       "array([0, 2, 0, 3, 3])"
      ]
     },
     "metadata": {},
     "execution_count": 35
    }
   ],
   "metadata": {}
  },
  {
   "cell_type": "code",
   "execution_count": 36,
   "source": [
    "numi.dtype"
   ],
   "outputs": [
    {
     "output_type": "execute_result",
     "data": {
      "text/plain": [
       "dtype('int32')"
      ]
     },
     "metadata": {},
     "execution_count": 36
    }
   ],
   "metadata": {}
  },
  {
   "cell_type": "code",
   "execution_count": 4,
   "source": [
    "# 난수로 배열을 만드는 또 다른 방법 \r\n",
    "\r\n",
    "# rand() a,b 미만 사이의 실수 a는 포함이되고 b는 포함이 되지 않는다.\r\n",
    "\r\n",
    "np.random.rand(2,3) #2행 3열 0에서 1미만의 실수로 난수로 배열 생성\r\n",
    "\r\n",
    "\r\n",
    "\r\n",
    "\r\n"
   ],
   "outputs": [
    {
     "output_type": "execute_result",
     "data": {
      "text/plain": [
       "array([[0.03701935, 0.12982503, 0.27676172],\n",
       "       [0.3999235 , 0.43291946, 0.61818328]])"
      ]
     },
     "metadata": {},
     "execution_count": 4
    }
   ],
   "metadata": {}
  },
  {
   "cell_type": "code",
   "execution_count": 6,
   "source": [
    "# randint()\r\n",
    "b1=np.random.randint(1,46) #0부터 10미만으로 정수 1개 난수 생성\r\n",
    "lotto=[]\r\n",
    "for i in range(6):\r\n",
    "    while b1 in lotto:\r\n",
    "        b1=np.random.randint(1,46)\r\n",
    "    lotto.append(b1)\r\n",
    "\r\n",
    "lotto.sort()\r\n",
    "print(lotto)"
   ],
   "outputs": [
    {
     "output_type": "stream",
     "name": "stdout",
     "text": [
      "[5, 8, 10, 16, 34, 44]\n"
     ]
    }
   ],
   "metadata": {}
  },
  {
   "cell_type": "code",
   "execution_count": 7,
   "source": [
    "np.random.randint()"
   ],
   "outputs": [
    {
     "output_type": "error",
     "ename": "TypeError",
     "evalue": "randint() takes at least 1 positional argument (0 given)",
     "traceback": [
      "\u001b[1;31m---------------------------------------------------------------------------\u001b[0m",
      "\u001b[1;31mTypeError\u001b[0m                                 Traceback (most recent call last)",
      "\u001b[1;32m<ipython-input-7-c77516ad7597>\u001b[0m in \u001b[0;36m<module>\u001b[1;34m\u001b[0m\n\u001b[1;32m----> 1\u001b[1;33m \u001b[0mnp\u001b[0m\u001b[1;33m.\u001b[0m\u001b[0mrandom\u001b[0m\u001b[1;33m.\u001b[0m\u001b[0mrandint\u001b[0m\u001b[1;33m(\u001b[0m\u001b[1;33m)\u001b[0m\u001b[1;33m\u001b[0m\u001b[1;33m\u001b[0m\u001b[0m\n\u001b[0m",
      "\u001b[1;32mmtrand.pyx\u001b[0m in \u001b[0;36mnumpy.random.mtrand.RandomState.randint\u001b[1;34m()\u001b[0m\n",
      "\u001b[1;31mTypeError\u001b[0m: randint() takes at least 1 positional argument (0 given)"
     ]
    }
   ],
   "metadata": {}
  },
  {
   "cell_type": "code",
   "execution_count": 303,
   "source": [
    "import random\r\n",
    "a= random.sample(range(1,46),6)\r\n",
    "print(a)"
   ],
   "outputs": [
    {
     "output_type": "stream",
     "name": "stdout",
     "text": [
      "[30, 38, 26, 3, 25, 9]\n"
     ]
    }
   ],
   "metadata": {}
  },
  {
   "cell_type": "code",
   "execution_count": 304,
   "source": [
    "np.random.choice(range(1,46),6,replace=False)"
   ],
   "outputs": [
    {
     "output_type": "execute_result",
     "data": {
      "text/plain": [
       "array([24, 15, 33, 16,  8, 32])"
      ]
     },
     "metadata": {},
     "execution_count": 304
    }
   ],
   "metadata": {}
  },
  {
   "cell_type": "code",
   "execution_count": 307,
   "source": [
    "# 배열의 선언...\r\n",
    "# numpy 배열은 다양하게 연산을 할 수 있다. 배열의 형태가 같다면 m*n +,-,*,/ 가능하다.\r\n",
    "\r\n",
    "arr1=np.array([10,20,30,40])\r\n",
    "arr2=np.array([1,2,3,4])\r\n",
    "\r\n",
    "#배열의 형태가 같은 두 개의 1차원 배열 생성...ndarray.shape 결과가 같다는 말과 같다.\r\n",
    "\r\n",
    "# 두 배열의 합은 각 배열의 같은 위치의 원소끼리 더한다.\r\n",
    "\r\n",
    "arr1+arr2\r\n",
    "arr1-arr2\r\n",
    "arr1*arr2\r\n",
    "arr1/arr2\r\n"
   ],
   "outputs": [
    {
     "output_type": "execute_result",
     "data": {
      "text/plain": [
       "array([10., 10., 10., 10.])"
      ]
     },
     "metadata": {},
     "execution_count": 307
    }
   ],
   "metadata": {}
  },
  {
   "cell_type": "code",
   "execution_count": 308,
   "source": [
    "#복합 연산\r\n",
    "\r\n",
    "arr1/(arr2 **2)"
   ],
   "outputs": [
    {
     "output_type": "execute_result",
     "data": {
      "text/plain": [
       "array([10.        ,  5.        ,  3.33333333,  2.5       ])"
      ]
     },
     "metadata": {},
     "execution_count": 308
    }
   ],
   "metadata": {}
  },
  {
   "cell_type": "code",
   "execution_count": 309,
   "source": [
    "#배열은 비교연산도 가능하다. 원소별로 조건과 일치하는지 검사\r\n",
    "\r\n",
    "arr1>20"
   ],
   "outputs": [
    {
     "output_type": "execute_result",
     "data": {
      "text/plain": [
       "array([False, False,  True,  True])"
      ]
     },
     "metadata": {},
     "execution_count": 309
    }
   ],
   "metadata": {}
  },
  {
   "cell_type": "code",
   "execution_count": 310,
   "source": [
    "# 통계를 위한 연산\r\n",
    "\r\n",
    "# Numpy dpsms 배열의 합sum 평균mean 편차std 분산var 최소값min 최대값max 누적합cumsum..\r\n",
    "\r\n",
    "arr3= np.arange(5)\r\n",
    "arr3"
   ],
   "outputs": [
    {
     "output_type": "execute_result",
     "data": {
      "text/plain": [
       "array([0, 1, 2, 3, 4])"
      ]
     },
     "metadata": {},
     "execution_count": 310
    }
   ],
   "metadata": {}
  },
  {
   "cell_type": "code",
   "execution_count": 311,
   "source": [
    "arr3.sum()"
   ],
   "outputs": [
    {
     "output_type": "execute_result",
     "data": {
      "text/plain": [
       "10"
      ]
     },
     "metadata": {},
     "execution_count": 311
    }
   ],
   "metadata": {}
  },
  {
   "cell_type": "code",
   "execution_count": 312,
   "source": [
    "arr3.mean()"
   ],
   "outputs": [
    {
     "output_type": "execute_result",
     "data": {
      "text/plain": [
       "2.0"
      ]
     },
     "metadata": {},
     "execution_count": 312
    }
   ],
   "metadata": {}
  },
  {
   "cell_type": "code",
   "execution_count": 313,
   "source": [
    "arr3.std()"
   ],
   "outputs": [
    {
     "output_type": "execute_result",
     "data": {
      "text/plain": [
       "1.4142135623730951"
      ]
     },
     "metadata": {},
     "execution_count": 313
    }
   ],
   "metadata": {}
  },
  {
   "cell_type": "code",
   "execution_count": 314,
   "source": [
    "arr3.var()"
   ],
   "outputs": [
    {
     "output_type": "execute_result",
     "data": {
      "text/plain": [
       "2.0"
      ]
     },
     "metadata": {},
     "execution_count": 314
    }
   ],
   "metadata": {}
  },
  {
   "cell_type": "code",
   "execution_count": 315,
   "source": [
    "[arr3.min(), arr3.max()]"
   ],
   "outputs": [
    {
     "output_type": "execute_result",
     "data": {
      "text/plain": [
       "[0, 4]"
      ]
     },
     "metadata": {},
     "execution_count": 315
    }
   ],
   "metadata": {}
  },
  {
   "cell_type": "code",
   "execution_count": 316,
   "source": [
    "arr3.cumsum()"
   ],
   "outputs": [
    {
     "output_type": "execute_result",
     "data": {
      "text/plain": [
       "array([ 0,  1,  3,  6, 10], dtype=int32)"
      ]
     },
     "metadata": {},
     "execution_count": 316
    }
   ],
   "metadata": {}
  },
  {
   "cell_type": "code",
   "execution_count": 317,
   "source": [
    "arr3"
   ],
   "outputs": [
    {
     "output_type": "execute_result",
     "data": {
      "text/plain": [
       "array([0, 1, 2, 3, 4])"
      ]
     },
     "metadata": {},
     "execution_count": 317
    }
   ],
   "metadata": {}
  },
  {
   "cell_type": "code",
   "execution_count": null,
   "source": [
    "# 행렬 연산 - 배열의 단순 연산 뿐만아니라 선형대수(Linear algebra)를 위한 행렬 연산도 지원한다."
   ],
   "outputs": [],
   "metadata": {}
  },
  {
   "cell_type": "code",
   "execution_count": null,
   "source": [
    "# 배열의 인덱싱 - 배열을 다루다 보면 원소를 이용할 때가 많다.\r\n",
    "#                   numpy에서는 배열의 위치, 조건, 범위를 지정해 원소를 선택할 수 있다.\r\n",
    "#                   배열의 위치나 조건을 지정해서 원소를 선택하는 것을 인덱싱이라고 한다\r\n",
    "#                   범위를 지정해 배열의 원소들을 선택하는 것을 슬라이싱이라고 한다.\r\n",
    "\r\n"
   ],
   "outputs": [],
   "metadata": {}
  },
  {
   "cell_type": "code",
   "execution_count": 318,
   "source": [
    "a1 =np.array([0,10,20,30,40,50])\r\n",
    "a1"
   ],
   "outputs": [
    {
     "output_type": "execute_result",
     "data": {
      "text/plain": [
       "array([ 0, 10, 20, 30, 40, 50])"
      ]
     },
     "metadata": {},
     "execution_count": 318
    }
   ],
   "metadata": {}
  },
  {
   "cell_type": "code",
   "execution_count": 319,
   "source": [
    "a1[1]"
   ],
   "outputs": [
    {
     "output_type": "execute_result",
     "data": {
      "text/plain": [
       "10"
      ]
     },
     "metadata": {},
     "execution_count": 319
    }
   ],
   "metadata": {}
  },
  {
   "cell_type": "code",
   "execution_count": 322,
   "source": [
    "a1[[1,3,4]]"
   ],
   "outputs": [
    {
     "output_type": "execute_result",
     "data": {
      "text/plain": [
       "array([10, 30, 40])"
      ]
     },
     "metadata": {},
     "execution_count": 322
    }
   ],
   "metadata": {}
  },
  {
   "cell_type": "code",
   "execution_count": 324,
   "source": [
    "# 2차원 배열에서의 인덱싱\r\n",
    "\r\n",
    "a2 = np.arange(10,100,10).reshape(3,3)\r\n",
    "a2"
   ],
   "outputs": [
    {
     "output_type": "execute_result",
     "data": {
      "text/plain": [
       "array([[10, 20, 30],\n",
       "       [40, 50, 60],\n",
       "       [70, 80, 90]])"
      ]
     },
     "metadata": {},
     "execution_count": 324
    }
   ],
   "metadata": {}
  },
  {
   "cell_type": "code",
   "execution_count": 325,
   "source": [
    "a2[0][2]"
   ],
   "outputs": [
    {
     "output_type": "execute_result",
     "data": {
      "text/plain": [
       "30"
      ]
     },
     "metadata": {},
     "execution_count": 325
    }
   ],
   "metadata": {}
  },
  {
   "cell_type": "code",
   "execution_count": 326,
   "source": [
    "a2[0,2]"
   ],
   "outputs": [
    {
     "output_type": "execute_result",
     "data": {
      "text/plain": [
       "30"
      ]
     },
     "metadata": {},
     "execution_count": 326
    }
   ],
   "metadata": {}
  },
  {
   "cell_type": "code",
   "execution_count": 328,
   "source": [
    "a2[2,2]=99\r\n",
    "a2"
   ],
   "outputs": [
    {
     "output_type": "execute_result",
     "data": {
      "text/plain": [
       "array([[10, 20, 30],\n",
       "       [40, 50, 60],\n",
       "       [70, 80, 99]])"
      ]
     },
     "metadata": {},
     "execution_count": 328
    }
   ],
   "metadata": {}
  },
  {
   "cell_type": "code",
   "execution_count": 329,
   "source": [
    "a2[1]"
   ],
   "outputs": [
    {
     "output_type": "execute_result",
     "data": {
      "text/plain": [
       "array([40, 50, 60])"
      ]
     },
     "metadata": {},
     "execution_count": 329
    }
   ],
   "metadata": {}
  },
  {
   "cell_type": "code",
   "execution_count": 330,
   "source": [
    "a2[1]=np.array([45,55,65])\r\n",
    "a2"
   ],
   "outputs": [
    {
     "output_type": "execute_result",
     "data": {
      "text/plain": [
       "array([[10, 20, 30],\n",
       "       [45, 55, 65],\n",
       "       [70, 80, 99]])"
      ]
     },
     "metadata": {},
     "execution_count": 330
    }
   ],
   "metadata": {}
  },
  {
   "cell_type": "code",
   "execution_count": 331,
   "source": [
    "# 2차원 배열에서 여러 원소 선택\r\n",
    "\r\n",
    "a2[[0,2],[0,1]]"
   ],
   "outputs": [
    {
     "output_type": "execute_result",
     "data": {
      "text/plain": [
       "array([10, 80])"
      ]
     },
     "metadata": {},
     "execution_count": 331
    }
   ],
   "metadata": {}
  },
  {
   "cell_type": "code",
   "execution_count": 332,
   "source": [
    "a = np.array([1,2,3,4,5,6])\r\n",
    "\r\n",
    "a[a>3]"
   ],
   "outputs": [
    {
     "output_type": "execute_result",
     "data": {
      "text/plain": [
       "array([4, 5, 6])"
      ]
     },
     "metadata": {},
     "execution_count": 332
    }
   ],
   "metadata": {}
  },
  {
   "cell_type": "code",
   "execution_count": 333,
   "source": [
    "a = np.array([1,2,3,4,5,6])\r\n",
    "\r\n",
    "a[a%2==0]"
   ],
   "outputs": [
    {
     "output_type": "execute_result",
     "data": {
      "text/plain": [
       "array([2, 4, 6])"
      ]
     },
     "metadata": {},
     "execution_count": 333
    }
   ],
   "metadata": {}
  },
  {
   "cell_type": "code",
   "execution_count": 335,
   "source": [
    "# 배열의 슬라이싱...\r\n",
    "\r\n",
    "# 인덱싱은 원소 하나씩 선택하여 처리하는 방식인 반면에 슬라이싱은 여러개의 원소를 다룬다.\r\n",
    "\r\n",
    "\r\n",
    "b=np.array([0,1,2,3,4,5])\r\n",
    "\r\n",
    "b[1:4]"
   ],
   "outputs": [
    {
     "output_type": "execute_result",
     "data": {
      "text/plain": [
       "array([1, 2, 3])"
      ]
     },
     "metadata": {},
     "execution_count": 335
    }
   ],
   "metadata": {}
  },
  {
   "cell_type": "code",
   "execution_count": 336,
   "source": [
    "b[2:]"
   ],
   "outputs": [
    {
     "output_type": "execute_result",
     "data": {
      "text/plain": [
       "array([2, 3, 4, 5])"
      ]
     },
     "metadata": {},
     "execution_count": 336
    }
   ],
   "metadata": {}
  },
  {
   "cell_type": "code",
   "execution_count": 337,
   "source": [
    "b[2:5]=[20,30,40]"
   ],
   "outputs": [],
   "metadata": {}
  },
  {
   "cell_type": "code",
   "execution_count": 338,
   "source": [
    "b"
   ],
   "outputs": [
    {
     "output_type": "execute_result",
     "data": {
      "text/plain": [
       "array([ 0,  1, 20, 30, 40,  5])"
      ]
     },
     "metadata": {},
     "execution_count": 338
    }
   ],
   "metadata": {}
  },
  {
   "cell_type": "code",
   "execution_count": 339,
   "source": [
    "b[:]=0\r\n",
    "b"
   ],
   "outputs": [
    {
     "output_type": "execute_result",
     "data": {
      "text/plain": [
       "array([0, 0, 0, 0, 0, 0])"
      ]
     },
     "metadata": {},
     "execution_count": 339
    }
   ],
   "metadata": {}
  },
  {
   "cell_type": "code",
   "execution_count": 351,
   "source": [
    "\r\n",
    "c = np.arange(10,100,10).reshape(3,3)\r\n",
    "c"
   ],
   "outputs": [
    {
     "output_type": "execute_result",
     "data": {
      "text/plain": [
       "array([[10, 20, 30],\n",
       "       [40, 50, 60],\n",
       "       [70, 80, 90]])"
      ]
     },
     "metadata": {},
     "execution_count": 351
    }
   ],
   "metadata": {}
  },
  {
   "cell_type": "code",
   "execution_count": 353,
   "source": [
    "c[1:3,1:3]   # 행시작:행끝, 열시작:열끝\r\n",
    "\r\n",
    "\r\n",
    "#Numpy 를 이용해서 배열을 효율적으로 처리하는 방법들을 배웠다.\r\n",
    "# 우리가 앞으로 분석할 데이터의 대부분이 배열 형태로 이루어져 있다.\r\n",
    "# 따라서 numpy를 잘 익히면 좀 더 편리하고 효율적으로 처리할 수 있다."
   ],
   "outputs": [
    {
     "output_type": "execute_result",
     "data": {
      "text/plain": [
       "array([[50, 60],\n",
       "       [80, 90]])"
      ]
     },
     "metadata": {},
     "execution_count": 353
    }
   ],
   "metadata": {}
  },
  {
   "cell_type": "code",
   "execution_count": null,
   "source": [
    "#pandas\r\n",
    "# 대량의 데이터 분석과 처리를 쉽게 할 수 있도록 도와주는 패키지이다.\r\n",
    "# pandas는 numpy를 기반으로 만들어졌으나 좀더 복잡한 데이터 분석에 특화되어 있다.\r\n",
    "# numpy는 같은 데이터 타입의 배열만 처리할 수 있으나, \r\n",
    "# pandas는 타입이 섞여 있어도 처리할 수 있다. pandas에는 아주아주 많은 기능들이 있다.\r\n",
    "# 여기서는 기본적인 활용법을 살펴보자."
   ],
   "outputs": [],
   "metadata": {}
  },
  {
   "cell_type": "code",
   "execution_count": 10,
   "source": [
    "# Series\r\n",
    "import pandas as pd\r\n",
    "\r\n",
    "# 판다스에서 데이터를 생성하는 가장 기본적인 방법 Series()를 이용하는 것이다.\r\n",
    "# Series형의 1차원 데이터\r\n",
    "\r\n",
    "s1 = pd.Series([10,20,30,40,50])\r\n",
    "s1\r\n",
    "\r\n",
    "\r\n",
    "# 결과로 볼 수 있듯이 Series를 출력하면 데이터 앞에 index가 함께 표시된다.\r\n",
    "# Series 생성 시 자동으로 만들어진 것으로 데이터를 처리할 때 이용하게 된다."
   ],
   "outputs": [
    {
     "output_type": "execute_result",
     "data": {
      "text/plain": [
       "0    10\n",
       "1    20\n",
       "2    30\n",
       "3    40\n",
       "4    50\n",
       "dtype: int64"
      ]
     },
     "metadata": {},
     "execution_count": 10
    }
   ],
   "metadata": {}
  },
  {
   "cell_type": "code",
   "execution_count": 357,
   "source": [
    "#Series데이터는 index와 values로 분리할 수 있다.\r\n",
    "\r\n",
    "s1.values"
   ],
   "outputs": [
    {
     "output_type": "execute_result",
     "data": {
      "text/plain": [
       "array([10, 20, 30, 40, 50], dtype=int64)"
      ]
     },
     "metadata": {},
     "execution_count": 357
    }
   ],
   "metadata": {}
  },
  {
   "cell_type": "code",
   "execution_count": 358,
   "source": [
    "s1.index\r\n",
    "\r\n",
    "# index는 범위로 표시된다."
   ],
   "outputs": [
    {
     "output_type": "execute_result",
     "data": {
      "text/plain": [
       "RangeIndex(start=0, stop=5, step=1)"
      ]
     },
     "metadata": {},
     "execution_count": 358
    }
   ],
   "metadata": {}
  },
  {
   "cell_type": "markdown",
   "source": [
    "Numpy의 경우에는 배열의 모든 원소가 데이터 타입이 같아야 했지만\r\n",
    "pandas는 원소들의 데이터 타입이 달라도 된다."
   ],
   "metadata": {}
  },
  {
   "cell_type": "code",
   "execution_count": 360,
   "source": [
    "s2= pd.Series(['a','b','c',1,2,3])\r\n",
    "\r\n",
    "s2\r\n",
    "\r\n",
    "# Series()로 데이터를 생성할 때는 문자와 숫자가 혼합된 리스트를 인자로 이용할 수 있다."
   ],
   "outputs": [
    {
     "output_type": "execute_result",
     "data": {
      "text/plain": [
       "0    a\n",
       "1    b\n",
       "2    c\n",
       "3    1\n",
       "4    2\n",
       "5    3\n",
       "dtype: object"
      ]
     },
     "metadata": {},
     "execution_count": 360
    }
   ],
   "metadata": {}
  },
  {
   "cell_type": "code",
   "execution_count": 361,
   "source": [
    "# 데이터가 없을 때는 np.nan 으로 데이터가 없다고 표시한다.\r\n",
    "\r\n",
    "s3= pd.Series([np.nan,10,30])\r\n",
    "s3\r\n",
    "\r\n",
    "#NaN은 데이터가 없다는 것을 의미한다. 즉 index는 있지만 실제 값은 없다."
   ],
   "outputs": [
    {
     "output_type": "execute_result",
     "data": {
      "text/plain": [
       "0     NaN\n",
       "1    10.0\n",
       "2    30.0\n",
       "dtype: float64"
      ]
     },
     "metadata": {},
     "execution_count": 361
    }
   ],
   "metadata": {}
  },
  {
   "cell_type": "code",
   "execution_count": 362,
   "source": [
    "# 인자로 index를 명시적으로 입력하면 index에는 자동으로 생성되는 index대신에 원하는 \r\n",
    "# 값을 인덱스로 설정할 수 있다.\r\n",
    "\r\n",
    "index=['2021-09-27','2021-09-28','2021-09-29','2021-09-30']\r\n",
    "\r\n",
    "s4 = pd.Series([200,190,np.nan,205], index=index)\r\n",
    "\r\n",
    "s4"
   ],
   "outputs": [
    {
     "output_type": "execute_result",
     "data": {
      "text/plain": [
       "2021-09-27    200.0\n",
       "2021-09-28    190.0\n",
       "2021-09-29      NaN\n",
       "2021-09-30    205.0\n",
       "dtype: float64"
      ]
     },
     "metadata": {},
     "execution_count": 362
    }
   ],
   "metadata": {}
  },
  {
   "cell_type": "code",
   "execution_count": 363,
   "source": [
    "# 딕셔너리를 이용하면 좀 더 편하게 만들 수 있다.\r\n",
    "\r\n",
    "s5=pd.Series({'국어':100,'영어':98,'수학':100})\r\n",
    "\r\n",
    "s5"
   ],
   "outputs": [
    {
     "output_type": "execute_result",
     "data": {
      "text/plain": [
       "국어    100\n",
       "영어     98\n",
       "수학    100\n",
       "dtype: int64"
      ]
     },
     "metadata": {},
     "execution_count": 363
    }
   ],
   "metadata": {}
  },
  {
   "cell_type": "code",
   "execution_count": 367,
   "source": [
    "# 날짜 자동 생성\r\n",
    "\r\n",
    "# 위에서는 index에 날짜를 하나씩 전부 입력했다. 날짜가 많다면 입력하기 쉽지 않다.\r\n",
    "\r\n",
    "# pandas의 date_range()를 사용하면 원하는 날짜를 자동으로 생성한다.\r\n",
    "\r\n",
    "pd.date_range(start='2021-09-27',end='2021-09-30')\r\n",
    "\r\n",
    "#시작부터 하루씩 증가한 날짜 데이터가 생성되었다.\r\n",
    "# 또한 날짜는 다양한 형태로 표현할 수 있다.\r\n",
    "# 다양한 형태로 입력을 할 수는 있지만 생성된 날짜 형식은 모두 동일하다."
   ],
   "outputs": [
    {
     "output_type": "execute_result",
     "data": {
      "text/plain": [
       "DatetimeIndex(['2021-09-27', '2021-09-28', '2021-09-29', '2021-09-30'], dtype='datetime64[ns]', freq='D')"
      ]
     },
     "metadata": {},
     "execution_count": 367
    }
   ],
   "metadata": {}
  },
  {
   "cell_type": "code",
   "execution_count": 368,
   "source": [
    "pd.date_range(start='2021/09/27',end='2021/09/30')"
   ],
   "outputs": [
    {
     "output_type": "execute_result",
     "data": {
      "text/plain": [
       "DatetimeIndex(['2021-09-27', '2021-09-28', '2021-09-29', '2021-09-30'], dtype='datetime64[ns]', freq='D')"
      ]
     },
     "metadata": {},
     "execution_count": 368
    }
   ],
   "metadata": {}
  },
  {
   "cell_type": "code",
   "execution_count": 369,
   "source": [
    "pd.date_range(start='2021/09/27',periods=7)"
   ],
   "outputs": [
    {
     "output_type": "execute_result",
     "data": {
      "text/plain": [
       "DatetimeIndex(['2021-09-27', '2021-09-28', '2021-09-29', '2021-09-30',\n",
       "               '2021-10-01', '2021-10-02', '2021-10-03'],\n",
       "              dtype='datetime64[ns]', freq='D')"
      ]
     },
     "metadata": {},
     "execution_count": 369
    }
   ],
   "metadata": {}
  },
  {
   "cell_type": "code",
   "execution_count": 371,
   "source": [
    "pd.date_range(start='2019/01/01',periods=4,freq='2D')"
   ],
   "outputs": [
    {
     "output_type": "execute_result",
     "data": {
      "text/plain": [
       "DatetimeIndex(['2019-01-01', '2019-01-03', '2019-01-05', '2019-01-07'], dtype='datetime64[ns]', freq='2D')"
      ]
     },
     "metadata": {},
     "execution_count": 371
    }
   ],
   "metadata": {}
  },
  {
   "cell_type": "code",
   "execution_count": 379,
   "source": [
    "\r\n",
    "\r\n",
    "pd.date_range(start='2019/01/01',periods=12,freq='2M',tz='Asia/Seoul')"
   ],
   "outputs": [
    {
     "output_type": "execute_result",
     "data": {
      "text/plain": [
       "DatetimeIndex(['2019-01-31 00:00:00+09:00', '2019-03-31 00:00:00+09:00',\n",
       "               '2019-05-31 00:00:00+09:00', '2019-07-31 00:00:00+09:00',\n",
       "               '2019-09-30 00:00:00+09:00', '2019-11-30 00:00:00+09:00',\n",
       "               '2020-01-31 00:00:00+09:00', '2020-03-31 00:00:00+09:00',\n",
       "               '2020-05-31 00:00:00+09:00', '2020-07-31 00:00:00+09:00',\n",
       "               '2020-09-30 00:00:00+09:00', '2020-11-30 00:00:00+09:00'],\n",
       "              dtype='datetime64[ns, Asia/Seoul]', freq='2M')"
      ]
     },
     "metadata": {},
     "execution_count": 379
    }
   ],
   "metadata": {}
  },
  {
   "cell_type": "code",
   "execution_count": 381,
   "source": [
    "pd.date_range(start='2019/01/01',periods=12,freq='2BM')"
   ],
   "outputs": [
    {
     "output_type": "execute_result",
     "data": {
      "text/plain": [
       "DatetimeIndex(['2019-01-31', '2019-03-29', '2019-05-31', '2019-07-31',\n",
       "               '2019-09-30', '2019-11-29', '2020-01-31', '2020-03-31',\n",
       "               '2020-05-29', '2020-07-31', '2020-09-30', '2020-11-30'],\n",
       "              dtype='datetime64[ns]', freq='2BM')"
      ]
     },
     "metadata": {},
     "execution_count": 381
    }
   ],
   "metadata": {}
  },
  {
   "cell_type": "markdown",
   "source": [
    "D 하루주기\r\n",
    "W 한주주기\r\n",
    "M 월말 날짜..\r\n",
    "BM 업무 월말 날짜\r\n",
    "MS 월초 날짜\r\n",
    "BMS 업무 월초 날짜\r\n",
    "Q 분기 끝날짜\r\n",
    "BQ 업무일 분기 끝날짜\r\n",
    "QS 분기 시작\r\n",
    "BQS 업무 분기 시작\r\n",
    "A 일년 끝날짜기준 주기\r\n",
    "AS 일년 시작 날짜 기준 주기"
   ],
   "metadata": {}
  },
  {
   "cell_type": "code",
   "execution_count": 383,
   "source": [
    "pd.date_range(start='2021/09/27 09:00', periods=9,freq='BH')"
   ],
   "outputs": [
    {
     "output_type": "execute_result",
     "data": {
      "text/plain": [
       "DatetimeIndex(['2021-09-27 09:00:00', '2021-09-27 10:00:00',\n",
       "               '2021-09-27 11:00:00', '2021-09-27 12:00:00',\n",
       "               '2021-09-27 13:00:00', '2021-09-27 14:00:00',\n",
       "               '2021-09-27 15:00:00', '2021-09-27 16:00:00',\n",
       "               '2021-09-28 09:00:00'],\n",
       "              dtype='datetime64[ns]', freq='BH')"
      ]
     },
     "metadata": {},
     "execution_count": 383
    }
   ],
   "metadata": {}
  },
  {
   "cell_type": "code",
   "execution_count": 384,
   "source": [
    "pd.date_range(start='2021/09/27 09:00', periods=9,freq='30T')"
   ],
   "outputs": [
    {
     "output_type": "execute_result",
     "data": {
      "text/plain": [
       "DatetimeIndex(['2021-09-27 09:00:00', '2021-09-27 09:30:00',\n",
       "               '2021-09-27 10:00:00', '2021-09-27 10:30:00',\n",
       "               '2021-09-27 11:00:00', '2021-09-27 11:30:00',\n",
       "               '2021-09-27 12:00:00', '2021-09-27 12:30:00',\n",
       "               '2021-09-27 13:00:00'],\n",
       "              dtype='datetime64[ns]', freq='30T')"
      ]
     },
     "metadata": {},
     "execution_count": 384
    }
   ],
   "metadata": {}
  },
  {
   "cell_type": "code",
   "execution_count": 385,
   "source": [
    "# DataFrame - 표와 같은 라벨이 있는 2차원 데이터를 생성하고 처리한다.\r\n",
    "#           거의 모든 데이터 형을 저장할 수 있다. numpy 배열과 Series도\r\n",
    "#           넣을 수 있다. 가로축을 index라고 하고 세로축을 column\r\n",
    "#           index, column 자동생성\r\n",
    "\r\n",
    "\r\n",
    "\r\n",
    "pd.DataFrame([[1,2,3],[4,5,6],[7,8,9]])"
   ],
   "outputs": [
    {
     "output_type": "execute_result",
     "data": {
      "text/html": [
       "<div>\n",
       "<style scoped>\n",
       "    .dataframe tbody tr th:only-of-type {\n",
       "        vertical-align: middle;\n",
       "    }\n",
       "\n",
       "    .dataframe tbody tr th {\n",
       "        vertical-align: top;\n",
       "    }\n",
       "\n",
       "    .dataframe thead th {\n",
       "        text-align: right;\n",
       "    }\n",
       "</style>\n",
       "<table border=\"1\" class=\"dataframe\">\n",
       "  <thead>\n",
       "    <tr style=\"text-align: right;\">\n",
       "      <th></th>\n",
       "      <th>0</th>\n",
       "      <th>1</th>\n",
       "      <th>2</th>\n",
       "    </tr>\n",
       "  </thead>\n",
       "  <tbody>\n",
       "    <tr>\n",
       "      <th>0</th>\n",
       "      <td>1</td>\n",
       "      <td>2</td>\n",
       "      <td>3</td>\n",
       "    </tr>\n",
       "    <tr>\n",
       "      <th>1</th>\n",
       "      <td>4</td>\n",
       "      <td>5</td>\n",
       "      <td>6</td>\n",
       "    </tr>\n",
       "    <tr>\n",
       "      <th>2</th>\n",
       "      <td>7</td>\n",
       "      <td>8</td>\n",
       "      <td>9</td>\n",
       "    </tr>\n",
       "  </tbody>\n",
       "</table>\n",
       "</div>"
      ],
      "text/plain": [
       "   0  1  2\n",
       "0  1  2  3\n",
       "1  4  5  6\n",
       "2  7  8  9"
      ]
     },
     "metadata": {},
     "execution_count": 385
    }
   ],
   "metadata": {}
  },
  {
   "cell_type": "code",
   "execution_count": 386,
   "source": [
    "data= np.array([[1,2,3],[4,5,6],[7,8,9],[10,11,12]])\r\n",
    "index=pd.date_range('2021/09/27',periods=4)\r\n",
    "columns=['A','B','C']\r\n",
    "pd.DataFrame(data,index=index,columns=columns)\r\n",
    "\r\n",
    "# 출력 결과에서 index와 columns에 지정한 값들이 들어간 것을 볼 수 있다."
   ],
   "outputs": [
    {
     "output_type": "execute_result",
     "data": {
      "text/html": [
       "<div>\n",
       "<style scoped>\n",
       "    .dataframe tbody tr th:only-of-type {\n",
       "        vertical-align: middle;\n",
       "    }\n",
       "\n",
       "    .dataframe tbody tr th {\n",
       "        vertical-align: top;\n",
       "    }\n",
       "\n",
       "    .dataframe thead th {\n",
       "        text-align: right;\n",
       "    }\n",
       "</style>\n",
       "<table border=\"1\" class=\"dataframe\">\n",
       "  <thead>\n",
       "    <tr style=\"text-align: right;\">\n",
       "      <th></th>\n",
       "      <th>A</th>\n",
       "      <th>B</th>\n",
       "      <th>C</th>\n",
       "    </tr>\n",
       "  </thead>\n",
       "  <tbody>\n",
       "    <tr>\n",
       "      <th>2021-09-27</th>\n",
       "      <td>1</td>\n",
       "      <td>2</td>\n",
       "      <td>3</td>\n",
       "    </tr>\n",
       "    <tr>\n",
       "      <th>2021-09-28</th>\n",
       "      <td>4</td>\n",
       "      <td>5</td>\n",
       "      <td>6</td>\n",
       "    </tr>\n",
       "    <tr>\n",
       "      <th>2021-09-29</th>\n",
       "      <td>7</td>\n",
       "      <td>8</td>\n",
       "      <td>9</td>\n",
       "    </tr>\n",
       "    <tr>\n",
       "      <th>2021-09-30</th>\n",
       "      <td>10</td>\n",
       "      <td>11</td>\n",
       "      <td>12</td>\n",
       "    </tr>\n",
       "  </tbody>\n",
       "</table>\n",
       "</div>"
      ],
      "text/plain": [
       "             A   B   C\n",
       "2021-09-27   1   2   3\n",
       "2021-09-28   4   5   6\n",
       "2021-09-29   7   8   9\n",
       "2021-09-30  10  11  12"
      ]
     },
     "metadata": {},
     "execution_count": 386
    }
   ],
   "metadata": {}
  },
  {
   "cell_type": "code",
   "execution_count": 388,
   "source": [
    "data ={'연도':[2015,2016,2017,2018,2019,2020],'지사':['한국','중국','일본','태국','영국','미국'],'고객수':[200,250,450,300,500,600]}\r\n",
    "\r\n",
    "data"
   ],
   "outputs": [
    {
     "output_type": "execute_result",
     "data": {
      "text/plain": [
       "{'연도': [2015, 2016, 2017, 2018, 2019, 2020],\n",
       " '지사': ['한국', '중국', '일본', '태국', '영국', '미국'],\n",
       " '고객수': [200, 250, 450, 300, 500, 600]}"
      ]
     },
     "metadata": {},
     "execution_count": 388
    }
   ],
   "metadata": {}
  },
  {
   "cell_type": "code",
   "execution_count": 389,
   "source": [
    "pd.DataFrame(data)\r\n",
    "\r\n",
    "# index는 자동으로 생성이 되었고 딕셔너리의 키값이 columns에 들어감\r\n",
    "# 자세히 살펴보면 열은 입력한 순서대로 생성되지 않을 수도 있다.\r\n",
    "# 순서까지 지정하려면 columns = [컬럼명]을 이용해서 순서까지 지정한다."
   ],
   "outputs": [
    {
     "output_type": "execute_result",
     "data": {
      "text/html": [
       "<div>\n",
       "<style scoped>\n",
       "    .dataframe tbody tr th:only-of-type {\n",
       "        vertical-align: middle;\n",
       "    }\n",
       "\n",
       "    .dataframe tbody tr th {\n",
       "        vertical-align: top;\n",
       "    }\n",
       "\n",
       "    .dataframe thead th {\n",
       "        text-align: right;\n",
       "    }\n",
       "</style>\n",
       "<table border=\"1\" class=\"dataframe\">\n",
       "  <thead>\n",
       "    <tr style=\"text-align: right;\">\n",
       "      <th></th>\n",
       "      <th>연도</th>\n",
       "      <th>지사</th>\n",
       "      <th>고객수</th>\n",
       "    </tr>\n",
       "  </thead>\n",
       "  <tbody>\n",
       "    <tr>\n",
       "      <th>0</th>\n",
       "      <td>2015</td>\n",
       "      <td>한국</td>\n",
       "      <td>200</td>\n",
       "    </tr>\n",
       "    <tr>\n",
       "      <th>1</th>\n",
       "      <td>2016</td>\n",
       "      <td>중국</td>\n",
       "      <td>250</td>\n",
       "    </tr>\n",
       "    <tr>\n",
       "      <th>2</th>\n",
       "      <td>2017</td>\n",
       "      <td>일본</td>\n",
       "      <td>450</td>\n",
       "    </tr>\n",
       "    <tr>\n",
       "      <th>3</th>\n",
       "      <td>2018</td>\n",
       "      <td>태국</td>\n",
       "      <td>300</td>\n",
       "    </tr>\n",
       "    <tr>\n",
       "      <th>4</th>\n",
       "      <td>2019</td>\n",
       "      <td>영국</td>\n",
       "      <td>500</td>\n",
       "    </tr>\n",
       "    <tr>\n",
       "      <th>5</th>\n",
       "      <td>2020</td>\n",
       "      <td>미국</td>\n",
       "      <td>600</td>\n",
       "    </tr>\n",
       "  </tbody>\n",
       "</table>\n",
       "</div>"
      ],
      "text/plain": [
       "     연도  지사  고객수\n",
       "0  2015  한국  200\n",
       "1  2016  중국  250\n",
       "2  2017  일본  450\n",
       "3  2018  태국  300\n",
       "4  2019  영국  500\n",
       "5  2020  미국  600"
      ]
     },
     "metadata": {},
     "execution_count": 389
    }
   ],
   "metadata": {}
  },
  {
   "cell_type": "code",
   "execution_count": 390,
   "source": [
    "pd.DataFrame(data, columns=['지사','고객수','연도'])"
   ],
   "outputs": [
    {
     "output_type": "execute_result",
     "data": {
      "text/html": [
       "<div>\n",
       "<style scoped>\n",
       "    .dataframe tbody tr th:only-of-type {\n",
       "        vertical-align: middle;\n",
       "    }\n",
       "\n",
       "    .dataframe tbody tr th {\n",
       "        vertical-align: top;\n",
       "    }\n",
       "\n",
       "    .dataframe thead th {\n",
       "        text-align: right;\n",
       "    }\n",
       "</style>\n",
       "<table border=\"1\" class=\"dataframe\">\n",
       "  <thead>\n",
       "    <tr style=\"text-align: right;\">\n",
       "      <th></th>\n",
       "      <th>지사</th>\n",
       "      <th>고객수</th>\n",
       "      <th>연도</th>\n",
       "    </tr>\n",
       "  </thead>\n",
       "  <tbody>\n",
       "    <tr>\n",
       "      <th>0</th>\n",
       "      <td>한국</td>\n",
       "      <td>200</td>\n",
       "      <td>2015</td>\n",
       "    </tr>\n",
       "    <tr>\n",
       "      <th>1</th>\n",
       "      <td>중국</td>\n",
       "      <td>250</td>\n",
       "      <td>2016</td>\n",
       "    </tr>\n",
       "    <tr>\n",
       "      <th>2</th>\n",
       "      <td>일본</td>\n",
       "      <td>450</td>\n",
       "      <td>2017</td>\n",
       "    </tr>\n",
       "    <tr>\n",
       "      <th>3</th>\n",
       "      <td>태국</td>\n",
       "      <td>300</td>\n",
       "      <td>2018</td>\n",
       "    </tr>\n",
       "    <tr>\n",
       "      <th>4</th>\n",
       "      <td>영국</td>\n",
       "      <td>500</td>\n",
       "      <td>2019</td>\n",
       "    </tr>\n",
       "    <tr>\n",
       "      <th>5</th>\n",
       "      <td>미국</td>\n",
       "      <td>600</td>\n",
       "      <td>2020</td>\n",
       "    </tr>\n",
       "  </tbody>\n",
       "</table>\n",
       "</div>"
      ],
      "text/plain": [
       "   지사  고객수    연도\n",
       "0  한국  200  2015\n",
       "1  중국  250  2016\n",
       "2  일본  450  2017\n",
       "3  태국  300  2018\n",
       "4  영국  500  2019\n",
       "5  미국  600  2020"
      ]
     },
     "metadata": {},
     "execution_count": 390
    }
   ],
   "metadata": {}
  },
  {
   "cell_type": "code",
   "execution_count": 393,
   "source": [
    "# dataframe에서 index, columns, value는 각각 dataframe_data.index, dataframe_data.columns, dataframe_values.index 로 확인한다.\r\n",
    "\r\n",
    "df=pd.DataFrame(data, columns=['지사','고객수','연도'])\r\n",
    "\r\n",
    "df.index\r\n",
    "df.columns\r\n",
    "df.values"
   ],
   "outputs": [
    {
     "output_type": "execute_result",
     "data": {
      "text/plain": [
       "array([['한국', 200, 2015],\n",
       "       ['중국', 250, 2016],\n",
       "       ['일본', 450, 2017],\n",
       "       ['태국', 300, 2018],\n",
       "       ['영국', 500, 2019],\n",
       "       ['미국', 600, 2020]], dtype=object)"
      ]
     },
     "metadata": {},
     "execution_count": 393
    }
   ],
   "metadata": {}
  },
  {
   "cell_type": "code",
   "execution_count": 395,
   "source": [
    "# 데이터 연산\r\n",
    "\r\n",
    "#pandas의 series()와 pandas의 dataframe으로 생성한 데이터 끼리는 사칙 연산을 할 수 있다.\r\n",
    "s1=pd.Series([1,2,3,4,5])\r\n",
    "s2= pd.Series([10,20,40,50])\r\n",
    "\r\n",
    "s1 +s2"
   ],
   "outputs": [
    {
     "output_type": "execute_result",
     "data": {
      "text/plain": [
       "0    11.0\n",
       "1    22.0\n",
       "2    43.0\n",
       "3    54.0\n",
       "4     NaN\n",
       "dtype: float64"
      ]
     },
     "metadata": {},
     "execution_count": 395
    }
   ],
   "metadata": {}
  },
  {
   "cell_type": "code",
   "execution_count": null,
   "source": [
    "#파이선의 리스트와 넘파이의 배열과는 다르게\r\n",
    "# pandas의 데이터끼리는 서로 크기가 달라고 연산을 할 수 있다\r\n",
    "# 이경우 연산을 할 수 있는 항목들만 연산을 수행한다. 업으면 nan표시"
   ],
   "outputs": [],
   "metadata": {}
  },
  {
   "cell_type": "code",
   "execution_count": 12,
   "source": [
    "t1={'A':[1,2,3,4,5],'B':[100,200,300,400,500]} \r\n",
    "df1=pd.DataFrame(t1)\r\n",
    "t2={'A':[1,2,3,4],'B':[100,200,300,400]} \r\n",
    "df2=pd.DataFrame(t2)"
   ],
   "outputs": [],
   "metadata": {}
  },
  {
   "cell_type": "code",
   "execution_count": 399,
   "source": [
    "df1+df2"
   ],
   "outputs": [
    {
     "output_type": "execute_result",
     "data": {
      "text/html": [
       "<div>\n",
       "<style scoped>\n",
       "    .dataframe tbody tr th:only-of-type {\n",
       "        vertical-align: middle;\n",
       "    }\n",
       "\n",
       "    .dataframe tbody tr th {\n",
       "        vertical-align: top;\n",
       "    }\n",
       "\n",
       "    .dataframe thead th {\n",
       "        text-align: right;\n",
       "    }\n",
       "</style>\n",
       "<table border=\"1\" class=\"dataframe\">\n",
       "  <thead>\n",
       "    <tr style=\"text-align: right;\">\n",
       "      <th></th>\n",
       "      <th>A</th>\n",
       "      <th>B</th>\n",
       "    </tr>\n",
       "  </thead>\n",
       "  <tbody>\n",
       "    <tr>\n",
       "      <th>0</th>\n",
       "      <td>2.0</td>\n",
       "      <td>200.0</td>\n",
       "    </tr>\n",
       "    <tr>\n",
       "      <th>1</th>\n",
       "      <td>4.0</td>\n",
       "      <td>400.0</td>\n",
       "    </tr>\n",
       "    <tr>\n",
       "      <th>2</th>\n",
       "      <td>6.0</td>\n",
       "      <td>600.0</td>\n",
       "    </tr>\n",
       "    <tr>\n",
       "      <th>3</th>\n",
       "      <td>8.0</td>\n",
       "      <td>800.0</td>\n",
       "    </tr>\n",
       "    <tr>\n",
       "      <th>4</th>\n",
       "      <td>NaN</td>\n",
       "      <td>NaN</td>\n",
       "    </tr>\n",
       "  </tbody>\n",
       "</table>\n",
       "</div>"
      ],
      "text/plain": [
       "     A      B\n",
       "0  2.0  200.0\n",
       "1  4.0  400.0\n",
       "2  6.0  600.0\n",
       "3  8.0  800.0\n",
       "4  NaN    NaN"
      ]
     },
     "metadata": {},
     "execution_count": 399
    }
   ],
   "metadata": {}
  },
  {
   "cell_type": "markdown",
   "source": [
    "pandas데이터 통계 분석"
   ],
   "metadata": {}
  },
  {
   "cell_type": "code",
   "execution_count": 13,
   "source": [
    "t3={'봄':[1,2,3,4,5],'여름':[5,6,7,8,9],'가을':[4,5,6,7,8],'겨울':[2,3,4,5,6]}\r\n",
    "\r\n",
    "index=['2021','2022','2023','2024','2025']\r\n",
    "\r\n",
    "df3=pd.DataFrame(t3,index=index)"
   ],
   "outputs": [],
   "metadata": {}
  },
  {
   "cell_type": "code",
   "execution_count": 14,
   "source": [
    "df3.mean()\r\n",
    "#계절별 평균"
   ],
   "outputs": [
    {
     "output_type": "execute_result",
     "data": {
      "text/plain": [
       "봄     3.0\n",
       "여름    7.0\n",
       "가을    6.0\n",
       "겨울    4.0\n",
       "dtype: float64"
      ]
     },
     "metadata": {},
     "execution_count": 14
    }
   ],
   "metadata": {}
  },
  {
   "cell_type": "code",
   "execution_count": 406,
   "source": [
    "df3.std()\r\n",
    "#계절별 표준편차"
   ],
   "outputs": [
    {
     "output_type": "execute_result",
     "data": {
      "text/plain": [
       "봄     1.581139\n",
       "여름    1.581139\n",
       "가을    1.581139\n",
       "겨울    1.581139\n",
       "dtype: float64"
      ]
     },
     "metadata": {},
     "execution_count": 406
    }
   ],
   "metadata": {}
  },
  {
   "cell_type": "code",
   "execution_count": 407,
   "source": [
    "df3.mean(axis=1) # 0기본, 열별로, 1 = 행별로"
   ],
   "outputs": [
    {
     "output_type": "execute_result",
     "data": {
      "text/plain": [
       "2021    3.0\n",
       "2022    4.0\n",
       "2023    5.0\n",
       "2024    6.0\n",
       "2025    7.0\n",
       "dtype: float64"
      ]
     },
     "metadata": {},
     "execution_count": 407
    }
   ],
   "metadata": {}
  },
  {
   "cell_type": "code",
   "execution_count": 408,
   "source": [
    "df3.describe()"
   ],
   "outputs": [
    {
     "output_type": "execute_result",
     "data": {
      "text/html": [
       "<div>\n",
       "<style scoped>\n",
       "    .dataframe tbody tr th:only-of-type {\n",
       "        vertical-align: middle;\n",
       "    }\n",
       "\n",
       "    .dataframe tbody tr th {\n",
       "        vertical-align: top;\n",
       "    }\n",
       "\n",
       "    .dataframe thead th {\n",
       "        text-align: right;\n",
       "    }\n",
       "</style>\n",
       "<table border=\"1\" class=\"dataframe\">\n",
       "  <thead>\n",
       "    <tr style=\"text-align: right;\">\n",
       "      <th></th>\n",
       "      <th>봄</th>\n",
       "      <th>여름</th>\n",
       "      <th>가을</th>\n",
       "      <th>겨울</th>\n",
       "    </tr>\n",
       "  </thead>\n",
       "  <tbody>\n",
       "    <tr>\n",
       "      <th>count</th>\n",
       "      <td>5.000000</td>\n",
       "      <td>5.000000</td>\n",
       "      <td>5.000000</td>\n",
       "      <td>5.000000</td>\n",
       "    </tr>\n",
       "    <tr>\n",
       "      <th>mean</th>\n",
       "      <td>3.000000</td>\n",
       "      <td>7.000000</td>\n",
       "      <td>6.000000</td>\n",
       "      <td>4.000000</td>\n",
       "    </tr>\n",
       "    <tr>\n",
       "      <th>std</th>\n",
       "      <td>1.581139</td>\n",
       "      <td>1.581139</td>\n",
       "      <td>1.581139</td>\n",
       "      <td>1.581139</td>\n",
       "    </tr>\n",
       "    <tr>\n",
       "      <th>min</th>\n",
       "      <td>1.000000</td>\n",
       "      <td>5.000000</td>\n",
       "      <td>4.000000</td>\n",
       "      <td>2.000000</td>\n",
       "    </tr>\n",
       "    <tr>\n",
       "      <th>25%</th>\n",
       "      <td>2.000000</td>\n",
       "      <td>6.000000</td>\n",
       "      <td>5.000000</td>\n",
       "      <td>3.000000</td>\n",
       "    </tr>\n",
       "    <tr>\n",
       "      <th>50%</th>\n",
       "      <td>3.000000</td>\n",
       "      <td>7.000000</td>\n",
       "      <td>6.000000</td>\n",
       "      <td>4.000000</td>\n",
       "    </tr>\n",
       "    <tr>\n",
       "      <th>75%</th>\n",
       "      <td>4.000000</td>\n",
       "      <td>8.000000</td>\n",
       "      <td>7.000000</td>\n",
       "      <td>5.000000</td>\n",
       "    </tr>\n",
       "    <tr>\n",
       "      <th>max</th>\n",
       "      <td>5.000000</td>\n",
       "      <td>9.000000</td>\n",
       "      <td>8.000000</td>\n",
       "      <td>6.000000</td>\n",
       "    </tr>\n",
       "  </tbody>\n",
       "</table>\n",
       "</div>"
      ],
      "text/plain": [
       "              봄        여름        가을        겨울\n",
       "count  5.000000  5.000000  5.000000  5.000000\n",
       "mean   3.000000  7.000000  6.000000  4.000000\n",
       "std    1.581139  1.581139  1.581139  1.581139\n",
       "min    1.000000  5.000000  4.000000  2.000000\n",
       "25%    2.000000  6.000000  5.000000  3.000000\n",
       "50%    3.000000  7.000000  6.000000  4.000000\n",
       "75%    4.000000  8.000000  7.000000  5.000000\n",
       "max    5.000000  9.000000  8.000000  6.000000"
      ]
     },
     "metadata": {},
     "execution_count": 408
    }
   ],
   "metadata": {}
  },
  {
   "cell_type": "markdown",
   "source": [
    "# 대량의 데이터가 입력된 데이터프레임에서 원하는 데이터만\r\n",
    "# 선택하는 것은 데이터를 분석할 때 꼭 필요하다.\r\n",
    "# 원본 훼손 없이 원하는 부분만 선택하는 방법들을 살펴보자\r\n"
   ],
   "metadata": {}
  },
  {
   "cell_type": "code",
   "execution_count": 409,
   "source": [
    "scores= pd.read_excel('학생시험성적.xlsx')\r\n",
    "scores"
   ],
   "outputs": [
    {
     "output_type": "execute_result",
     "data": {
      "text/html": [
       "<div>\n",
       "<style scoped>\n",
       "    .dataframe tbody tr th:only-of-type {\n",
       "        vertical-align: middle;\n",
       "    }\n",
       "\n",
       "    .dataframe tbody tr th {\n",
       "        vertical-align: top;\n",
       "    }\n",
       "\n",
       "    .dataframe thead th {\n",
       "        text-align: right;\n",
       "    }\n",
       "</style>\n",
       "<table border=\"1\" class=\"dataframe\">\n",
       "  <thead>\n",
       "    <tr style=\"text-align: right;\">\n",
       "      <th></th>\n",
       "      <th>학생</th>\n",
       "      <th>국어</th>\n",
       "      <th>영어</th>\n",
       "      <th>수학</th>\n",
       "      <th>평균</th>\n",
       "    </tr>\n",
       "  </thead>\n",
       "  <tbody>\n",
       "    <tr>\n",
       "      <th>0</th>\n",
       "      <td>A</td>\n",
       "      <td>80</td>\n",
       "      <td>90</td>\n",
       "      <td>85</td>\n",
       "      <td>85.000000</td>\n",
       "    </tr>\n",
       "    <tr>\n",
       "      <th>1</th>\n",
       "      <td>B</td>\n",
       "      <td>90</td>\n",
       "      <td>95</td>\n",
       "      <td>95</td>\n",
       "      <td>93.333333</td>\n",
       "    </tr>\n",
       "    <tr>\n",
       "      <th>2</th>\n",
       "      <td>C</td>\n",
       "      <td>95</td>\n",
       "      <td>70</td>\n",
       "      <td>75</td>\n",
       "      <td>80.000000</td>\n",
       "    </tr>\n",
       "    <tr>\n",
       "      <th>3</th>\n",
       "      <td>D</td>\n",
       "      <td>70</td>\n",
       "      <td>85</td>\n",
       "      <td>80</td>\n",
       "      <td>78.333333</td>\n",
       "    </tr>\n",
       "    <tr>\n",
       "      <th>4</th>\n",
       "      <td>E</td>\n",
       "      <td>75</td>\n",
       "      <td>90</td>\n",
       "      <td>85</td>\n",
       "      <td>83.333333</td>\n",
       "    </tr>\n",
       "  </tbody>\n",
       "</table>\n",
       "</div>"
      ],
      "text/plain": [
       "  학생  국어  영어  수학         평균\n",
       "0  A  80  90  85  85.000000\n",
       "1  B  90  95  95  93.333333\n",
       "2  C  95  70  75  80.000000\n",
       "3  D  70  85  80  78.333333\n",
       "4  E  75  90  85  83.333333"
      ]
     },
     "metadata": {},
     "execution_count": 409
    }
   ],
   "metadata": {}
  }
 ],
 "metadata": {
  "orig_nbformat": 4,
  "language_info": {
   "name": "python",
   "version": "3.8.8",
   "mimetype": "text/x-python",
   "codemirror_mode": {
    "name": "ipython",
    "version": 3
   },
   "pygments_lexer": "ipython3",
   "nbconvert_exporter": "python",
   "file_extension": ".py"
  },
  "kernelspec": {
   "name": "python3",
   "display_name": "Python 3.8.8 64-bit ('base': conda)"
  },
  "interpreter": {
   "hash": "b3ba2566441a7c06988d0923437866b63cedc61552a5af99d1f4fb67d367b25f"
  }
 },
 "nbformat": 4,
 "nbformat_minor": 2
}