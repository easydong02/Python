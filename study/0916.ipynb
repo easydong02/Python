{
 "cells": [
  {
   "cell_type": "code",
   "execution_count": 1,
   "source": [
    "arrayD=[12,25,36,20,30,8,42]\r\n",
    "arrayH=[0] *11\r\n",
    "i=0\r\n",
    "while i<7:\r\n",
    "    k=arrayD[i] %11\r\n",
    "    while True:\r\n",
    "        if arrayH[k] ==0:\r\n",
    "            arrayH[k] = arrayD[i]\r\n",
    "            break\r\n",
    "        else:\r\n",
    "            k= (k+1)%11\r\n",
    "            continue\r\n",
    "    i +=1 \r\n",
    "    \r\n",
    "print(arrayH)\r\n",
    "    \r\n",
    "\r\n",
    "# 12 -> 1\r\n",
    "# 25 -> 3\r\n",
    "# 36 -> 3(충돌)"
   ],
   "outputs": [
    {
     "output_type": "stream",
     "name": "stdout",
     "text": [
      "[42, 12, 0, 25, 36, 0, 0, 0, 30, 20, 8]\n"
     ]
    }
   ],
   "metadata": {}
  },
  {
   "cell_type": "code",
   "execution_count": 2,
   "source": [
    "x = 36\r\n",
    "k =x%11\r\n",
    "while True:\r\n",
    "    if arrayH[k]!=0:\r\n",
    "        if arrayH[k]==x :\r\n",
    "            print('저장 위치는 {}번째 요소입니다.'.format(k))\r\n",
    "            break\r\n",
    "        else:\r\n",
    "            k=(k+1)%11\r\n",
    "            continue\r\n",
    "    else:\r\n",
    "        print('{}는 존재하지 않습니다.'.format(x))\r\n",
    "        break"
   ],
   "outputs": [
    {
     "output_type": "stream",
     "name": "stdout",
     "text": [
      "저장 위치는 4번째 요소입니다.\n"
     ]
    }
   ],
   "metadata": {}
  },
  {
   "cell_type": "markdown",
   "source": [
    "# 정렬 알고리즘\r\n",
    "데이터를 오름차순 또는 내림차순으로 나열하는 알고리즘 다양한 분야에 상당히 많이 사용된다.\r\n",
    "\r\n",
    "    1. 단순 선택법\r\n",
    "    2. 단순 교환법 (bubble sort)\r\n",
    "    3. 단순 삽입법\r\n",
    "    4. 퀵 정렬\r\n",
    "    "
   ],
   "metadata": {}
  },
  {
   "cell_type": "markdown",
   "source": [
    "1. 단순 선택법 - 가장 작은 데이터를 선택하여 맨 앞으로 순서대로 정렬한다.\r\n",
    "\r\n",
    "12 13 11 14 10\r\n",
    "    가장 작은 10을 맨 앞과 교환\r\n",
    "10 13 11 14 12\r\n",
    "    그 다음 작은 11을 두번째 값과 교환\r\n",
    "10 11 13 14 12\r\n",
    "    --- 계속 교환"
   ],
   "metadata": {}
  },
  {
   "cell_type": "markdown",
   "source": [
    "단순 선택법 알고리즘\r\n",
    "    1. 탐색 범위의 최소값을 찾는 처리\r\n",
    "    2. 탐색 범위의 최소값을 맨 앞 요소와 교환"
   ],
   "metadata": {}
  },
  {
   "cell_type": "code",
   "execution_count": 36,
   "source": [
    "arr=[10,54,5,21,6,46,87,95,200,154]\r\n",
    "i=0\r\n",
    "while i<len(arr):\r\n",
    "    m =min(arr[i:])\r\n",
    "    arr[arr.index(m)],arr[i]=arr[i],m\r\n",
    "    i +=1\r\n",
    "\r\n",
    "print(arr)"
   ],
   "outputs": [
    {
     "output_type": "stream",
     "name": "stdout",
     "text": [
      "[5, 6, 10, 21, 46, 54, 87, 95, 154, 200]\n"
     ]
    }
   ],
   "metadata": {}
  },
  {
   "cell_type": "code",
   "execution_count": 32,
   "source": [
    "a= 10\r\n",
    "b= 20\r\n",
    "a,b =b,a\r\n",
    "\r\n",
    "print(a,b)"
   ],
   "outputs": [
    {
     "output_type": "stream",
     "name": "stdout",
     "text": [
      "20 10\n"
     ]
    }
   ],
   "metadata": {}
  },
  {
   "cell_type": "code",
   "execution_count": 42,
   "source": [
    "ar=[10,40,5,26,50]\r\n",
    "i=0\r\n",
    "while i<4:\r\n",
    "    min=i\r\n",
    "    k= i+1\r\n",
    "    while k<5:\r\n",
    "        if ar[k]<ar[min]:\r\n",
    "            min=k\r\n",
    "        k +=1\r\n",
    "    t=ar[i]\r\n",
    "    ar[i] =ar[min]\r\n",
    "    ar[min]=t\r\n",
    "    i+=1\r\n",
    "\r\n",
    "print(ar)\r\n",
    "    "
   ],
   "outputs": [
    {
     "output_type": "stream",
     "name": "stdout",
     "text": [
      "[5, 10, 26, 40, 50]\n"
     ]
    }
   ],
   "metadata": {}
  },
  {
   "cell_type": "markdown",
   "source": [
    "단순 교환법 (bubble sort)\r\n",
    "    - 단순 교환법은 인접한 데이터를 교환하는 처리를 반복하여 전체를 정렬한다. \r\n",
    "    - 단순한 알고리즘이지만 실행 속도가 느리다. \r\n",
    "\r\n",
    "    단순 교환법은 버블 정렬 bubble sort라고도 한다. 정렬되는 모습이 마치 거품이 수면위에서 움직이는 것처럼 보인다고 해서 붙여진 이름이다."
   ],
   "metadata": {}
  },
  {
   "cell_type": "markdown",
   "source": [
    "단순 교환 정렬 알고리즘\r\n",
    "\r\n",
    "5 3 4 1 2 : 가장 뒤쪽 두개를 비교한다. 1 2 이미 정렬이 된 상태이르모 그대로 둔다.\r\n",
    "\r\n",
    "5 3 4 1 2 : 2를 제외한 4 1 비교한다. 이번엔 정렬하기 위해 교환한다.\r\n",
    "\r\n",
    "5 3 1 4 2 : 1 과 3을 비교한다. 정렬을 위해 교환\r\n",
    "\r\n",
    "5 1 3 4 2 : 1과 5를 비교한다. 교환한다.\r\n",
    "\r\n",
    "1 5 3 4 2 : 최종 1위치가 확정됐다.\r\n",
    "\r\n",
    "1 5 3 2 4\r\n",
    "\r\n",
    "1 5 2 3 4\r\n",
    "\r\n",
    "1 2 5 3 4 : 2확정\r\n",
    "\r\n",
    "1 2 5 3 4\r\n",
    "\r\n",
    "1 2 3 5 4 : 3확정\r\n",
    "\r\n",
    "1 2 3 4 5 : 4, 5 확정"
   ],
   "metadata": {}
  },
  {
   "cell_type": "markdown",
   "source": [
    "단순 교환법 버블소트 알고리즘\r\n",
    "1. 오른쪽 끝 요소부터 순서대로 인접한 데이터를 오름차순으로 교환하여 정렬한다.\r\n",
    "2. 왼쪽 끝 요소부터 순서대로 하나씩 데이터를 오름차순으로 정렬된 요소를 확정해나간다."
   ],
   "metadata": {}
  },
  {
   "cell_type": "code",
   "execution_count": 91,
   "source": [
    "arr=[40,24,11,7,8]\r\n",
    "\r\n",
    "k=0\r\n",
    "while True:\r\n",
    "    i=4\r\n",
    "    if k<4:\r\n",
    "        while True:\r\n",
    "            if i>k:\r\n",
    "                if arr[i-1]>arr[i]:\r\n",
    "                    t=arr[i-1]\r\n",
    "                    arr[i-1]=arr[i]\r\n",
    "                    arr[i]=t\r\n",
    "                i -=1\r\n",
    "                continue\r\n",
    "            else:\r\n",
    "                k +=1\r\n",
    "                break\r\n",
    "    else:\r\n",
    "        print(arr)\r\n",
    "        break"
   ],
   "outputs": [
    {
     "output_type": "stream",
     "name": "stdout",
     "text": [
      "[7, 8, 11, 24, 40]\n"
     ]
    }
   ],
   "metadata": {}
  },
  {
   "cell_type": "markdown",
   "source": [
    "단순 삽입법\r\n",
    "\r\n",
    "올바른 순서가 되도록 데이터를 삽입한다. 다른 이름으로 삽입정렬, 기본삽입법, 삽입법이라고 한다.\r\n",
    "\r\n",
    "요소를 하나씩 차례대로 올바른 위치에 삽입하여 최종적으로 전체를 정렬한다.\r\n",
    "\r\n",
    "5 3 4 1 2\r\n",
    "    먼저 제일 왼쪽에 있는 숫자를 정렬이된 상태라고 가정한다. 나머지 4개는 정렬이 안 된 상태로 가정한다.\r\n",
    "\r\n",
    "5       3 4 1 2\r\n",
    "    아직 아무것도 하지 않은 단계에서 정렬된 공이라고 가정하는 이유는 정렬된 공이 하나도 없으면 대소를 비교할 대상이 없기 때문이다. 따라서 정렬되지 않은 공을 정확한 위치에 삽입할 수 없기 때문에 우선 0번의 데이터를 '정렬되었다'라고 가정한다.\r\n",
    "\r\n",
    "    정렬 되지 않은 데이터 중에서 가장 왼쪽의 데이터부터 정렬된 공의 올바른 위치에 삽입하는 방법을 사용한다. 현재 정렬되지 않은 공들의 가장 왼쪽에 있는 3데이터를 정렬된 데이터 즉, 5의 올바른 위치에 삽입한다. 정확한 위치는 5의 앞이된다. 3을 5의 앞에 삽입한다.\r\n",
    "\r\n",
    "3 5      4 1 2\r\n",
    "\r\n",
    "    원래 0번 위치에 있던 데이터 5를 1의 위치로 옮기고 3데이터를 0번째로 넣는다. 이제 0,1 번째가 '정렬된 상태'가 되었다.\r\n",
    "\r\n",
    "    다음으로 index 2번째에 있는 4 데이터를 '정렬된 데이터' 중에 올바른 위치로 삽입한다.\r\n",
    "\r\n",
    "3 4 5     1 2\r\n",
    "    현재 3 4 5가 정렬된 상태가 되었다. 1을 올바른 위치에 삽입한다."
   ],
   "metadata": {}
  },
  {
   "cell_type": "markdown",
   "source": [
    "단순 삽입법의 알고리즘\r\n",
    "\r\n",
    "삽입하고 싶은 데이터는 변수를 별도로 준비한다.\r\n",
    "\r\n",
    "변수의 데이터를 정렬된 데이터와 순서대로 비교한다. 변수의 데이터보다 작은 데이터가 발견되면 그 뒤의 요소에 변수의 데이터를 삽입한다."
   ],
   "metadata": {}
  },
  {
   "cell_type": "code",
   "execution_count": 92,
   "source": [
    "arr=[5,3,4,1,2]\r\n",
    "i=1\r\n",
    "\r\n",
    "while True:\r\n",
    "    if i<5:\r\n",
    "        x=arr[i]\r\n",
    "        k=i\r\n",
    "        while True:\r\n",
    "            if k>0 and arr[k-1]>x:\r\n",
    "                arr[k]=arr[k-1]\r\n",
    "                k -=1\r\n",
    "            else:\r\n",
    "                break\r\n",
    "        arr[k]=x\r\n",
    "        i+=1\r\n",
    "    else:\r\n",
    "        print(arr)\r\n",
    "        break\r\n",
    "\r\n",
    "#345 12"
   ],
   "outputs": [
    {
     "output_type": "stream",
     "name": "stdout",
     "text": [
      "[1, 2, 3, 4, 5]\n"
     ]
    }
   ],
   "metadata": {}
  },
  {
   "cell_type": "markdown",
   "source": [
    "단순 삽입법은 요소를 하나씩 차례대로 올바른 위치에 삽입함으로 전체를 정렬하는 알고리즘이다. 정렬의 실행 속도는 그다지 빠르지 않기 때문에 데이터가 많은 경우에는 적합하지 않지만 정렬을 하기 전에 데이터가 어느정도 정렬되어 있는 상태라면, 고속 처리를 기대할 수 있다."
   ],
   "metadata": {}
  },
  {
   "cell_type": "markdown",
   "source": [
    "퀵정렬\r\n",
    "데이터를 대소 그룹의 둘로 나누어 분해한 후 전체를 정렬하는 알고리즘이다.\r\n",
    "실행속도 빠른 것이 특징이다.\r\n",
    "퀵정렬은 대량의 데이터를 정렬할 때 자주 사용된다. 유명한 정렬 알고리즘 중에서도 실제로 사용되는 빈도가 가장 높은 중요한 알고리즘이다.\r\n",
    "\r\n",
    "5 4 7 6 8 3 1 2 9\r\n",
    "\r\n",
    "    우선 정렬의 기준 데이터를 선택하자. 제일 왼쪽의 '5'를 기준 데이터로 사용한다.\r\n",
    "\r\n",
    "    그 기준 테이터인 5보다 작은 데이터들은 왼쪽으로 5보다 큰 데이터 들은 오른쪽으로 배치한다.\r\n",
    "\r\n",
    "    4 3 1 2          5       7 6 8 9\r\n",
    "\r\n",
    "    5보다 작은 데이터는 모두 5 왼쪽에 위치하고 5보다 큰 데이터는 모두 5 오른쪽에 위치한다. 5 는 인덱스 4에  정착했다. 앞으로 5는 더이상 위치를 변경시키지 않아도 된다. 위치가 정해졌다.\r\n",
    "\r\n",
    "    아 이제 5보다 작은 데이터 그룹과 5보다 큰 그룹에 대해 각각 지금 실행한 정렬과 똑같은 작업을 수행한다.\r\n",
    "\r\n",
    "    7 6 8 9\r\n",
    "\r\n",
    "    6        7      8 9"
   ],
   "metadata": {}
  },
  {
   "cell_type": "markdown",
   "source": [
    "퀵정렬 알고리즘\r\n",
    "    - 기준값을 경계로 데이터를 대소로 나누기\r\n",
    "    - 나눈 데이터에 반복적으로 똑같은 작업 실행하기\r\n",
    "\r\n",
    "먼저 배열을 준비하자 배열명은 arr 요소수는 9개\r\n",
    "\r\n",
    "\r\n",
    "0 1 2 3 4 5 6 7 8   (인덱스)\r\n",
    "5 4 7 6 8 3 1 2 9   (data)\r\n",
    "\r\n",
    "변수 5개를 준비하자.\r\n",
    "\r\n",
    "left : 제일 왼쪽 요소\r\n",
    "right : 제일 오른쪽 요소의 첨자\r\n",
    "i : 기준값보다 큰 요소\r\n",
    "k : 기준값보다 작은 요소\r\n",
    "w : 데이터 교환용 변수\r\n",
    "\r\n",
    "우선 left right에 각각 정렬 범위 맨 앞 요소의 첨자와 마지막 요소의 첨자를 대입한다. 0-> left 8->right 기준값은 맨 앞 요소로 하기 때문에 left를 사용해서 arr[left]라고 표현한다. i에는 left의 하나 오른쪽에 해당하는 첨자 (left+1)를 대입하고 k에 right을 대입하자.\r\n",
    "기준        i                        k\r\n",
    "5           4 7 6 8 3 1 2            9 (data)\r\n",
    "left                                 right\r\n",
    "\r\n",
    "변수 i를 사용해서 기준값보다 큰 요소를 찾자\r\n",
    "\r\n",
    "i는 기준값5보다 큰 요소를 찾는 변수다. 현재 위치에서 하나씩 오른쪽으로 이동하면서 기준값보다 큰 요소가 있는지 확인하고 거기서 멈춘다. 찾을 때는 조건식을 사용한다. arr[i]>arr[left]\r\n",
    "\r\n",
    "i 가 오른쪽 끝에 도달하는 시점에서 반복을 종료한다.\r\n",
    "\r\n",
    "5      4 7 6 8 3 1 2        9\r\n",
    "         -         - \r\n",
    "\r\n",
    "기준인 5보다 큰 7을 찾았고 9보다 작은 2를 찾았다. 이 두 데이터를 교환한다.\r\n",
    "\r\n",
    "5   4 2 6 8 3 1 7    9\r\n",
    "\r\n",
    "5   4 2 6 8 3 1 7    9\r\n",
    "        -     -\r\n",
    "\r\n",
    "5   4 2 1 8 3 6 7   9\r\n",
    "          - -\r\n",
    "\r\n",
    "5   4 2 1 3 8 6 7   9\r\n",
    "\r\n",
    "4 2 1 3     5       8 6 7 9\r\n",
    "\r\n",
    "\r\n",
    "나누어진 데이터에 다시 한번 같은 처리를 실행한다.\r\n",
    "\r\n",
    "퀵 정렬은 똑같은 처리를 반복함으로 데이터를 정렬하는 알고리즘이다. \r\n",
    "\r\n",
    "4 2 1 3     5       8 6 7 9\r\n",
    "\r\n",
    "2 1 3 4             7 6 8 9\r\n",
    "\r\n",
    "1 2                 6 7\r\n",
    "\r\n",
    "1 2 3 4 5 6 7 8 9"
   ],
   "metadata": {}
  },
  {
   "cell_type": "code",
   "execution_count": 105,
   "source": [
    "\r\n",
    "\r\n",
    "def Quick_sort(a):\r\n",
    "    n = len(a)\r\n",
    "    if n<=1:\r\n",
    "        return a\r\n",
    "    pivot = a[-1]       #오른쪽 끝을 기준\r\n",
    "\r\n",
    "    a_left = []\r\n",
    "    a_right = []\r\n",
    "\r\n",
    "    for i in range(n-1):\r\n",
    "        if a[i] >= pivot:\r\n",
    "            a_right.append(a[i])\r\n",
    "        elif a[i] < pivot:\r\n",
    "            a_left.append(a[i])\r\n",
    "    \r\n",
    "    return Quick_sort(a_left) + [pivot] +Quick_sort(a_right) \r\n",
    "\r\n",
    "\r\n",
    "a= [5,4,7,6,8,3,1,2,9]\r\n",
    "print(Quick_sort(a))"
   ],
   "outputs": [
    {
     "output_type": "stream",
     "name": "stdout",
     "text": [
      "[1, 2, 3, 4, 5, 6, 7, 8, 9]\n"
     ]
    }
   ],
   "metadata": {}
  },
  {
   "cell_type": "code",
   "execution_count": 103,
   "source": [
    "for i in range(8):\r\n",
    "    print(i)"
   ],
   "outputs": [
    {
     "output_type": "stream",
     "name": "stdout",
     "text": [
      "0\n",
      "1\n",
      "2\n",
      "3\n",
      "4\n",
      "5\n",
      "6\n",
      "7\n"
     ]
    }
   ],
   "metadata": {}
  }
 ],
 "metadata": {
  "orig_nbformat": 4,
  "language_info": {
   "name": "python",
   "version": "3.8.8",
   "mimetype": "text/x-python",
   "codemirror_mode": {
    "name": "ipython",
    "version": 3
   },
   "pygments_lexer": "ipython3",
   "nbconvert_exporter": "python",
   "file_extension": ".py"
  },
  "kernelspec": {
   "name": "python3",
   "display_name": "Python 3.8.8 64-bit ('base': conda)"
  },
  "interpreter": {
   "hash": "b3ba2566441a7c06988d0923437866b63cedc61552a5af99d1f4fb67d367b25f"
  }
 },
 "nbformat": 4,
 "nbformat_minor": 2
}